{
 "cells": [
  {
   "cell_type": "markdown",
   "metadata": {},
   "source": [
    "# <h1 style='background:#CCCCCC; border:0; color:black'><center><span style=\"color: royalblue;\"><span style=\"color: royalblue;\">UATT Part 2 Final Project</span></span></center></h1> \n",
    "# Using Machine learning in real life\n",
    "\n",
    "### Project Description\n",
    "\n",
    "* The project goal is to simulate a real-life ML in a production scenario \n",
    "* You will be required to show Data Engineering skills and use the current Best known method for ML production\n",
    "\n",
    "### What will you need to show?\n",
    "\n",
    "* Good usage of the tools for ml engineering \n",
    "* Ability to understand and monitor your model \n",
    "* Data engeneering skils\n",
    "\n",
    "### Project description \n",
    "**Part A: Backend**<br/>\n",
    "do this part in a controled docker environment,\n",
    "Once you are done push the environment to the cloud and name it: Backend Env\n",
    "1. You will get the code to train a ml tensorflow model \n",
    "<br/>**File_name: train_model.py** \n",
    "2. Add a method for saving the model \n",
    "3. Train the model on the train file and save a copy of the model\n",
    "<br/>**File_name: initail_training_data.csv** \n",
    "4. Test the model and report the results in a ml flow report\n",
    "<br/>**File_name: test_data.csv** \n",
    "5. Push the model and the code to dvr\n",
    "6. Save the docker image in a Dockerfile of binary image\n",
    "<br/><br/><br/>\n",
    "\n",
    "**Part B: Production Online data**<br/>\n",
    "Setup a production machine\n",
    "do this part in a controlled docker environment,\n",
    "Use the Backend Env that we developed in part A to recreate the state from Backend Env\n",
    "<br/>**File_name: data_gathered_at_[0..6]** <br/><br/>\n",
    "In it, you will have 6 files that represent 6 months\n",
    "6. Update the model at backend & Production\n",
    "Create a script that read from file 1-3 one by one (by the correct order: 1->2->3) for each of the new files:\n",
    "* Update the dataset with new data and push to git\n",
    "* Retrain the model to include the data\n",
    "* Check the model performance after retraining on the test, if worse do a pullback of the data and model update\n",
    "7. Create a model performance report using mlflow\n",
    "**Part C: Model benchmarking**<br/>\n",
    "8. Load a new model that was created by the script:<br/>\n",
    "**File_name: train_model_2.py** <br/>\n",
    "Create a script that read from folder 4-6 one by one for each of the new files:\n",
    "* do the same procedure as was done at checkpoint 6 \n",
    "* Update and report on both of the models by using ml flow with the current data"
   ]
  },
  {
   "cell_type": "markdown",
   "metadata": {},
   "source": [
    "# Submition:\n",
    "1. Notebook for exceution as ipynb\n",
    "2. HTML version of the same notebook\n",
    "3. The environment as a Dockerfile file or binary image\n",
    "4. A sreenshot of the mlflow monitoring window\n"
   ]
  }
 ],
 "metadata": {
  "kernelspec": {
   "display_name": "Python 3",
   "language": "python",
   "name": "python3"
  },
  "language_info": {
   "codemirror_mode": {
    "name": "ipython",
    "version": 3
   },
   "file_extension": ".py",
   "mimetype": "text/x-python",
   "name": "python",
   "nbconvert_exporter": "python",
   "pygments_lexer": "ipython3",
   "version": "3.8.10"
  }
 },
 "nbformat": 4,
 "nbformat_minor": 4
}
