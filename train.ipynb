{
 "cells": [
  {
   "cell_type": "markdown",
   "metadata": {
    "_cell_guid": "79c7e3d0-c299-4dcb-8224-4455121ee9b0",
    "_uuid": "d629ff2d2480ee46fbb7e2d37f6b5fab8052498a"
   },
   "source": [
    "![Elbit AI Academy](images/ai_acadamy.jpg)"
   ]
  },
  {
   "cell_type": "markdown",
   "metadata": {},
   "source": [
    "# <center> Final Project </center>"
   ]
  },
  {
   "cell_type": "markdown",
   "metadata": {},
   "source": [
    "### Project Description\n",
    "\n",
    "* The project goal is to simulate a real-life ML in a production scenario \n",
    "* You will be required to show Data Engineering skills and use the current Best known method for ML production\n"
   ]
  },
  {
   "cell_type": "markdown",
   "metadata": {},
   "source": [
    "### What will you need to show?\n",
    "\n",
    "* Good usage of the tools for ml engineering \n",
    "* Ability to understand and monitor your model \n",
    "* Data engeneering skils\n"
   ]
  },
  {
   "cell_type": "markdown",
   "metadata": {},
   "source": [
    "# <h1 style='background:#CCCCCC; border:0; color:black'><center><span style=\"color: royalblue;\"><span style=\"color: royalblue;\">Intro</span></span></center></h1> \n",
    "Welcome to the [facial expression competition](https://www.kaggle.com/c/challenges-in-representation-learning-facial-expression-recognition-challenge).\n",
    "\n",
    "\n",
    "\n",
    "<table>\n",
    "    <tr>\n",
    "        <td><img src=\"https://i.ibb.co/B394D0t/12.png\" width=\"100%\" height=\"100%\"></td>\n",
    "        <td><img src=\"https://i.ibb.co/5xV8MZj/40.png\" width=\"100%\" height=\"100%\"></td>\n",
    "        <td><img src=\"https://i.ibb.co/bFgXc43/19.png\" width=\"100%\" height=\"100%\"></td>\n",
    "    </tr>\n",
    "</table>\n",
    "The data consists of 48x48 pixel grayscale images of faces. The faces have been automatically registered so that the face is more or less centered and occupies about the same amount of space in each image. The task is to categorize each face based on the emotion shown in the facial expression in to one of seven categories:\n",
    "\n",
    "| categorie  | emotion  |\n",
    "|:---:|:---|\n",
    "| 0  | Angry  |\n",
    "| 1  |  Disgust |\n",
    "| 2  |  Fear |\n",
    "| 3  |  Happy |\n",
    "| 4  |  Sad |\n",
    "| 5  |  Surprise |\n",
    "| 6  | Neutral |\n",
    "\n",
    "We define a simple CNN model and compare the predicted results with ge given labels.\n",
    "#"
   ]
  },
  {
   "cell_type": "code",
   "execution_count": 1,
   "metadata": {},
   "outputs": [],
   "source": [
    "# the notebook should be run twice: \n",
    "#running_model = 1\n",
    "running_model = 2"
   ]
  },
  {
   "cell_type": "markdown",
   "metadata": {},
   "source": [
    "# <h1 style='background:#CCCCCC; border:0; color:black'><center><span style=\"color: royalblue;\">Libraries</span></center></h1> \n",
    "We load some standard libraries and packages of sklearn and keras."
   ]
  },
  {
   "cell_type": "code",
   "execution_count": 2,
   "metadata": {
    "_kg_hide-input": true
   },
   "outputs": [],
   "source": [
    "import pandas as pd\n",
    "import numpy as np\n",
    "import os\n",
    "import matplotlib.pyplot as plt\n",
    "\n",
    "from tensorflow.keras import models\n",
    "from tensorflow.keras.layers import Dense, Dropout, Flatten, Conv2D, MaxPool2D\n",
    "from tensorflow.keras.optimizers import RMSprop,Adam\n",
    "from tensorflow.keras.utils import to_categorical\n",
    "\n",
    "#second model imports\n",
    "from tensorflow.keras import datasets, layers\n",
    "from tensorflow.keras.layers import Input, Add, Dense, Activation, ZeroPadding2D,BatchNormalization, Flatten, Conv2D, AveragePooling2D, MaxPooling2D, GlobalMaxPooling2D\n",
    "\n",
    "from sklearn.metrics import confusion_matrix\n",
    "from mlxtend.plotting import plot_confusion_matrix\n",
    "\n",
    "import onnxruntime\n",
    "import onnxmltools\n",
    "import keras2onnx\n",
    "\n",
    "import mlflow\n",
    "\n",
    "np.set_printoptions(suppress=True)\n"
   ]
  },
  {
   "cell_type": "code",
   "execution_count": 3,
   "metadata": {},
   "outputs": [
    {
     "data": {
      "text/plain": [
       "'C:\\\\working\\\\gitos\\\\keras-onnx'"
      ]
     },
     "execution_count": 3,
     "metadata": {},
     "output_type": "execute_result"
    }
   ],
   "source": [
    "# check the current directory\n",
    "base_directory = %pwd\n",
    "base_directory"
   ]
  },
  {
   "cell_type": "code",
   "execution_count": 4,
   "metadata": {},
   "outputs": [],
   "source": [
    "models_path         = 'models/'\n",
    "data_v1_path        = 'data_v1/'\n",
    "data_v2_path        = 'data_v2/'\n",
    "dvc_repository_path = 'dvc_repository'\n",
    "raw_data_path       = 'raw_data/'\n",
    "mlflow_path         = 'mlflow/'"
   ]
  },
  {
   "cell_type": "markdown",
   "metadata": {},
   "source": [
    "# <h1 style='background:#CCCCCC; border:0; color:black'><center><span style=\"color: royalblue;\"><span style=\"color: royalblue;\">Configuration</span></span></center></h1> \n",
    "Get the configuration for a given month"
   ]
  },
  {
   "cell_type": "markdown",
   "metadata": {},
   "source": [
    "### Load the configuration for a given month"
   ]
  },
  {
   "cell_type": "code",
   "execution_count": 5,
   "metadata": {},
   "outputs": [
    {
     "data": {
      "text/html": [
       "<div>\n",
       "<style scoped>\n",
       "    .dataframe tbody tr th:only-of-type {\n",
       "        vertical-align: middle;\n",
       "    }\n",
       "\n",
       "    .dataframe tbody tr th {\n",
       "        vertical-align: top;\n",
       "    }\n",
       "\n",
       "    .dataframe thead th {\n",
       "        text-align: right;\n",
       "    }\n",
       "</style>\n",
       "<table border=\"1\" class=\"dataframe\">\n",
       "  <thead>\n",
       "    <tr style=\"text-align: right;\">\n",
       "      <th></th>\n",
       "      <th>Model</th>\n",
       "      <th>Train</th>\n",
       "      <th>Module</th>\n",
       "      <th>Accuracy-1</th>\n",
       "      <th>Accuracy-2</th>\n",
       "    </tr>\n",
       "  </thead>\n",
       "  <tbody>\n",
       "    <tr>\n",
       "      <th>0</th>\n",
       "      <td>1</td>\n",
       "      <td>initial_training_data.csv</td>\n",
       "      <td>facial_expression_0</td>\n",
       "      <td>0.249373</td>\n",
       "      <td>0.249373</td>\n",
       "    </tr>\n",
       "    <tr>\n",
       "      <th>1</th>\n",
       "      <td>1</td>\n",
       "      <td>data_gathered_at_0.csv</td>\n",
       "      <td>facial_expression_1</td>\n",
       "      <td>0.249373</td>\n",
       "      <td>0.249930</td>\n",
       "    </tr>\n",
       "    <tr>\n",
       "      <th>2</th>\n",
       "      <td>1</td>\n",
       "      <td>data_gathered_at_1.csv</td>\n",
       "      <td>facial_expression_2</td>\n",
       "      <td>0.169128</td>\n",
       "      <td>0.169685</td>\n",
       "    </tr>\n",
       "    <tr>\n",
       "      <th>3</th>\n",
       "      <td>1</td>\n",
       "      <td>data_gathered_at_2.csv</td>\n",
       "      <td>facial_expression_3</td>\n",
       "      <td>0.249373</td>\n",
       "      <td>0.249373</td>\n",
       "    </tr>\n",
       "    <tr>\n",
       "      <th>4</th>\n",
       "      <td>1</td>\n",
       "      <td>data_gathered_at_2_bk.csv</td>\n",
       "      <td>facial_expression_4</td>\n",
       "      <td>0.249373</td>\n",
       "      <td>0.248816</td>\n",
       "    </tr>\n",
       "    <tr>\n",
       "      <th>5</th>\n",
       "      <td>1</td>\n",
       "      <td>data_gathered_at_3.csv</td>\n",
       "      <td>facial_expression_5</td>\n",
       "      <td>0.249652</td>\n",
       "      <td>0.249930</td>\n",
       "    </tr>\n",
       "    <tr>\n",
       "      <th>6</th>\n",
       "      <td>2</td>\n",
       "      <td>data_gathered_at_4.csv</td>\n",
       "      <td>facial_expression_6</td>\n",
       "      <td>0.185288</td>\n",
       "      <td>0.182781</td>\n",
       "    </tr>\n",
       "    <tr>\n",
       "      <th>7</th>\n",
       "      <td>2</td>\n",
       "      <td>data_gathered_at_5.csv</td>\n",
       "      <td>facial_expression_7</td>\n",
       "      <td>0.249373</td>\n",
       "      <td>0.194205</td>\n",
       "    </tr>\n",
       "    <tr>\n",
       "      <th>8</th>\n",
       "      <td>2</td>\n",
       "      <td>data_gathered_at_6.csv</td>\n",
       "      <td>facial_expression_8</td>\n",
       "      <td>0.250766</td>\n",
       "      <td>0.250766</td>\n",
       "    </tr>\n",
       "  </tbody>\n",
       "</table>\n",
       "</div>"
      ],
      "text/plain": [
       "   Model                      Train               Module  Accuracy-1  \\\n",
       "0      1  initial_training_data.csv  facial_expression_0    0.249373   \n",
       "1      1     data_gathered_at_0.csv  facial_expression_1    0.249373   \n",
       "2      1     data_gathered_at_1.csv  facial_expression_2    0.169128   \n",
       "3      1     data_gathered_at_2.csv  facial_expression_3    0.249373   \n",
       "4      1  data_gathered_at_2_bk.csv  facial_expression_4    0.249373   \n",
       "5      1     data_gathered_at_3.csv  facial_expression_5    0.249652   \n",
       "6      2     data_gathered_at_4.csv  facial_expression_6    0.185288   \n",
       "7      2     data_gathered_at_5.csv  facial_expression_7    0.249373   \n",
       "8      2     data_gathered_at_6.csv  facial_expression_8    0.250766   \n",
       "\n",
       "   Accuracy-2  \n",
       "0    0.249373  \n",
       "1    0.249930  \n",
       "2    0.169685  \n",
       "3    0.249373  \n",
       "4    0.248816  \n",
       "5    0.249930  \n",
       "6    0.182781  \n",
       "7    0.194205  \n",
       "8    0.250766  "
      ]
     },
     "execution_count": 5,
     "metadata": {},
     "output_type": "execute_result"
    }
   ],
   "source": [
    "conf = pd.read_csv(raw_data_path + 'config.csv')\n",
    "conf"
   ]
  },
  {
   "cell_type": "markdown",
   "metadata": {},
   "source": [
    "# <h1 style='background:#CCCCCC; border:0; color:black'><center><span style=\"color: royalblue;\"><span style=\"color: royalblue;\">Load Train Data</span></span></center></h1> \n",
    "Load the image data with labels."
   ]
  },
  {
   "cell_type": "code",
   "execution_count": 6,
   "metadata": {
    "_kg_hide-input": true
   },
   "outputs": [],
   "source": [
    "train = pd.read_csv(raw_data_path + 'initial_training_data.csv')"
   ]
  },
  {
   "cell_type": "code",
   "execution_count": 7,
   "metadata": {},
   "outputs": [
    {
     "data": {
      "text/html": [
       "<div>\n",
       "<style scoped>\n",
       "    .dataframe tbody tr th:only-of-type {\n",
       "        vertical-align: middle;\n",
       "    }\n",
       "\n",
       "    .dataframe tbody tr th {\n",
       "        vertical-align: top;\n",
       "    }\n",
       "\n",
       "    .dataframe thead th {\n",
       "        text-align: right;\n",
       "    }\n",
       "</style>\n",
       "<table border=\"1\" class=\"dataframe\">\n",
       "  <thead>\n",
       "    <tr style=\"text-align: right;\">\n",
       "      <th></th>\n",
       "      <th>Emotion</th>\n",
       "      <th>Pixels</th>\n",
       "      <th>rand</th>\n",
       "    </tr>\n",
       "  </thead>\n",
       "  <tbody>\n",
       "    <tr>\n",
       "      <th>0</th>\n",
       "      <td>0</td>\n",
       "      <td>215 218 222 220 221 226 218 215 216 218 218 21...</td>\n",
       "      <td>7</td>\n",
       "    </tr>\n",
       "    <tr>\n",
       "      <th>1</th>\n",
       "      <td>6</td>\n",
       "      <td>145 146 118 26 15 18 16 18 24 38 57 66 71 78 8...</td>\n",
       "      <td>8</td>\n",
       "    </tr>\n",
       "    <tr>\n",
       "      <th>2</th>\n",
       "      <td>4</td>\n",
       "      <td>2 3 4 9 9 10 9 10 12 17 20 21 22 22 19 17 15 1...</td>\n",
       "      <td>9</td>\n",
       "    </tr>\n",
       "    <tr>\n",
       "      <th>3</th>\n",
       "      <td>3</td>\n",
       "      <td>38 42 35 25 51 33 32 20 29 47 40 28 42 56 61 7...</td>\n",
       "      <td>8</td>\n",
       "    </tr>\n",
       "    <tr>\n",
       "      <th>4</th>\n",
       "      <td>2</td>\n",
       "      <td>32 26 37 68 99 112 117 121 123 126 129 135 141...</td>\n",
       "      <td>7</td>\n",
       "    </tr>\n",
       "  </tbody>\n",
       "</table>\n",
       "</div>"
      ],
      "text/plain": [
       "   Emotion                                             Pixels  rand\n",
       "0        0  215 218 222 220 221 226 218 215 216 218 218 21...     7\n",
       "1        6  145 146 118 26 15 18 16 18 24 38 57 66 71 78 8...     8\n",
       "2        4  2 3 4 9 9 10 9 10 12 17 20 21 22 22 19 17 15 1...     9\n",
       "3        3  38 42 35 25 51 33 32 20 29 47 40 28 42 56 61 7...     8\n",
       "4        2  32 26 37 68 99 112 117 121 123 126 129 135 141...     7"
      ]
     },
     "execution_count": 7,
     "metadata": {},
     "output_type": "execute_result"
    }
   ],
   "source": [
    "train.head()"
   ]
  },
  {
   "cell_type": "code",
   "execution_count": 8,
   "metadata": {},
   "outputs": [
    {
     "data": {
      "text/html": [
       "<div>\n",
       "<style scoped>\n",
       "    .dataframe tbody tr th:only-of-type {\n",
       "        vertical-align: middle;\n",
       "    }\n",
       "\n",
       "    .dataframe tbody tr th {\n",
       "        vertical-align: top;\n",
       "    }\n",
       "\n",
       "    .dataframe thead th {\n",
       "        text-align: right;\n",
       "    }\n",
       "</style>\n",
       "<table border=\"1\" class=\"dataframe\">\n",
       "  <thead>\n",
       "    <tr style=\"text-align: right;\">\n",
       "      <th></th>\n",
       "      <th>Emotion</th>\n",
       "      <th>Pixels</th>\n",
       "    </tr>\n",
       "  </thead>\n",
       "  <tbody>\n",
       "    <tr>\n",
       "      <th>0</th>\n",
       "      <td>0</td>\n",
       "      <td>215 218 222 220 221 226 218 215 216 218 218 21...</td>\n",
       "    </tr>\n",
       "    <tr>\n",
       "      <th>1</th>\n",
       "      <td>6</td>\n",
       "      <td>145 146 118 26 15 18 16 18 24 38 57 66 71 78 8...</td>\n",
       "    </tr>\n",
       "    <tr>\n",
       "      <th>2</th>\n",
       "      <td>4</td>\n",
       "      <td>2 3 4 9 9 10 9 10 12 17 20 21 22 22 19 17 15 1...</td>\n",
       "    </tr>\n",
       "    <tr>\n",
       "      <th>3</th>\n",
       "      <td>3</td>\n",
       "      <td>38 42 35 25 51 33 32 20 29 47 40 28 42 56 61 7...</td>\n",
       "    </tr>\n",
       "    <tr>\n",
       "      <th>4</th>\n",
       "      <td>2</td>\n",
       "      <td>32 26 37 68 99 112 117 121 123 126 129 135 141...</td>\n",
       "    </tr>\n",
       "  </tbody>\n",
       "</table>\n",
       "</div>"
      ],
      "text/plain": [
       "   Emotion                                             Pixels\n",
       "0        0  215 218 222 220 221 226 218 215 216 218 218 21...\n",
       "1        6  145 146 118 26 15 18 16 18 24 38 57 66 71 78 8...\n",
       "2        4  2 3 4 9 9 10 9 10 12 17 20 21 22 22 19 17 15 1...\n",
       "3        3  38 42 35 25 51 33 32 20 29 47 40 28 42 56 61 7...\n",
       "4        2  32 26 37 68 99 112 117 121 123 126 129 135 141..."
      ]
     },
     "execution_count": 8,
     "metadata": {},
     "output_type": "execute_result"
    }
   ],
   "source": [
    "train.drop(columns=['rand'], inplace=True)\n",
    "train.head(5)"
   ]
  },
  {
   "cell_type": "code",
   "execution_count": 9,
   "metadata": {},
   "outputs": [
    {
     "data": {
      "text/plain": [
       "array([0, 6, 4, 3, 2, 5, 1], dtype=int64)"
      ]
     },
     "execution_count": 9,
     "metadata": {},
     "output_type": "execute_result"
    }
   ],
   "source": [
    "train['Emotion'].unique()"
   ]
  },
  {
   "cell_type": "markdown",
   "metadata": {},
   "source": [
    "# <h1 style='background:#CCCCCC; border:0; color:black'><center><span style=\"color: royalblue;\"><span style=\"color: royalblue;\">Load Validation Data</span></span></center></h1> \n",
    "Load the image data with labels."
   ]
  },
  {
   "cell_type": "code",
   "execution_count": 10,
   "metadata": {},
   "outputs": [],
   "source": [
    "val = pd.read_csv(raw_data_path + 'validation_test_data.csv')"
   ]
  },
  {
   "cell_type": "code",
   "execution_count": 11,
   "metadata": {},
   "outputs": [
    {
     "data": {
      "text/html": [
       "<div>\n",
       "<style scoped>\n",
       "    .dataframe tbody tr th:only-of-type {\n",
       "        vertical-align: middle;\n",
       "    }\n",
       "\n",
       "    .dataframe tbody tr th {\n",
       "        vertical-align: top;\n",
       "    }\n",
       "\n",
       "    .dataframe thead th {\n",
       "        text-align: right;\n",
       "    }\n",
       "</style>\n",
       "<table border=\"1\" class=\"dataframe\">\n",
       "  <thead>\n",
       "    <tr style=\"text-align: right;\">\n",
       "      <th></th>\n",
       "      <th>Emotion</th>\n",
       "      <th>Pixels</th>\n",
       "    </tr>\n",
       "  </thead>\n",
       "  <tbody>\n",
       "    <tr>\n",
       "      <th>0</th>\n",
       "      <td>0</td>\n",
       "      <td>170 118 101 88 88 75 78 82 66 74 68 59 63 64 6...</td>\n",
       "    </tr>\n",
       "    <tr>\n",
       "      <th>1</th>\n",
       "      <td>5</td>\n",
       "      <td>7 5 8 6 7 3 2 6 5 4 4 5 7 5 5 5 6 7 7 7 10 10 ...</td>\n",
       "    </tr>\n",
       "    <tr>\n",
       "      <th>2</th>\n",
       "      <td>6</td>\n",
       "      <td>232 240 241 239 237 235 246 117 24 24 22 13 12...</td>\n",
       "    </tr>\n",
       "    <tr>\n",
       "      <th>3</th>\n",
       "      <td>4</td>\n",
       "      <td>200 197 149 139 156 89 111 58 62 95 113 117 11...</td>\n",
       "    </tr>\n",
       "    <tr>\n",
       "      <th>4</th>\n",
       "      <td>2</td>\n",
       "      <td>40 28 33 56 45 33 31 78 152 194 200 186 196 20...</td>\n",
       "    </tr>\n",
       "  </tbody>\n",
       "</table>\n",
       "</div>"
      ],
      "text/plain": [
       "   Emotion                                             Pixels\n",
       "0        0  170 118 101 88 88 75 78 82 66 74 68 59 63 64 6...\n",
       "1        5  7 5 8 6 7 3 2 6 5 4 4 5 7 5 5 5 6 7 7 7 10 10 ...\n",
       "2        6  232 240 241 239 237 235 246 117 24 24 22 13 12...\n",
       "3        4  200 197 149 139 156 89 111 58 62 95 113 117 11...\n",
       "4        2  40 28 33 56 45 33 31 78 152 194 200 186 196 20..."
      ]
     },
     "execution_count": 11,
     "metadata": {},
     "output_type": "execute_result"
    }
   ],
   "source": [
    "val.head()"
   ]
  },
  {
   "cell_type": "markdown",
   "metadata": {},
   "source": [
    "# <h1 style='background:#CCCCCC; border:0; color:black'><center><span style=\"color: royalblue;\"><span style=\"color: royalblue;\">Load Test Data</span></span></center></h1> \n",
    "Load the image data with labels."
   ]
  },
  {
   "cell_type": "code",
   "execution_count": 12,
   "metadata": {},
   "outputs": [],
   "source": [
    "test = pd.read_csv(raw_data_path + 'test_data.csv')"
   ]
  },
  {
   "cell_type": "code",
   "execution_count": 13,
   "metadata": {},
   "outputs": [
    {
     "data": {
      "text/html": [
       "<div>\n",
       "<style scoped>\n",
       "    .dataframe tbody tr th:only-of-type {\n",
       "        vertical-align: middle;\n",
       "    }\n",
       "\n",
       "    .dataframe tbody tr th {\n",
       "        vertical-align: top;\n",
       "    }\n",
       "\n",
       "    .dataframe thead th {\n",
       "        text-align: right;\n",
       "    }\n",
       "</style>\n",
       "<table border=\"1\" class=\"dataframe\">\n",
       "  <thead>\n",
       "    <tr style=\"text-align: right;\">\n",
       "      <th></th>\n",
       "      <th>Emotion</th>\n",
       "      <th>Pixels</th>\n",
       "    </tr>\n",
       "  </thead>\n",
       "  <tbody>\n",
       "    <tr>\n",
       "      <th>0</th>\n",
       "      <td>0</td>\n",
       "      <td>254 254 254 254 254 249 255 160 2 58 53 70 77 ...</td>\n",
       "    </tr>\n",
       "    <tr>\n",
       "      <th>1</th>\n",
       "      <td>1</td>\n",
       "      <td>156 184 198 202 204 207 210 212 213 214 215 21...</td>\n",
       "    </tr>\n",
       "    <tr>\n",
       "      <th>2</th>\n",
       "      <td>4</td>\n",
       "      <td>69 118 61 60 96 121 103 87 103 88 70 90 115 12...</td>\n",
       "    </tr>\n",
       "    <tr>\n",
       "      <th>3</th>\n",
       "      <td>6</td>\n",
       "      <td>205 203 236 157 83 158 120 116 94 86 155 180 2...</td>\n",
       "    </tr>\n",
       "    <tr>\n",
       "      <th>4</th>\n",
       "      <td>3</td>\n",
       "      <td>87 79 74 66 74 96 77 80 80 84 83 89 102 91 84 ...</td>\n",
       "    </tr>\n",
       "  </tbody>\n",
       "</table>\n",
       "</div>"
      ],
      "text/plain": [
       "   Emotion                                             Pixels\n",
       "0        0  254 254 254 254 254 249 255 160 2 58 53 70 77 ...\n",
       "1        1  156 184 198 202 204 207 210 212 213 214 215 21...\n",
       "2        4  69 118 61 60 96 121 103 87 103 88 70 90 115 12...\n",
       "3        6  205 203 236 157 83 158 120 116 94 86 155 180 2...\n",
       "4        3  87 79 74 66 74 96 77 80 80 84 83 89 102 91 84 ..."
      ]
     },
     "execution_count": 13,
     "metadata": {},
     "output_type": "execute_result"
    }
   ],
   "source": [
    "test.head()"
   ]
  },
  {
   "cell_type": "markdown",
   "metadata": {},
   "source": [
    "# <h1 style='background:#CCCCCC; border:0; color:black'><center><span style=\"color: royalblue;\"><span style=\"color: royalblue;\">Functions</span></span></center></h1> \n",
    "We define some helper functions for preparing and ploting the data."
   ]
  },
  {
   "cell_type": "code",
   "execution_count": 14,
   "metadata": {
    "_kg_hide-input": true
   },
   "outputs": [],
   "source": [
    "def prepare_data(data):\n",
    "    \"\"\" Prepare data for modeling \n",
    "        input: data frame with labels und pixel data\n",
    "        output: image and label array \"\"\"\n",
    "    \n",
    "    image_array = np.zeros(shape=(len(data), 48, 48))\n",
    "    image_label = np.array(list(map(int, data['Emotion'])))\n",
    "    \n",
    "    for i, row in enumerate(data.index):\n",
    "        image = np.fromstring(data.loc[row, 'Pixels'], dtype=int, sep=' ')\n",
    "        image = np.reshape(image, (48, 48))\n",
    "        image_array[i] = image\n",
    "        \n",
    "    return image_array, image_label\n",
    "\n",
    "def data_to_tf_data(df):\n",
    "    image_array, image_label = prepare_data(df)\n",
    "    images = image_array.reshape((image_array.shape[0], 48, 48, 1))\n",
    "    images = images.astype('float32')/255\n",
    "    labels = to_categorical(image_label)\n",
    "    return images, labels\n",
    "\n",
    "def plot_examples(label=0):\n",
    "    fig, axs = plt.subplots(1, 2, figsize=(6, 6))\n",
    "    fig.subplots_adjust(hspace = .2, wspace=.2)\n",
    "    axs = axs.ravel()\n",
    "    for i in range(2):\n",
    "        idx = train[train['Emotion']==label].index[i]\n",
    "        axs[i].imshow(train_images[idx][:,:,0], cmap='gray')\n",
    "        axs[i].set_title(emotions[train_labels[idx].argmax()])\n",
    "        axs[i].set_xticklabels([])\n",
    "        axs[i].set_yticklabels([])\n",
    "        \n",
    "def plot_all_emotions():\n",
    "    fig, axs = plt.subplots(1, 7, figsize=(30, 12))\n",
    "    fig.subplots_adjust(hspace = .2, wspace=.2)\n",
    "    axs = axs.ravel()\n",
    "    for i in range(7):\n",
    "        idx = train[train['Emotion']==i].index[i]\n",
    "        axs[i].imshow(train_images[idx][:,:,0], cmap='gray')\n",
    "        axs[i].set_title(emotions[train_labels[idx].argmax()])\n",
    "        axs[i].set_xticklabels([])\n",
    "        axs[i].set_yticklabels([])\n",
    "        \n",
    "def plot_image_and_emotion(test_image_array, test_image_label, pred_test_labels, image_number):\n",
    "    \"\"\" Function to plot the image and compare the prediction results with the label \"\"\"\n",
    "    \n",
    "    fig, axs = plt.subplots(1, 2, figsize=(12, 6), sharey=False)\n",
    "    \n",
    "    bar_label = emotions.values()\n",
    "    \n",
    "    axs[0].imshow(test_image_array[image_number], 'gray')\n",
    "    axs[0].set_title(emotions[test_image_label[image_number]])\n",
    "    \n",
    "    axs[1].bar(bar_label, pred_test_labels[image_number], color='orange', alpha=0.7)\n",
    "    axs[1].grid()\n",
    "    \n",
    "    plt.show()\n",
    "    \n",
    "def plot_compare_distributions(array1, array2, title1='', title2=''):\n",
    "    df_array1 = pd.DataFrame()\n",
    "    df_array2 = pd.DataFrame()\n",
    "    df_array1['Emotion'] = array1.argmax(axis=1)\n",
    "    df_array2['Emotion'] = array2.argmax(axis=1)\n",
    "    \n",
    "    fig, axs = plt.subplots(1, 2, figsize=(12, 6), sharey=False)\n",
    "    x = emotions.values()\n",
    "    \n",
    "    y = df_array1['Emotion'].value_counts()\n",
    "    keys_missed = list(set(emotions.keys()).difference(set(y.keys())))\n",
    "    for key_missed in keys_missed:\n",
    "        y[key_missed] = 0\n",
    "    axs[0].bar(x, y.sort_index(), color='orange')\n",
    "    axs[0].set_title(title1)\n",
    "    axs[0].grid()\n",
    "    \n",
    "    y = df_array2['Emotion'].value_counts()\n",
    "    keys_missed = list(set(emotions.keys()).difference(set(y.keys())))\n",
    "    for key_missed in keys_missed:\n",
    "        y[key_missed] = 0\n",
    "    axs[1].bar(x, y.sort_index())\n",
    "    axs[1].set_title(title2)\n",
    "    axs[1].grid()\n",
    "    \n",
    "    plt.show()"
   ]
  },
  {
   "cell_type": "markdown",
   "metadata": {},
   "source": [
    "# <h1 style='background:#CCCCCC; border:0; color:black'><center><span style=\"color: royalblue;\"><span style=\"color: royalblue;\">Overview</span></span></center></h1> "
   ]
  },
  {
   "cell_type": "code",
   "execution_count": 15,
   "metadata": {
    "_kg_hide-input": true
   },
   "outputs": [
    {
     "data": {
      "text/plain": [
       "3    91\n",
       "4    54\n",
       "6    49\n",
       "2    48\n",
       "0    47\n",
       "5    30\n",
       "1     2\n",
       "Name: Emotion, dtype: int64"
      ]
     },
     "execution_count": 15,
     "metadata": {},
     "output_type": "execute_result"
    }
   ],
   "source": [
    "train['Emotion'].value_counts()"
   ]
  },
  {
   "cell_type": "markdown",
   "metadata": {},
   "source": [
    "# <h1 style='background:#CCCCCC; border:0; color:black'><center><span style=\"color: royalblue;\"><span style=\"color: royalblue;\">Prepare Data</span></span></center></h1> "
   ]
  },
  {
   "cell_type": "code",
   "execution_count": 16,
   "metadata": {},
   "outputs": [],
   "source": [
    "emotions = {0: 'Angry', 1: 'Disgust', 2: 'Fear', 3: 'Happy', 4: 'Sad', 5: 'Surprise', 6: 'Neutral'}"
   ]
  },
  {
   "cell_type": "markdown",
   "metadata": {},
   "source": [
    "Define training, validation and test data:"
   ]
  },
  {
   "cell_type": "code",
   "execution_count": 17,
   "metadata": {},
   "outputs": [],
   "source": [
    "train_image_array, train_image_label = prepare_data(train)\n",
    "val_image_array,   val_image_label   = prepare_data(val)\n",
    "test_image_array,  test_image_label  = prepare_data(test)"
   ]
  },
  {
   "cell_type": "markdown",
   "metadata": {},
   "source": [
    "Reshape and scale the images:"
   ]
  },
  {
   "cell_type": "code",
   "execution_count": 18,
   "metadata": {
    "_kg_hide-input": true
   },
   "outputs": [],
   "source": [
    "train_images = train_image_array.reshape((train_image_array.shape[0], 48, 48, 1))\n",
    "train_images = train_images.astype('float32')/255\n",
    "val_images   = val_image_array.reshape((val_image_array.shape[0], 48, 48, 1))\n",
    "val_images   = val_images.astype('float32')/255\n",
    "test_images  = test_image_array.reshape((test_image_array.shape[0], 48, 48, 1))\n",
    "test_images  = test_images.astype('float32')/255"
   ]
  },
  {
   "cell_type": "markdown",
   "metadata": {},
   "source": [
    "Encoding of the target value:"
   ]
  },
  {
   "cell_type": "code",
   "execution_count": 19,
   "metadata": {
    "_kg_hide-input": true
   },
   "outputs": [],
   "source": [
    "train_labels = to_categorical(train_image_label)\n",
    "val_labels   = to_categorical(val_image_label)\n",
    "test_labels  = to_categorical(test_image_label)"
   ]
  },
  {
   "cell_type": "markdown",
   "metadata": {},
   "source": [
    "# <h1 style='background:#CCCCCC; border:0; color:black'><center><span style=\"color: royalblue;\"><span style=\"color: royalblue;\">Some Examples</span></span></center></h1> "
   ]
  },
  {
   "cell_type": "markdown",
   "metadata": {},
   "source": [
    "## All Emotions"
   ]
  },
  {
   "cell_type": "code",
   "execution_count": 20,
   "metadata": {
    "_kg_hide-input": true
   },
   "outputs": [],
   "source": [
    "#plot_all_emotions()"
   ]
  },
  {
   "cell_type": "markdown",
   "metadata": {},
   "source": [
    "## Angry"
   ]
  },
  {
   "cell_type": "code",
   "execution_count": 21,
   "metadata": {
    "_kg_hide-input": true
   },
   "outputs": [
    {
     "data": {
      "image/png": "[encoded data removed]",
      "text/plain": [
       "<Figure size 432x432 with 2 Axes>"
      ]
     },
     "metadata": {
      "needs_background": "light"
     },
     "output_type": "display_data"
    }
   ],
   "source": [
    "plot_examples(label=0)"
   ]
  },
  {
   "cell_type": "markdown",
   "metadata": {},
   "source": [
    "## Disgust"
   ]
  },
  {
   "cell_type": "code",
   "execution_count": 22,
   "metadata": {
    "_kg_hide-input": true
   },
   "outputs": [],
   "source": [
    "#plot_examples(label=1)"
   ]
  },
  {
   "cell_type": "markdown",
   "metadata": {},
   "source": [
    "## Fear"
   ]
  },
  {
   "cell_type": "code",
   "execution_count": 23,
   "metadata": {
    "_kg_hide-input": true
   },
   "outputs": [
    {
     "data": {
      "image/png": "[encoded data removed]",
      "text/plain": [
       "<Figure size 432x432 with 2 Axes>"
      ]
     },
     "metadata": {
      "needs_background": "light"
     },
     "output_type": "display_data"
    }
   ],
   "source": [
    "plot_examples(label=2)"
   ]
  },
  {
   "cell_type": "markdown",
   "metadata": {},
   "source": [
    "## Happy"
   ]
  },
  {
   "cell_type": "code",
   "execution_count": 24,
   "metadata": {
    "_kg_hide-input": true
   },
   "outputs": [
    {
     "data": {
      "image/png": "[encoded data removed]",
      "text/plain": [
       "<Figure size 432x432 with 2 Axes>"
      ]
     },
     "metadata": {
      "needs_background": "light"
     },
     "output_type": "display_data"
    }
   ],
   "source": [
    "plot_examples(label=3)"
   ]
  },
  {
   "cell_type": "markdown",
   "metadata": {},
   "source": [
    "\n",
    "## Sad"
   ]
  },
  {
   "cell_type": "code",
   "execution_count": 25,
   "metadata": {
    "_kg_hide-input": true
   },
   "outputs": [
    {
     "data": {
      "image/png": "[encoded data removed]",
      "text/plain": [
       "<Figure size 432x432 with 2 Axes>"
      ]
     },
     "metadata": {
      "needs_background": "light"
     },
     "output_type": "display_data"
    }
   ],
   "source": [
    "plot_examples(label=4)"
   ]
  },
  {
   "cell_type": "markdown",
   "metadata": {},
   "source": [
    "## Surprise"
   ]
  },
  {
   "cell_type": "code",
   "execution_count": 26,
   "metadata": {
    "_kg_hide-input": true
   },
   "outputs": [
    {
     "data": {
      "image/png": "[encoded data removed]",
      "text/plain": [
       "<Figure size 432x432 with 2 Axes>"
      ]
     },
     "metadata": {
      "needs_background": "light"
     },
     "output_type": "display_data"
    }
   ],
   "source": [
    "plot_examples(label=5)"
   ]
  },
  {
   "cell_type": "markdown",
   "metadata": {},
   "source": [
    "## Neutral"
   ]
  },
  {
   "cell_type": "code",
   "execution_count": 27,
   "metadata": {
    "_kg_hide-input": true
   },
   "outputs": [
    {
     "data": {
      "image/png": "[encoded data removed]",
      "text/plain": [
       "<Figure size 432x432 with 2 Axes>"
      ]
     },
     "metadata": {
      "needs_background": "light"
     },
     "output_type": "display_data"
    }
   ],
   "source": [
    "plot_examples(label=6)"
   ]
  },
  {
   "cell_type": "markdown",
   "metadata": {},
   "source": [
    "# <h1 style='background:#CCCCCC; border:0; color:black'><center><span style=\"color: royalblue;\"><span style=\"color: royalblue;\">Distribution Of Labels</span></span></center></h1> "
   ]
  },
  {
   "cell_type": "code",
   "execution_count": 28,
   "metadata": {
    "_kg_hide-input": true
   },
   "outputs": [
    {
     "data": {
      "image/png": "[encoded data removed]",
      "text/plain": [
       "<Figure size 864x432 with 2 Axes>"
      ]
     },
     "metadata": {
      "needs_background": "light"
     },
     "output_type": "display_data"
    }
   ],
   "source": [
    "plot_compare_distributions(train_labels, val_labels, title1='train labels', title2='val labels')"
   ]
  },
  {
   "cell_type": "markdown",
   "metadata": {},
   "source": [
    "# <h1 style='background:#CCCCCC; border:0; color:black'><center><span style=\"color: royalblue;\"><span style=\"color: royalblue;\">Class Weights</span></span></center></h1> \n",
    "Calculate the class weights of the label distribution:"
   ]
  },
  {
   "cell_type": "code",
   "execution_count": 29,
   "metadata": {
    "_kg_hide-input": true
   },
   "outputs": [],
   "source": [
    "class_weight = dict(zip(range(0, 7), (((train['Emotion'].value_counts()).sort_index())/len(train['Emotion'])).tolist()))"
   ]
  },
  {
   "cell_type": "code",
   "execution_count": 30,
   "metadata": {},
   "outputs": [
    {
     "data": {
      "text/plain": [
       "{0: 0.14641744548286603,\n",
       " 1: 0.006230529595015576,\n",
       " 2: 0.14953271028037382,\n",
       " 3: 0.2834890965732087,\n",
       " 4: 0.16822429906542055,\n",
       " 5: 0.09345794392523364,\n",
       " 6: 0.1526479750778816}"
      ]
     },
     "execution_count": 30,
     "metadata": {},
     "output_type": "execute_result"
    }
   ],
   "source": [
    "class_weight"
   ]
  },
  {
   "cell_type": "code",
   "execution_count": 31,
   "metadata": {},
   "outputs": [],
   "source": [
    "def get_model(id):\n",
    "    if (id == 1):\n",
    "        return create_model_1()\n",
    "    elif (id == 2):\n",
    "        return create_model_2()\n",
    "    \n",
    "def create_model_1():\n",
    "    print(\"Construction Model #1\")\n",
    "    model = models.Sequential()\n",
    "    model.add(Conv2D(32, (3, 3), activation='relu', input_shape=(48, 48, 1)))\n",
    "    model.add(MaxPool2D((2, 2)))\n",
    "    model.add(Conv2D(64, (3, 3), activation='relu'))\n",
    "    model.add(MaxPool2D((2, 2)))\n",
    "    model.add(Conv2D(64, (3, 3), activation='relu'))\n",
    "    model.add(Flatten())\n",
    "    model.add(Dense(64, activation='relu'))\n",
    "    model.add(Dense(7, activation='softmax'))\n",
    "    model.compile(optimizer=Adam(lr=1e-3), loss='categorical_crossentropy', metrics=['accuracy'])\n",
    "    return model\n",
    "\n",
    "def create_model_2():\n",
    "    print(\"Construction Model #2\")\n",
    "    model = models.Sequential()\n",
    "    model.add(layers.Conv2D(64, (1, 1), padding='same', activation='relu', input_shape=(48, 48, 1)))\n",
    "    model.add(BatchNormalization())\n",
    "    model.add(Dropout(0.25))\n",
    "\n",
    "    model.add(layers.Conv2D(128, (3, 3),padding='same', activation='relu'))\n",
    "    model.add(BatchNormalization())\n",
    "    model.add(Dropout(0.25))\n",
    "    model.add(layers.Conv2D(256, (5, 5),padding='same', activation='relu'))\n",
    "    model.add(BatchNormalization())\n",
    "    model.add(layers.MaxPooling2D((2, 2),padding=\"same\"))\n",
    "    model.add(Dropout(0.25))\n",
    "    model.add(layers.Flatten())\n",
    "    model.add(layers.Dense(128))\n",
    "    model.add(BatchNormalization())\n",
    "    model.add(Activation('relu'))\n",
    "    model.add(Dropout(0.25))\n",
    "    model.add(layers.Dense(256))\n",
    "    model.add(BatchNormalization())\n",
    "    model.add(Activation('relu'))\n",
    "    model.add(Dropout(0.25))\n",
    "    model.add(layers.Dense(7, activation='softmax'))\n",
    "    model.compile(optimizer='adam',\n",
    "                  loss='categorical_crossentropy',\n",
    "                  metrics=['accuracy'])\n",
    "    return model"
   ]
  },
  {
   "cell_type": "markdown",
   "metadata": {},
   "source": [
    "# <h1 style='background:#CCCCCC; border:0; color:black'><center><span style=\"color: royalblue;\"><span style=\"color: royalblue;\">Model #1</span></span></center></h1> \n",
    "We define a simple CNN model:"
   ]
  },
  {
   "cell_type": "code",
   "execution_count": 32,
   "metadata": {},
   "outputs": [
    {
     "name": "stdout",
     "output_type": "stream",
     "text": [
      "Construction Model #1\n"
     ]
    }
   ],
   "source": [
    "model_1 = get_model(1)"
   ]
  },
  {
   "cell_type": "code",
   "execution_count": 33,
   "metadata": {},
   "outputs": [
    {
     "name": "stdout",
     "output_type": "stream",
     "text": [
      "Model: \"sequential\"\n",
      "_________________________________________________________________\n",
      "Layer (type)                 Output Shape              Param #   \n",
      "=================================================================\n",
      "conv2d (Conv2D)              (None, 46, 46, 32)        320       \n",
      "_________________________________________________________________\n",
      "max_pooling2d (MaxPooling2D) (None, 23, 23, 32)        0         \n",
      "_________________________________________________________________\n",
      "conv2d_1 (Conv2D)            (None, 21, 21, 64)        18496     \n",
      "_________________________________________________________________\n",
      "max_pooling2d_1 (MaxPooling2 (None, 10, 10, 64)        0         \n",
      "_________________________________________________________________\n",
      "conv2d_2 (Conv2D)            (None, 8, 8, 64)          36928     \n",
      "_________________________________________________________________\n",
      "flatten (Flatten)            (None, 4096)              0         \n",
      "_________________________________________________________________\n",
      "dense (Dense)                (None, 64)                262208    \n",
      "_________________________________________________________________\n",
      "dense_1 (Dense)              (None, 7)                 455       \n",
      "=================================================================\n",
      "Total params: 318,407\n",
      "Trainable params: 318,407\n",
      "Non-trainable params: 0\n",
      "_________________________________________________________________\n"
     ]
    }
   ],
   "source": [
    "model_1.summary()"
   ]
  },
  {
   "cell_type": "code",
   "execution_count": 34,
   "metadata": {},
   "outputs": [
    {
     "name": "stdout",
     "output_type": "stream",
     "text": [
      "Epoch 1/12\n",
      "6/6 [==============================] - 3s 426ms/step - loss: 0.3368 - accuracy: 0.2586 - val_loss: 1.8921 - val_accuracy: 0.2449\n",
      "Epoch 2/12\n",
      "6/6 [==============================] - 2s 367ms/step - loss: 0.3114 - accuracy: 0.2773 - val_loss: 1.9294 - val_accuracy: 0.2449\n",
      "Epoch 3/12\n",
      "6/6 [==============================] - 2s 367ms/step - loss: 0.3057 - accuracy: 0.2835 - val_loss: 2.1621 - val_accuracy: 0.2449\n",
      "Epoch 4/12\n",
      "6/6 [==============================] - 2s 384ms/step - loss: 0.3133 - accuracy: 0.2835 - val_loss: 1.9515 - val_accuracy: 0.2449\n",
      "Epoch 5/12\n",
      "6/6 [==============================] - 2s 400ms/step - loss: 0.2980 - accuracy: 0.2835 - val_loss: 1.8541 - val_accuracy: 0.2449\n",
      "Epoch 6/12\n",
      "6/6 [==============================] - 2s 373ms/step - loss: 0.3057 - accuracy: 0.2835 - val_loss: 1.9322 - val_accuracy: 0.2449\n",
      "Epoch 7/12\n",
      "6/6 [==============================] - 2s 325ms/step - loss: 0.3074 - accuracy: 0.2835 - val_loss: 2.3311 - val_accuracy: 0.2449\n",
      "Epoch 8/12\n",
      "6/6 [==============================] - 2s 339ms/step - loss: 0.3139 - accuracy: 0.2835 - val_loss: 2.0311 - val_accuracy: 0.2449\n",
      "Epoch 9/12\n",
      "6/6 [==============================] - 2s 314ms/step - loss: 0.2938 - accuracy: 0.2835 - val_loss: 1.8932 - val_accuracy: 0.2449\n",
      "Epoch 10/12\n",
      "6/6 [==============================] - 2s 316ms/step - loss: 0.2963 - accuracy: 0.2835 - val_loss: 1.8828 - val_accuracy: 0.2449\n",
      "Epoch 11/12\n",
      "6/6 [==============================] - 2s 315ms/step - loss: 0.2958 - accuracy: 0.2835 - val_loss: 1.9878 - val_accuracy: 0.2449\n",
      "Epoch 12/12\n",
      "6/6 [==============================] - 2s 317ms/step - loss: 0.2940 - accuracy: 0.2897 - val_loss: 1.8538 - val_accuracy: 0.2469\n"
     ]
    }
   ],
   "source": [
    "history = model_1.fit(train_images, train_labels,\n",
    "                    validation_data=(val_images, val_labels),\n",
    "                    class_weight = class_weight,\n",
    "                    epochs=12, \n",
    "                    batch_size=64)"
   ]
  },
  {
   "cell_type": "code",
   "execution_count": 35,
   "metadata": {},
   "outputs": [
    {
     "name": "stdout",
     "output_type": "stream",
     "text": [
      "113/113 [==============================] - 2s 15ms/step - loss: 1.8454 - accuracy: 0.2508\n",
      "test caccuracy: 0.25076621770858765\n"
     ]
    }
   ],
   "source": [
    "test_loss, test_acc = model_1.evaluate(test_images, test_labels)\n",
    "print('test caccuracy:', test_acc)"
   ]
  },
  {
   "cell_type": "code",
   "execution_count": 36,
   "metadata": {},
   "outputs": [
    {
     "name": "stdout",
     "output_type": "stream",
     "text": [
      "[[0.07422265 0.00314834 0.10829963 ... 0.27058268 0.0341511  0.14049534]\n",
      " [0.14067097 0.008576   0.11206872 ... 0.17988195 0.04826011 0.12604602]\n",
      " [0.1471021  0.01676576 0.11795928 ... 0.19208959 0.06763785 0.15166989]\n",
      " ...\n",
      " [0.1385003  0.00822688 0.11642748 ... 0.1907211  0.04966829 0.13829012]\n",
      " [0.12792209 0.01398641 0.11048409 ... 0.21092013 0.06483358 0.16233435]\n",
      " [0.1288412  0.01724123 0.13806766 ... 0.21363    0.0680379  0.14689042]]\n"
     ]
    }
   ],
   "source": [
    "pred_test_labels = model_1.predict(test_images)\n",
    "print(pred_test_labels)"
   ]
  },
  {
   "cell_type": "code",
   "execution_count": 37,
   "metadata": {},
   "outputs": [
    {
     "data": {
      "text/plain": [
       "'models/model_v1.h5'"
      ]
     },
     "execution_count": 37,
     "metadata": {},
     "output_type": "execute_result"
    }
   ],
   "source": [
    "module = 'models/model_v1.h5'\n",
    "module"
   ]
  },
  {
   "cell_type": "code",
   "execution_count": 38,
   "metadata": {},
   "outputs": [],
   "source": [
    "model_1.save(module, save_format='h5')"
   ]
  },
  {
   "cell_type": "markdown",
   "metadata": {},
   "source": [
    "# <h1 style='background:#CCCCCC; border:0; color:black'><center><span style=\"color: royalblue;\"><span style=\"color: royalblue;\">Model #2</span></span></center></h1> \n",
    "We define a more complicated CNN model:"
   ]
  },
  {
   "cell_type": "code",
   "execution_count": 39,
   "metadata": {},
   "outputs": [
    {
     "name": "stdout",
     "output_type": "stream",
     "text": [
      "Construction Model #2\n"
     ]
    }
   ],
   "source": [
    "model_2 = get_model(2)"
   ]
  },
  {
   "cell_type": "code",
   "execution_count": 40,
   "metadata": {},
   "outputs": [
    {
     "name": "stdout",
     "output_type": "stream",
     "text": [
      "Model: \"sequential_1\"\n",
      "_________________________________________________________________\n",
      "Layer (type)                 Output Shape              Param #   \n",
      "=================================================================\n",
      "conv2d_3 (Conv2D)            (None, 48, 48, 64)        128       \n",
      "_________________________________________________________________\n",
      "batch_normalization (BatchNo (None, 48, 48, 64)        256       \n",
      "_________________________________________________________________\n",
      "dropout (Dropout)            (None, 48, 48, 64)        0         \n",
      "_________________________________________________________________\n",
      "conv2d_4 (Conv2D)            (None, 48, 48, 128)       73856     \n",
      "_________________________________________________________________\n",
      "batch_normalization_1 (Batch (None, 48, 48, 128)       512       \n",
      "_________________________________________________________________\n",
      "dropout_1 (Dropout)          (None, 48, 48, 128)       0         \n",
      "_________________________________________________________________\n",
      "conv2d_5 (Conv2D)            (None, 48, 48, 256)       819456    \n",
      "_________________________________________________________________\n",
      "batch_normalization_2 (Batch (None, 48, 48, 256)       1024      \n",
      "_________________________________________________________________\n",
      "max_pooling2d_2 (MaxPooling2 (None, 24, 24, 256)       0         \n",
      "_________________________________________________________________\n",
      "dropout_2 (Dropout)          (None, 24, 24, 256)       0         \n",
      "_________________________________________________________________\n",
      "flatten_1 (Flatten)          (None, 147456)            0         \n",
      "_________________________________________________________________\n",
      "dense_2 (Dense)              (None, 128)               18874496  \n",
      "_________________________________________________________________\n",
      "batch_normalization_3 (Batch (None, 128)               512       \n",
      "_________________________________________________________________\n",
      "activation (Activation)      (None, 128)               0         \n",
      "_________________________________________________________________\n",
      "dropout_3 (Dropout)          (None, 128)               0         \n",
      "_________________________________________________________________\n",
      "dense_3 (Dense)              (None, 256)               33024     \n",
      "_________________________________________________________________\n",
      "batch_normalization_4 (Batch (None, 256)               1024      \n",
      "_________________________________________________________________\n",
      "activation_1 (Activation)    (None, 256)               0         \n",
      "_________________________________________________________________\n",
      "dropout_4 (Dropout)          (None, 256)               0         \n",
      "_________________________________________________________________\n",
      "dense_4 (Dense)              (None, 7)                 1799      \n",
      "=================================================================\n",
      "Total params: 19,806,087\n",
      "Trainable params: 19,804,423\n",
      "Non-trainable params: 1,664\n",
      "_________________________________________________________________\n"
     ]
    }
   ],
   "source": [
    "model_2.summary()"
   ]
  },
  {
   "cell_type": "code",
   "execution_count": 41,
   "metadata": {},
   "outputs": [
    {
     "name": "stdout",
     "output_type": "stream",
     "text": [
      "Epoch 1/12\n",
      "6/6 [==============================] - 154s 26s/step - loss: 0.4504 - accuracy: 0.1869 - val_loss: 1.9327 - val_accuracy: 0.1856\n",
      "Epoch 2/12\n",
      "6/6 [==============================] - 171s 28s/step - loss: 0.3050 - accuracy: 0.3676 - val_loss: 1.8756 - val_accuracy: 0.2449\n",
      "Epoch 3/12\n",
      "6/6 [==============================] - 157s 26s/step - loss: 0.2596 - accuracy: 0.4206 - val_loss: 1.9310 - val_accuracy: 0.2449\n",
      "Epoch 4/12\n",
      "6/6 [==============================] - 157s 26s/step - loss: 0.2170 - accuracy: 0.4891 - val_loss: 2.0024 - val_accuracy: 0.2449\n",
      "Epoch 5/12\n",
      "6/6 [==============================] - 161s 27s/step - loss: 0.1856 - accuracy: 0.5763 - val_loss: 2.2858 - val_accuracy: 0.2449\n",
      "Epoch 6/12\n",
      "6/6 [==============================] - 184s 31s/step - loss: 0.1665 - accuracy: 0.6075 - val_loss: 2.1359 - val_accuracy: 0.2449\n",
      "Epoch 7/12\n",
      "6/6 [==============================] - 197s 33s/step - loss: 0.1348 - accuracy: 0.6885 - val_loss: 2.1746 - val_accuracy: 0.2449\n",
      "Epoch 8/12\n",
      "6/6 [==============================] - 178s 30s/step - loss: 0.1112 - accuracy: 0.7477 - val_loss: 2.3132 - val_accuracy: 0.2449\n",
      "Epoch 9/12\n",
      "6/6 [==============================] - 178s 30s/step - loss: 0.0980 - accuracy: 0.7913 - val_loss: 2.4770 - val_accuracy: 0.2449\n",
      "Epoch 10/12\n",
      "6/6 [==============================] - 172s 29s/step - loss: 0.0836 - accuracy: 0.8255 - val_loss: 2.5822 - val_accuracy: 0.2449\n",
      "Epoch 11/12\n",
      "6/6 [==============================] - 166s 28s/step - loss: 0.0667 - accuracy: 0.8567 - val_loss: 2.8166 - val_accuracy: 0.2449\n",
      "Epoch 12/12\n",
      "6/6 [==============================] - 193s 32s/step - loss: 0.0502 - accuracy: 0.9346 - val_loss: 2.6299 - val_accuracy: 0.2449\n"
     ]
    }
   ],
   "source": [
    "history = model_2.fit(train_images, train_labels,\n",
    "                    validation_data=(val_images, val_labels),\n",
    "                    class_weight = class_weight,\n",
    "                    epochs=12, # should be 12\n",
    "                    batch_size=64)\n"
   ]
  },
  {
   "cell_type": "code",
   "execution_count": 42,
   "metadata": {},
   "outputs": [
    {
     "name": "stdout",
     "output_type": "stream",
     "text": [
      "113/113 [==============================] - 123s 1s/step - loss: 2.6240 - accuracy: 0.2494\n",
      "test caccuracy: 0.24937307834625244\n"
     ]
    }
   ],
   "source": [
    "test_loss, test_acc = model_2.evaluate(test_images, test_labels)\n",
    "print('test caccuracy:', test_acc)\n"
   ]
  },
  {
   "cell_type": "code",
   "execution_count": 43,
   "metadata": {},
   "outputs": [
    {
     "name": "stdout",
     "output_type": "stream",
     "text": [
      "[[0.03283699 0.00295905 0.02017734 ... 0.04847366 0.00521857 0.20320208]\n",
      " [0.02839349 0.00296436 0.03348335 ... 0.05663727 0.00448208 0.21942215]\n",
      " [0.0248827  0.00280969 0.02290023 ... 0.04577991 0.00439127 0.18718141]\n",
      " ...\n",
      " [0.02500761 0.00278125 0.02898238 ... 0.07804645 0.00573064 0.2894429 ]\n",
      " [0.02952756 0.00311853 0.02545153 ... 0.04640645 0.00483896 0.23276412]\n",
      " [0.02971195 0.00320389 0.02267978 ... 0.04136266 0.00382462 0.21136251]]\n"
     ]
    }
   ],
   "source": [
    "pred_test_labels = model_2.predict(test_images)\n",
    "print(pred_test_labels)"
   ]
  },
  {
   "cell_type": "code",
   "execution_count": 44,
   "metadata": {},
   "outputs": [
    {
     "data": {
      "text/plain": [
       "'models/model_v2.h5'"
      ]
     },
     "execution_count": 44,
     "metadata": {},
     "output_type": "execute_result"
    }
   ],
   "source": [
    "module = 'models/model_v2.h5'\n",
    "module"
   ]
  },
  {
   "cell_type": "code",
   "execution_count": 45,
   "metadata": {},
   "outputs": [],
   "source": [
    "model_2.save(module, save_format='h5')"
   ]
  },
  {
   "cell_type": "markdown",
   "metadata": {},
   "source": [
    "### Replace between Model V1 and Model V2"
   ]
  },
  {
   "cell_type": "code",
   "execution_count": 46,
   "metadata": {},
   "outputs": [
    {
     "name": "stdout",
     "output_type": "stream",
     "text": [
      "Running mode #2\n",
      "C:\\working\\gitos\\keras-onnx\n",
      "C:\\working\\gitos\\keras-onnx\\data_v2\n"
     ]
    }
   ],
   "source": [
    "if (running_model == 1):\n",
    "    \n",
    "    print(\"Running mode #1\")\n",
    "    \n",
    "    %cd {base_directory}\n",
    "\n",
    "    MODEL         =  model_1\n",
    "    model_version = 'model_v1'\n",
    "\n",
    "    %cd {data_v1_path}\n",
    "    \n",
    "else:\n",
    "    \n",
    "    print(\"Running mode #2\")\n",
    "    \n",
    "    %cd {base_directory}\n",
    "\n",
    "    MODEL         = model_2\n",
    "    model_version = 'model_v2'\n",
    "    \n",
    "    %cd {data_v2_path}"
   ]
  },
  {
   "cell_type": "markdown",
   "metadata": {},
   "source": [
    "### Initialize mflow"
   ]
  },
  {
   "cell_type": "code",
   "execution_count": 47,
   "metadata": {},
   "outputs": [
    {
     "name": "stdout",
     "output_type": "stream",
     "text": [
      "INFO: 'model_v2' does not exist. Creating a new experiment\n"
     ]
    }
   ],
   "source": [
    "#init the mlflow - make sure to end the last run before starting new one\n",
    "#mlflow.create_experiment(model_version)\n",
    "mlflow.set_experiment(model_version)\n",
    "mlflow.log_param(\"Model name\", MODEL.name)"
   ]
  },
  {
   "cell_type": "markdown",
   "metadata": {},
   "source": [
    "### Initialize git and dvc"
   ]
  },
  {
   "cell_type": "code",
   "execution_count": 48,
   "metadata": {},
   "outputs": [
    {
     "name": "stdout",
     "output_type": "stream",
     "text": [
      "Initialized empty Git repository in C:/working/gitos/keras-onnx/data_v2/.git/\n",
      "Initialized DVC repository.\n",
      "\n",
      "You can now commit the changes to git.\n",
      "\n",
      "+---------------------------------------------------------------------+\n",
      "|                                                                     |\n",
      "|        DVC has enabled anonymous aggregate usage analytics.         |\n",
      "|     Read the analytics documentation (and how to opt-out) here:     |\n",
      "|             <https://dvc.org/doc/user-guide/analytics>              |\n",
      "|                                                                     |\n",
      "+---------------------------------------------------------------------+\n",
      "\n",
      "What's next?\n",
      "------------\n",
      "- Check out the documentation: <https://dvc.org/doc>\n",
      "- Get help and share ideas: <https://dvc.org/chat>\n",
      "- Star us on GitHub: <https://github.com/iterative/dvc>\n",
      "[master (root-commit) 6bd8d9e] Initialize DVC\n",
      " 9 files changed, 515 insertions(+)\n",
      " create mode 100644 .dvc/.gitignore\n",
      " create mode 100644 .dvc/config\n",
      " create mode 100644 .dvc/plots/confusion.json\n",
      " create mode 100644 .dvc/plots/confusion_normalized.json\n",
      " create mode 100644 .dvc/plots/default.json\n",
      " create mode 100644 .dvc/plots/linear.json\n",
      " create mode 100644 .dvc/plots/scatter.json\n",
      " create mode 100644 .dvc/plots/smooth.json\n",
      " create mode 100644 .dvcignore\n",
      "Setting 'myrepo' as a default remote.\n"
     ]
    },
    {
     "name": "stderr",
     "output_type": "stream",
     "text": [
      "warning: LF will be replaced by CRLF in mlruns/0/meta.yaml.\n",
      "The file will have its original line endings in your working directory\n",
      "warning: LF will be replaced by CRLF in mlruns/1/8d783c642a9f41c4a8611c200c4c0772/meta.yaml.\n",
      "The file will have its original line endings in your working directory\n",
      "warning: LF will be replaced by CRLF in mlruns/1/meta.yaml.\n",
      "The file will have its original line endings in your working directory\n"
     ]
    },
    {
     "name": "stdout",
     "output_type": "stream",
     "text": [
      "[master 56e9c46] init\n",
      " 8 files changed, 31 insertions(+)\n",
      " create mode 100644 mlruns/0/meta.yaml\n",
      " create mode 100644 mlruns/1/8d783c642a9f41c4a8611c200c4c0772/meta.yaml\n",
      " create mode 100644 mlruns/1/8d783c642a9f41c4a8611c200c4c0772/params/Model name\n",
      " create mode 100644 mlruns/1/8d783c642a9f41c4a8611c200c4c0772/tags/mlflow.source.name\n",
      " create mode 100644 mlruns/1/8d783c642a9f41c4a8611c200c4c0772/tags/mlflow.source.type\n",
      " create mode 100644 mlruns/1/8d783c642a9f41c4a8611c200c4c0772/tags/mlflow.user\n",
      " create mode 100644 mlruns/1/meta.yaml\n"
     ]
    }
   ],
   "source": [
    "!git config --global user.email \"levyron77@gmail.com\"\n",
    "!git config --global user.name \"Ronen Levy\"\n",
    "\n",
    "# global edit by visual code\n",
    "#git config --edit --global\n",
    "#git config --global core.editor \"code --wait --new-window\"\n",
    "#git log\n",
    "\n",
    "# creating SSH Key\n",
    "# -----------------\n",
    "#ls -al ~/.ssh\n",
    "#ssh-keygen -t rsa -b 4096 -C \"levyron77@gmail.com\"\n",
    "#eval $(ssh-agent -s)\n",
    "#ssh-add ~/.ssh/id_rsa\n",
    "#ssh -T git@github.com\n",
    "\n",
    "# clone\n",
    "# --------\n",
    "#git clone git@github.com:ronen77/keras-dvc.git\n",
    "\n",
    "!git init\n",
    "!dvc init\n",
    "!git commit -m \"Initialize DVC\"\n",
    "!dvc remote add myRepo ..\\dvc_repository -d\n",
    "!git add .\n",
    "!git commit -m \"init\""
   ]
  },
  {
   "cell_type": "code",
   "execution_count": 49,
   "metadata": {},
   "outputs": [],
   "source": [
    "mlflow.end_run()"
   ]
  },
  {
   "cell_type": "code",
   "execution_count": 50,
   "metadata": {},
   "outputs": [
    {
     "name": "stdout",
     "output_type": "stream",
     "text": [
      "mlflow.start_run(), begin\n",
      "mlflow.start_run(), done\n"
     ]
    }
   ],
   "source": [
    "print(\"mlflow.start_run(), begin\")\n",
    "\n",
    "try:\n",
    "    mlflow.start_run()\n",
    "    \n",
    "except:\n",
    "    print(\"mlflow.start_run(), exception\")\n",
    "    \n",
    "    mlflow.end_run()\n",
    "    \n",
    "    mlflow.set_experiment(model_version)\n",
    "    mlflow.log_param(\"Model name\", MODEL.name)\n",
    "    \n",
    "    mlflow.start_run()\n",
    "    \n",
    "print(\"mlflow.start_run(), done\")    "
   ]
  },
  {
   "cell_type": "code",
   "execution_count": 51,
   "metadata": {},
   "outputs": [
    {
     "name": "stdout",
     "output_type": "stream",
     "text": [
      "-------------------------------\n",
      "Loop number 0: branch name branch_0, file to load data_gathered_at_0.csv\n",
      "-------------------------------\n",
      "M\tmlruns/1/8d783c642a9f41c4a8611c200c4c0772/meta.yaml"
     ]
    },
    {
     "name": "stderr",
     "output_type": "stream",
     "text": [
      "Already on 'master'\n"
     ]
    },
    {
     "name": "stdout",
     "output_type": "stream",
     "text": [
      "\n",
      "Everything is up to date.\n",
      "-------------------------------\n",
      "train_images contain 321 samples\n",
      "train_data contain 93 samples\n",
      "-------------------------------\n",
      "-------------------------------\n",
      "Create new branch name branch_0\n",
      "-------------------------------\n"
     ]
    },
    {
     "name": "stderr",
     "output_type": "stream",
     "text": [
      "ERROR: failed to pull data from the cloud - '#' does not exist as an output or a stage name in 'dvc.yaml': 'dvc.yaml' does not exist\n",
      "Switched to a new branch 'branch_0'\n"
     ]
    },
    {
     "name": "stdout",
     "output_type": "stream",
     "text": [
      "merged data contain 414 samples\n",
      "\n",
      "To track the changes with git, run:\n",
      "\n",
      "\tgit add merge_data.csv.dvc .gitignore\n",
      "Everything is up to date.\n",
      "[branch_0 73ae562] commit merge data of initial_training_data and data_gathered_at_0.csv\n",
      " 1 file changed, 4 insertions(+)\n",
      " create mode 100644 merge_data.csv.dvc\n",
      "-------------------------------\n",
      "Prepare the data\n",
      "-------------------------------\n",
      "-------------------------------\n",
      "run the model\n",
      "-------------------------------\n",
      "Epoch 1/12\n",
      "7/7 [==============================] - 179s 26s/step - loss: 0.1162 - accuracy: 0.7729 - val_loss: 2.8803 - val_accuracy: 0.2449\n",
      "Epoch 2/12\n",
      "7/7 [==============================] - 168s 24s/step - loss: 0.0853 - accuracy: 0.8261 - val_loss: 3.1758 - val_accuracy: 0.2449\n",
      "Epoch 3/12\n",
      "7/7 [==============================] - 186s 27s/step - loss: 0.0611 - accuracy: 0.8865 - val_loss: 3.5023 - val_accuracy: 0.2449\n",
      "Epoch 4/12\n",
      "7/7 [==============================] - 201s 29s/step - loss: 0.0503 - accuracy: 0.9010 - val_loss: 3.7257 - val_accuracy: 0.2449\n",
      "Epoch 5/12\n",
      "7/7 [==============================] - 178s 25s/step - loss: 0.0392 - accuracy: 0.9300 - val_loss: 3.7863 - val_accuracy: 0.2449\n",
      "Epoch 6/12\n",
      "7/7 [==============================] - 199s 28s/step - loss: 0.0282 - accuracy: 0.9565 - val_loss: 3.4152 - val_accuracy: 0.2449\n",
      "Epoch 7/12\n",
      "7/7 [==============================] - 189s 27s/step - loss: 0.0222 - accuracy: 0.9662 - val_loss: 3.6684 - val_accuracy: 0.2449\n",
      "Epoch 8/12\n",
      "7/7 [==============================] - 177s 25s/step - loss: 0.0195 - accuracy: 0.9638 - val_loss: 3.7744 - val_accuracy: 0.2449\n",
      "Epoch 9/12\n",
      "7/7 [==============================] - 183s 26s/step - loss: 0.0157 - accuracy: 0.9734 - val_loss: 3.7187 - val_accuracy: 0.2452\n",
      "Epoch 10/12\n",
      "7/7 [==============================] - 191s 27s/step - loss: 0.0113 - accuracy: 0.9831 - val_loss: 3.3889 - val_accuracy: 0.2499\n",
      "Epoch 11/12\n",
      "7/7 [==============================] - 194s 28s/step - loss: 0.0098 - accuracy: 0.9758 - val_loss: 3.3838 - val_accuracy: 0.2580\n",
      "Epoch 12/12\n",
      "7/7 [==============================] - 196s 28s/step - loss: 0.0096 - accuracy: 0.9783 - val_loss: 3.2059 - val_accuracy: 0.2516\n",
      "113/113 [==============================] - 143s 1s/step - loss: 3.2195 - accuracy: 0.2549\n",
      "-------------------------------\n",
      "The score is 0.25494566559791565\n",
      "-------------------------------\n",
      "M\tmlruns/1/8d783c642a9f41c4a8611c200c4c0772/meta.yaml-------------------------------\n",
      "!!! Good score 0.25494566559791565 (last=0) merge branch_0 to the master\n",
      "-------------------------------\n"
     ]
    },
    {
     "name": "stderr",
     "output_type": "stream",
     "text": [
      "Switched to branch 'master'\n"
     ]
    },
    {
     "name": "stdout",
     "output_type": "stream",
     "text": [
      "\n",
      "Updating 56e9c46..73ae562\n",
      "Fast-forward\n",
      " merge_data.csv.dvc | 4 ++++\n",
      " 1 file changed, 4 insertions(+)\n",
      " create mode 100644 merge_data.csv.dvc\n",
      "-------------------------------\n",
      "Deleting branch branch_0\n",
      "-------------------------------\n",
      "Deleted branch branch_0 (was 73ae562).\n",
      "-------------------------------\n",
      "Loop number 1: branch name branch_1, file to load data_gathered_at_1.csv\n",
      "-------------------------------\n",
      "M\tmlruns/1/8d783c642a9f41c4a8611c200c4c0772/meta.yaml\n"
     ]
    },
    {
     "name": "stderr",
     "output_type": "stream",
     "text": [
      "Already on 'master'\n"
     ]
    },
    {
     "name": "stdout",
     "output_type": "stream",
     "text": [
      "Everything is up to date.\n",
      "-------------------------------\n",
      "train_images contain 414 samples\n",
      "train_data contain 125 samples\n",
      "-------------------------------\n",
      "-------------------------------\n",
      "Create new branch name branch_1\n",
      "-------------------------------\n"
     ]
    },
    {
     "name": "stderr",
     "output_type": "stream",
     "text": [
      "ERROR: failed to pull data from the cloud - '#' does not exist as an output or a stage name in 'dvc.yaml': 'dvc.yaml' does not exist\n",
      "Switched to a new branch 'branch_1'\n"
     ]
    },
    {
     "name": "stdout",
     "output_type": "stream",
     "text": [
      "merged data contain 539 samples\n",
      "\n",
      "To track the changes with git, run:\n",
      "\n",
      "\tgit add merge_data.csv.dvc\n",
      "Everything is up to date.\n",
      "[branch_1 c37e874] commit merge data of initial_training_data and data_gathered_at_1.csv\n",
      " 1 file changed, 2 insertions(+), 2 deletions(-)\n",
      "-------------------------------\n",
      "Prepare the data\n",
      "-------------------------------\n",
      "-------------------------------\n",
      "run the model\n",
      "-------------------------------\n",
      "Epoch 1/12\n",
      "9/9 [==============================] - 212s 24s/step - loss: 0.1134 - accuracy: 0.8108 - val_loss: 3.3147 - val_accuracy: 0.2703\n",
      "Epoch 2/12\n",
      "9/9 [==============================] - 228s 25s/step - loss: 0.0655 - accuracy: 0.8404 - val_loss: 3.8189 - val_accuracy: 0.2513\n",
      "Epoch 3/12\n",
      "9/9 [==============================] - 216s 24s/step - loss: 0.0422 - accuracy: 0.9109 - val_loss: 3.5843 - val_accuracy: 0.2758\n",
      "Epoch 4/12\n",
      "9/9 [==============================] - 209s 23s/step - loss: 0.0298 - accuracy: 0.9258 - val_loss: 3.4591 - val_accuracy: 0.2563\n",
      "Epoch 5/12\n",
      "9/9 [==============================] - 241s 27s/step - loss: 0.0231 - accuracy: 0.9481 - val_loss: 2.8749 - val_accuracy: 0.2742\n",
      "Epoch 6/12\n",
      "9/9 [==============================] - 218s 24s/step - loss: 0.0182 - accuracy: 0.9555 - val_loss: 2.9867 - val_accuracy: 0.2867\n",
      "Epoch 7/12\n",
      "9/9 [==============================] - 215s 24s/step - loss: 0.0144 - accuracy: 0.9647 - val_loss: 3.5258 - val_accuracy: 0.2675\n",
      "Epoch 8/12\n",
      "9/9 [==============================] - 206s 23s/step - loss: 0.0113 - accuracy: 0.9777 - val_loss: 3.1378 - val_accuracy: 0.2744\n",
      "Epoch 9/12\n",
      "9/9 [==============================] - 208s 23s/step - loss: 0.0111 - accuracy: 0.9703 - val_loss: 2.4230 - val_accuracy: 0.3006\n",
      "Epoch 10/12\n",
      "9/9 [==============================] - 208s 23s/step - loss: 0.0066 - accuracy: 0.9814 - val_loss: 2.5665 - val_accuracy: 0.2834\n",
      "Epoch 11/12\n",
      "9/9 [==============================] - 206s 23s/step - loss: 0.0070 - accuracy: 0.9796 - val_loss: 2.7047 - val_accuracy: 0.2722\n",
      "Epoch 12/12\n",
      "9/9 [==============================] - 214s 24s/step - loss: 0.0054 - accuracy: 0.9814 - val_loss: 2.3762 - val_accuracy: 0.2973\n",
      "113/113 [==============================] - 132s 1s/step - loss: 2.5416 - accuracy: 0.2778\n",
      "-------------------------------\n",
      "The score is 0.2777932584285736\n",
      "-------------------------------\n",
      "M\tmlruns/1/8d783c642a9f41c4a8611c200c4c0772/meta.yaml-------------------------------\n",
      "\n",
      "!!! Good score 0.2777932584285736 (last=0.25494566559791565) merge branch_1 to the master\n",
      "-------------------------------\n"
     ]
    },
    {
     "name": "stderr",
     "output_type": "stream",
     "text": [
      "Switched to branch 'master'\n"
     ]
    },
    {
     "name": "stdout",
     "output_type": "stream",
     "text": [
      "Updating 73ae562..c37e874\n",
      "Fast-forward\n",
      " merge_data.csv.dvc | 4 ++--\n",
      " 1 file changed, 2 insertions(+), 2 deletions(-)\n",
      "-------------------------------\n",
      "Deleting branch branch_1\n",
      "-------------------------------\n",
      "Deleted branch branch_1 (was c37e874).\n",
      "-------------------------------\n",
      "Loop number 2: branch name branch_2, file to load data_gathered_at_2.csv\n",
      "-------------------------------\n",
      "M\tmlruns/1/8d783c642a9f41c4a8611c200c4c0772/meta.yaml\n"
     ]
    },
    {
     "name": "stderr",
     "output_type": "stream",
     "text": [
      "Already on 'master'\n"
     ]
    },
    {
     "name": "stdout",
     "output_type": "stream",
     "text": [
      "Everything is up to date.-------------------------------\n",
      "\n",
      "train_images contain 539 samples\n",
      "train_data contain 100 samples\n",
      "-------------------------------\n",
      "-------------------------------\n",
      "Create new branch name branch_2\n",
      "-------------------------------\n"
     ]
    },
    {
     "name": "stderr",
     "output_type": "stream",
     "text": [
      "ERROR: failed to pull data from the cloud - '#' does not exist as an output or a stage name in 'dvc.yaml': 'dvc.yaml' does not exist\n",
      "Switched to a new branch 'branch_2'\n"
     ]
    },
    {
     "name": "stdout",
     "output_type": "stream",
     "text": [
      "merged data contain 639 samples\n",
      "\n",
      "To track the changes with git, run:\n",
      "\n",
      "\tgit add merge_data.csv.dvc\n",
      "Everything is up to date.\n",
      "[branch_2 8ad404f] commit merge data of initial_training_data and data_gathered_at_2.csv-------------------------------\n",
      " 1 file changed, 2 insertions(+), 2 deletions(-)\n",
      "\n",
      "Prepare the data\n",
      "-------------------------------\n",
      "-------------------------------\n",
      "run the model\n",
      "-------------------------------\n",
      "Epoch 1/12\n",
      "10/10 [==============================] - 216s 22s/step - loss: 0.0723 - accuracy: 0.8513 - val_loss: 3.4529 - val_accuracy: 0.2630\n",
      "Epoch 2/12\n",
      "10/10 [==============================] - 215s 21s/step - loss: 0.0387 - accuracy: 0.9061 - val_loss: 3.4325 - val_accuracy: 0.2778\n",
      "Epoch 3/12\n",
      "10/10 [==============================] - 212s 21s/step - loss: 0.0197 - accuracy: 0.9452 - val_loss: 3.9564 - val_accuracy: 0.2853\n",
      "Epoch 4/12\n",
      "10/10 [==============================] - 209s 21s/step - loss: 0.0114 - accuracy: 0.9687 - val_loss: 3.8465 - val_accuracy: 0.2875\n",
      "Epoch 5/12\n",
      "10/10 [==============================] - 214s 21s/step - loss: 0.0078 - accuracy: 0.9797 - val_loss: 3.5397 - val_accuracy: 0.2761\n",
      "Epoch 6/12\n",
      "10/10 [==============================] - 253s 25s/step - loss: 0.0081 - accuracy: 0.9765 - val_loss: 3.2539 - val_accuracy: 0.2914\n",
      "Epoch 7/12\n",
      "10/10 [==============================] - 228s 23s/step - loss: 0.0070 - accuracy: 0.9765 - val_loss: 3.3193 - val_accuracy: 0.2731\n",
      "Epoch 8/12\n",
      "10/10 [==============================] - 224s 22s/step - loss: 0.0045 - accuracy: 0.9844 - val_loss: 3.0507 - val_accuracy: 0.2889\n",
      "Epoch 9/12\n",
      "10/10 [==============================] - 235s 24s/step - loss: 0.0052 - accuracy: 0.9797 - val_loss: 2.6469 - val_accuracy: 0.3380\n",
      "Epoch 10/12\n",
      "10/10 [==============================] - 236s 24s/step - loss: 0.0054 - accuracy: 0.9765 - val_loss: 2.7602 - val_accuracy: 0.3402\n",
      "Epoch 11/12\n",
      "10/10 [==============================] - 257s 26s/step - loss: 0.0034 - accuracy: 0.9828 - val_loss: 2.9014 - val_accuracy: 0.3371\n",
      "Epoch 12/12\n",
      "10/10 [==============================] - 223s 22s/step - loss: 0.0033 - accuracy: 0.9828 - val_loss: 2.7812 - val_accuracy: 0.3500\n",
      "113/113 [==============================] - 135s 1s/step - loss: 3.1535 - accuracy: 0.2889\n",
      "-------------------------------\n",
      "The score is 0.2889384329319\n",
      "-------------------------------\n",
      "M\tmlruns/1/8d783c642a9f41c4a8611c200c4c0772/meta.yaml\n",
      "-------------------------------\n",
      "!!! Good score 0.2889384329319 (last=0.2777932584285736) merge branch_2 to the master\n",
      "-------------------------------\n"
     ]
    },
    {
     "name": "stderr",
     "output_type": "stream",
     "text": [
      "Switched to branch 'master'\n"
     ]
    },
    {
     "name": "stdout",
     "output_type": "stream",
     "text": [
      "Updating c37e874..8ad404f\n",
      "Fast-forward\n",
      " merge_data.csv.dvc | 4 ++--\n",
      " 1 file changed, 2 insertions(+), 2 deletions(-)\n",
      "-------------------------------\n",
      "Deleting branch branch_2\n",
      "-------------------------------\n",
      "Deleted branch branch_2 (was 8ad404f).\n",
      "-------------------------------\n",
      "Loop number 3: branch name branch_3, file to load data_gathered_at_3.csv\n",
      "-------------------------------\n",
      "M\tmlruns/1/8d783c642a9f41c4a8611c200c4c0772/meta.yaml\n"
     ]
    },
    {
     "name": "stderr",
     "output_type": "stream",
     "text": [
      "Already on 'master'\n"
     ]
    },
    {
     "name": "stdout",
     "output_type": "stream",
     "text": [
      "Everything is up to date.\n",
      "-------------------------------\n",
      "train_images contain 639 samples\n",
      "train_data contain 107 samples\n",
      "-------------------------------\n",
      "-------------------------------\n",
      "Create new branch name branch_3\n",
      "-------------------------------\n"
     ]
    },
    {
     "name": "stderr",
     "output_type": "stream",
     "text": [
      "ERROR: failed to pull data from the cloud - '#' does not exist as an output or a stage name in 'dvc.yaml': 'dvc.yaml' does not exist\n",
      "Switched to a new branch 'branch_3'\n"
     ]
    },
    {
     "name": "stdout",
     "output_type": "stream",
     "text": [
      "merged data contain 746 samples\n",
      "\n",
      "To track the changes with git, run:\n",
      "\n",
      "\tgit add merge_data.csv.dvc\n",
      "Everything is up to date.\n",
      "[branch_3 ae29484] commit merge data of initial_training_data and data_gathered_at_3.csv-------------------------------\n",
      " 1 file changed, 2 insertions(+), 2 deletions(-)\n",
      "\n",
      "Prepare the data\n",
      "-------------------------------\n",
      "-------------------------------\n",
      "run the model\n",
      "-------------------------------\n",
      "Epoch 1/12\n",
      "12/12 [==============================] - 260s 22s/step - loss: 0.0741 - accuracy: 0.8861 - val_loss: 3.0218 - val_accuracy: 0.3413\n",
      "Epoch 2/12\n",
      "12/12 [==============================] - 253s 21s/step - loss: 0.0339 - accuracy: 0.9249 - val_loss: 3.3649 - val_accuracy: 0.3321\n",
      "Epoch 3/12\n",
      "12/12 [==============================] - 288s 24s/step - loss: 0.0191 - accuracy: 0.9504 - val_loss: 2.9920 - val_accuracy: 0.3550\n",
      "Epoch 4/12\n",
      "12/12 [==============================] - 234s 19s/step - loss: 0.0131 - accuracy: 0.9692 - val_loss: 2.7197 - val_accuracy: 0.3653\n",
      "Epoch 5/12\n",
      "12/12 [==============================] - 232s 19s/step - loss: 0.0085 - accuracy: 0.9759 - val_loss: 2.7872 - val_accuracy: 0.3795\n",
      "Epoch 6/12\n",
      "12/12 [==============================] - 230s 19s/step - loss: 0.0072 - accuracy: 0.9772 - val_loss: 2.7643 - val_accuracy: 0.3840\n",
      "Epoch 7/12\n",
      "12/12 [==============================] - 227s 19s/step - loss: 0.0064 - accuracy: 0.9772 - val_loss: 2.6794 - val_accuracy: 0.4015\n",
      "Epoch 8/12\n",
      "12/12 [==============================] - 228s 19s/step - loss: 0.0050 - accuracy: 0.9826 - val_loss: 2.6262 - val_accuracy: 0.4132\n",
      "Epoch 9/12\n",
      "12/12 [==============================] - 231s 19s/step - loss: 0.0056 - accuracy: 0.9826 - val_loss: 2.6336 - val_accuracy: 0.4057\n",
      "Epoch 10/12\n",
      "12/12 [==============================] - 231s 19s/step - loss: 0.0042 - accuracy: 0.9812 - val_loss: 2.6404 - val_accuracy: 0.3990\n",
      "Epoch 11/12\n",
      "12/12 [==============================] - 230s 19s/step - loss: 0.0039 - accuracy: 0.9799 - val_loss: 2.5921 - val_accuracy: 0.3968\n",
      "Epoch 12/12\n",
      "12/12 [==============================] - 226s 19s/step - loss: 0.0031 - accuracy: 0.9839 - val_loss: 2.5964 - val_accuracy: 0.4037\n",
      "113/113 [==============================] - 122s 1s/step - loss: 3.1567 - accuracy: 0.2917\n",
      "-------------------------------\n",
      "The score is 0.29172471165657043\n",
      "-------------------------------\n",
      "M\tmlruns/1/8d783c642a9f41c4a8611c200c4c0772/meta.yaml\n",
      "-------------------------------\n",
      "!!! Good score 0.29172471165657043 (last=0.2889384329319) merge branch_3 to the master\n",
      "-------------------------------\n"
     ]
    },
    {
     "name": "stderr",
     "output_type": "stream",
     "text": [
      "Switched to branch 'master'\n"
     ]
    },
    {
     "name": "stdout",
     "output_type": "stream",
     "text": [
      "Updating 8ad404f..ae29484\n",
      "Fast-forward\n",
      " merge_data.csv.dvc | 4 ++--\n",
      " 1 file changed, 2 insertions(+), 2 deletions(-)\n",
      "-------------------------------\n",
      "Deleting branch branch_3\n",
      "-------------------------------\n",
      "Deleted branch branch_3 (was ae29484).\n",
      "-------------------------------\n",
      "Loop number 4: branch name branch_4, file to load data_gathered_at_4.csv\n",
      "-------------------------------\n",
      "M\tmlruns/1/8d783c642a9f41c4a8611c200c4c0772/meta.yaml\n"
     ]
    },
    {
     "name": "stderr",
     "output_type": "stream",
     "text": [
      "Already on 'master'\n"
     ]
    },
    {
     "name": "stdout",
     "output_type": "stream",
     "text": [
      "Everything is up to date.\n",
      "-------------------------------\n",
      "train_images contain 746 samples\n",
      "train_data contain 112 samples\n",
      "-------------------------------\n",
      "-------------------------------\n",
      "Create new branch name branch_4\n",
      "-------------------------------\n"
     ]
    },
    {
     "name": "stderr",
     "output_type": "stream",
     "text": [
      "ERROR: failed to pull data from the cloud - '#' does not exist as an output or a stage name in 'dvc.yaml': 'dvc.yaml' does not exist\n",
      "Switched to a new branch 'branch_4'\n"
     ]
    },
    {
     "name": "stdout",
     "output_type": "stream",
     "text": [
      "merged data contain 858 samples\n",
      "\n",
      "To track the changes with git, run:\n",
      "\n",
      "\tgit add merge_data.csv.dvc\n",
      "Everything is up to date.\n",
      "[branch_4 0b98420] commit merge data of initial_training_data and data_gathered_at_4.csv\n",
      " 1 file changed, 2 insertions(+), 2 deletions(-)\n",
      "-------------------------------\n",
      "Prepare the data\n",
      "-------------------------------\n",
      "-------------------------------\n",
      "run the model\n",
      "-------------------------------\n",
      "Epoch 1/12\n",
      "14/14 [==============================] - 245s 18s/step - loss: 0.0880 - accuracy: 0.8695 - val_loss: 2.4379 - val_accuracy: 0.4274\n",
      "Epoch 2/12\n",
      "14/14 [==============================] - 243s 17s/step - loss: 0.0346 - accuracy: 0.9219 - val_loss: 2.5652 - val_accuracy: 0.4249\n",
      "Epoch 3/12\n",
      "14/14 [==============================] - 243s 17s/step - loss: 0.0190 - accuracy: 0.9499 - val_loss: 2.4508 - val_accuracy: 0.4531\n",
      "Epoch 4/12\n",
      "14/14 [==============================] - 1983s 142s/step - loss: 0.0119 - accuracy: 0.9627 - val_loss: 2.5050 - val_accuracy: 0.4536\n",
      "Epoch 5/12\n",
      "14/14 [==============================] - 251s 18s/step - loss: 0.0087 - accuracy: 0.9755 - val_loss: 2.5346 - val_accuracy: 0.4592\n",
      "Epoch 6/12\n",
      "14/14 [==============================] - 244s 17s/step - loss: 0.0063 - accuracy: 0.9744 - val_loss: 2.4326 - val_accuracy: 0.4631\n",
      "Epoch 7/12\n",
      "14/14 [==============================] - 240s 17s/step - loss: 0.0057 - accuracy: 0.9790 - val_loss: 2.4410 - val_accuracy: 0.4595\n",
      "Epoch 8/12\n",
      "14/14 [==============================] - 239s 17s/step - loss: 0.0046 - accuracy: 0.9779 - val_loss: 2.5056 - val_accuracy: 0.4544\n",
      "Epoch 9/12\n",
      "14/14 [==============================] - 239s 17s/step - loss: 0.0050 - accuracy: 0.9779 - val_loss: 2.4224 - val_accuracy: 0.4547\n",
      "Epoch 10/12\n",
      "14/14 [==============================] - 239s 17s/step - loss: 0.0049 - accuracy: 0.9767 - val_loss: 2.4488 - val_accuracy: 0.4634\n",
      "Epoch 11/12\n",
      "14/14 [==============================] - 241s 17s/step - loss: 0.0056 - accuracy: 0.9779 - val_loss: 2.4616 - val_accuracy: 0.4695\n",
      "Epoch 12/12\n",
      "14/14 [==============================] - 240s 17s/step - loss: 0.0037 - accuracy: 0.9802 - val_loss: 2.4311 - val_accuracy: 0.4614\n",
      "113/113 [==============================] - 120s 1s/step - loss: 3.0449 - accuracy: 0.3299\n",
      "-------------------------------\n",
      "The score is 0.3298968970775604\n",
      "-------------------------------\n",
      "M\tmlruns/1/8d783c642a9f41c4a8611c200c4c0772/meta.yaml\n",
      "-------------------------------\n",
      "!!! Good score 0.3298968970775604 (last=0.29172471165657043) merge branch_4 to the master\n",
      "-------------------------------\n"
     ]
    },
    {
     "name": "stderr",
     "output_type": "stream",
     "text": [
      "Switched to branch 'master'\n"
     ]
    },
    {
     "name": "stdout",
     "output_type": "stream",
     "text": [
      "Updating ae29484..0b98420\n",
      "Fast-forward\n",
      " merge_data.csv.dvc | 4 ++--\n",
      " 1 file changed, 2 insertions(+), 2 deletions(-)\n",
      "-------------------------------\n",
      "Deleting branch branch_4\n",
      "-------------------------------\n",
      "Deleted branch branch_4 (was 0b98420).\n",
      "-------------------------------\n",
      "Loop number 5: branch name branch_5, file to load data_gathered_at_5.csv\n",
      "-------------------------------\n",
      "M\tmlruns/1/8d783c642a9f41c4a8611c200c4c0772/meta.yaml\n"
     ]
    },
    {
     "name": "stderr",
     "output_type": "stream",
     "text": [
      "Already on 'master'\n"
     ]
    },
    {
     "name": "stdout",
     "output_type": "stream",
     "text": [
      "Everything is up to date.\n",
      "-------------------------------\n",
      "train_images contain 858 samples\n",
      "train_data contain 123 samples\n",
      "-------------------------------\n",
      "-------------------------------\n",
      "Create new branch name branch_5\n",
      "-------------------------------\n"
     ]
    },
    {
     "name": "stderr",
     "output_type": "stream",
     "text": [
      "ERROR: failed to pull data from the cloud - '#' does not exist as an output or a stage name in 'dvc.yaml': 'dvc.yaml' does not exist\n",
      "Switched to a new branch 'branch_5'\n"
     ]
    },
    {
     "name": "stdout",
     "output_type": "stream",
     "text": [
      "merged data contain 981 samples\n",
      "\n",
      "To track the changes with git, run:\n",
      "\n",
      "\tgit add merge_data.csv.dvc\n",
      "Everything is up to date.\n",
      "[branch_5 62caef6] commit merge data of initial_training_data and data_gathered_at_5.csv\n",
      " 1 file changed, 2 insertions(+), 2 deletions(-)\n",
      "-------------------------------\n",
      "Prepare the data\n",
      "-------------------------------\n",
      "-------------------------------\n",
      "run the model\n",
      "-------------------------------\n",
      "Epoch 1/12\n",
      "16/16 [==============================] - 259s 16s/step - loss: 0.0828 - accuracy: 0.8807 - val_loss: 2.3871 - val_accuracy: 0.4868\n",
      "Epoch 2/12\n",
      "16/16 [==============================] - 259s 16s/step - loss: 0.0250 - accuracy: 0.9337 - val_loss: 2.1770 - val_accuracy: 0.4893\n",
      "Epoch 3/12\n",
      "16/16 [==============================] - 260s 16s/step - loss: 0.0137 - accuracy: 0.9582 - val_loss: 2.1467 - val_accuracy: 0.5079\n",
      "Epoch 4/12\n",
      "16/16 [==============================] - 260s 16s/step - loss: 0.0100 - accuracy: 0.9653 - val_loss: 2.1762 - val_accuracy: 0.5149\n",
      "Epoch 5/12\n",
      "16/16 [==============================] - 260s 16s/step - loss: 0.0082 - accuracy: 0.9674 - val_loss: 2.2747 - val_accuracy: 0.4962\n",
      "Epoch 6/12\n",
      "16/16 [==============================] - 259s 16s/step - loss: 0.0088 - accuracy: 0.9674 - val_loss: 2.3870 - val_accuracy: 0.4993\n",
      "Epoch 7/12\n",
      "16/16 [==============================] - 260s 16s/step - loss: 0.0072 - accuracy: 0.9715 - val_loss: 2.2981 - val_accuracy: 0.5046\n",
      "Epoch 8/12\n",
      "16/16 [==============================] - 260s 16s/step - loss: 0.0049 - accuracy: 0.9755 - val_loss: 2.2141 - val_accuracy: 0.5071\n",
      "Epoch 9/12\n",
      "16/16 [==============================] - 261s 16s/step - loss: 0.0039 - accuracy: 0.9776 - val_loss: 2.2564 - val_accuracy: 0.5052\n",
      "Epoch 10/12\n",
      "16/16 [==============================] - 259s 16s/step - loss: 0.0039 - accuracy: 0.9796 - val_loss: 2.2909 - val_accuracy: 0.5052\n",
      "Epoch 11/12\n",
      "16/16 [==============================] - 260s 16s/step - loss: 0.0041 - accuracy: 0.9766 - val_loss: 2.3850 - val_accuracy: 0.5029\n",
      "Epoch 12/12\n",
      "16/16 [==============================] - 260s 16s/step - loss: 0.0039 - accuracy: 0.9776 - val_loss: 2.4176 - val_accuracy: 0.5152\n",
      "113/113 [==============================] - 122s 1s/step - loss: 3.1548 - accuracy: 0.3449\n",
      "-------------------------------\n",
      "The score is 0.3449428677558899\n",
      "-------------------------------\n",
      "M\tmlruns/1/8d783c642a9f41c4a8611c200c4c0772/meta.yaml\n",
      "-------------------------------\n",
      "!!! Good score 0.3449428677558899 (last=0.3298968970775604) merge branch_5 to the master\n",
      "-------------------------------\n"
     ]
    },
    {
     "name": "stderr",
     "output_type": "stream",
     "text": [
      "Switched to branch 'master'\n"
     ]
    },
    {
     "name": "stdout",
     "output_type": "stream",
     "text": [
      "Updating 0b98420..62caef6\n",
      "Fast-forward\n",
      " merge_data.csv.dvc | 4 ++--\n",
      " 1 file changed, 2 insertions(+), 2 deletions(-)\n",
      "-------------------------------\n",
      "Deleting branch branch_5\n",
      "-------------------------------\n",
      "Deleted branch branch_5 (was 62caef6).\n",
      "-------------------------------\n",
      "Loop number 6: branch name branch_6, file to load data_gathered_at_6.csv\n",
      "-------------------------------\n",
      "M\tmlruns/1/8d783c642a9f41c4a8611c200c4c0772/meta.yaml\n"
     ]
    },
    {
     "name": "stderr",
     "output_type": "stream",
     "text": [
      "Already on 'master'\n"
     ]
    },
    {
     "name": "stdout",
     "output_type": "stream",
     "text": [
      "Everything is up to date.-------------------------------\n",
      "\n",
      "train_images contain 981 samples\n",
      "train_data contain 98 samples\n",
      "-------------------------------\n",
      "-------------------------------\n",
      "Create new branch name branch_6\n",
      "-------------------------------\n"
     ]
    },
    {
     "name": "stderr",
     "output_type": "stream",
     "text": [
      "ERROR: failed to pull data from the cloud - '#' does not exist as an output or a stage name in 'dvc.yaml': 'dvc.yaml' does not exist\n",
      "Switched to a new branch 'branch_6'\n"
     ]
    },
    {
     "name": "stdout",
     "output_type": "stream",
     "text": [
      "merged data contain 1079 samples\n",
      "\n",
      "To track the changes with git, run:\n",
      "\n",
      "\tgit add merge_data.csv.dvc\n",
      "Everything is up to date.\n",
      "[branch_6 6183cdc] commit merge data of initial_training_data and data_gathered_at_6.csv\n",
      " 1 file changed, 2 insertions(+), 2 deletions(-)\n",
      "-------------------------------\n",
      "Prepare the data\n",
      "-------------------------------\n",
      "-------------------------------\n",
      "run the model\n",
      "-------------------------------\n",
      "Epoch 1/12\n",
      "17/17 [==============================] - 275s 16s/step - loss: 0.0479 - accuracy: 0.9166 - val_loss: 2.2561 - val_accuracy: 0.5132\n",
      "Epoch 2/12\n",
      "17/17 [==============================] - 274s 16s/step - loss: 0.0183 - accuracy: 0.9462 - val_loss: 2.2538 - val_accuracy: 0.5208\n",
      "Epoch 3/12\n",
      "17/17 [==============================] - 275s 16s/step - loss: 0.0107 - accuracy: 0.9574 - val_loss: 2.2801 - val_accuracy: 0.5155\n",
      "Epoch 4/12\n",
      "17/17 [==============================] - 275s 16s/step - loss: 0.0066 - accuracy: 0.9713 - val_loss: 2.3098 - val_accuracy: 0.5291\n",
      "Epoch 5/12\n",
      "17/17 [==============================] - 274s 16s/step - loss: 0.0050 - accuracy: 0.9768 - val_loss: 2.2298 - val_accuracy: 0.5319\n",
      "Epoch 6/12\n",
      "17/17 [==============================] - 274s 16s/step - loss: 0.0036 - accuracy: 0.9778 - val_loss: 2.2125 - val_accuracy: 0.5196\n",
      "Epoch 7/12\n",
      "17/17 [==============================] - 275s 16s/step - loss: 0.0034 - accuracy: 0.9787 - val_loss: 2.2384 - val_accuracy: 0.5224\n",
      "Epoch 8/12\n",
      "17/17 [==============================] - 274s 16s/step - loss: 0.0028 - accuracy: 0.9796 - val_loss: 2.2174 - val_accuracy: 0.5305\n",
      "Epoch 9/12\n",
      "17/17 [==============================] - 274s 16s/step - loss: 0.0022 - accuracy: 0.9796 - val_loss: 2.2188 - val_accuracy: 0.5241\n",
      "Epoch 10/12\n",
      "17/17 [==============================] - 275s 16s/step - loss: 0.0022 - accuracy: 0.9805 - val_loss: 2.2647 - val_accuracy: 0.5230\n",
      "Epoch 11/12\n",
      "17/17 [==============================] - 274s 16s/step - loss: 0.0019 - accuracy: 0.9796 - val_loss: 2.2768 - val_accuracy: 0.5283\n",
      "Epoch 12/12\n",
      "17/17 [==============================] - 274s 16s/step - loss: 0.0021 - accuracy: 0.9805 - val_loss: 2.3086 - val_accuracy: 0.5288\n",
      "113/113 [==============================] - 121s 1s/step - loss: 3.2044 - accuracy: 0.3488\n",
      "-------------------------------\n",
      "The score is 0.34884369373321533\n",
      "-------------------------------\n",
      "M\tmlruns/1/8d783c642a9f41c4a8611c200c4c0772/meta.yaml\n",
      "-------------------------------\n",
      "!!! Good score 0.34884369373321533 (last=0.3449428677558899) merge branch_6 to the master\n",
      "-------------------------------\n"
     ]
    },
    {
     "name": "stderr",
     "output_type": "stream",
     "text": [
      "Switched to branch 'master'\n"
     ]
    },
    {
     "name": "stdout",
     "output_type": "stream",
     "text": [
      "Updating 62caef6..6183cdc\n",
      "Fast-forward\n",
      " merge_data.csv.dvc | 4 ++--\n",
      " 1 file changed, 2 insertions(+), 2 deletions(-)\n",
      "-------------------------------\n",
      "Deleting branch branch_6\n",
      "-------------------------------\n",
      "Deleted branch branch_6 (was 6183cdc).\n"
     ]
    }
   ],
   "source": [
    "# 1. load and merge the data\n",
    "# 2. create branch and push to the branch and dvc\n",
    "# 3. decide according to the score how to proceed drop or merge to master\n",
    "\n",
    "train_images = pd.read_csv('../' + raw_data_path + 'initial_training_data.csv')\n",
    "train_images.to_csv(\"merge_data.csv\")\n",
    "\n",
    "Last_score  = 0\n",
    "Grace_error = 0.005\n",
    "\n",
    "for seq in range(7):\n",
    "    \n",
    "    #parameters\n",
    "    branch_name   = 'branch_' + str(seq)\n",
    "    csv_file_name = 'data_gathered_at_' + str(seq) + '.csv'\n",
    "    commit_str    = 'commit merge data of initial_training_data and ' + csv_file_name\n",
    "    \n",
    "    print(\"-------------------------------\")\n",
    "    print(f'Loop number {seq}: branch name {branch_name}, file to load {csv_file_name}')\n",
    "    print(\"-------------------------------\")\n",
    "    \n",
    "    #make sure u start from the master branch\n",
    "    !git checkout master\n",
    "    !dvc pull  # same effect as 'dvc checkout'\n",
    "    \n",
    "    #load data and merge to the initial training\n",
    "    print(\"-------------------------------\")\n",
    "    train_images = pd.read_csv(\"merge_data.csv\")\n",
    "    print(f'train_images contain {len(train_images)} samples')\n",
    "    train_data = pd.read_csv('../' + raw_data_path + csv_file_name)\n",
    "    print(f'train_data contain {len(train_data)} samples')\n",
    "    train_data = pd.concat([train_images, train_data])\n",
    "    print(\"-------------------------------\")\n",
    "    \n",
    "    #create new branch\n",
    "    print(\"-------------------------------\")\n",
    "    print(f'Create new branch name {branch_name}')\n",
    "    print(\"-------------------------------\")\n",
    "    !git checkout -b {branch_name}\n",
    "    \n",
    "    #save the new file to /data directory\n",
    "    train_data.to_csv(\"merge_data.csv\")\n",
    "    train_data = pd.read_csv('merge_data.csv')\n",
    "    print(f'merged data contain {len(train_data)} samples')\n",
    "        \n",
    "    !dvc add merge_data.csv\n",
    "    !dvc push merge_data.csv\n",
    "    !git add merge_data.csv.dvc\n",
    "    !git commit -m \"{commit_str}\"\n",
    "    \n",
    "    #prepare the data\n",
    "    print(\"-------------------------------\")\n",
    "    print(f'Prepare the data')\n",
    "    print(\"-------------------------------\")\n",
    "    train_images, train_labels = data_to_tf_data(train_data)\n",
    "    \n",
    "    #run the model\n",
    "    print(\"-------------------------------\")\n",
    "    print(f'run the model')\n",
    "    print(\"-------------------------------\")\n",
    "    history = MODEL.fit(train_images, train_labels,\n",
    "                    validation_data=(val_images, val_labels),\n",
    "                    class_weight = class_weight,\n",
    "                    epochs=12, # should be 12\n",
    "                    batch_size=64)\n",
    "\n",
    "    \n",
    "    \n",
    "    test_loss, test_acc = MODEL.evaluate(test_images, test_labels)\n",
    "    print(\"-------------------------------\")\n",
    "    print(f'The score is {test_acc}')\n",
    "    print(\"-------------------------------\")\n",
    "    \n",
    "    !git checkout master\n",
    "    \n",
    "    if test_acc >= (Last_score - Grace_error):\n",
    "        print(\"-------------------------------\")\n",
    "        print(f'!!! Good score {test_acc} (last={Last_score}) merge {branch_name} to the master')\n",
    "        print(\"-------------------------------\")\n",
    "        !git merge {branch_name}\n",
    "        \n",
    "    else:\n",
    "        print(\"-------------------------------\")\n",
    "        print(f'!!! Bad score {test_acc} (last={Last_score}) delete {branch_name}')\n",
    "        print(\"-------------------------------\")\n",
    "    \n",
    "    if test_acc >= (Last_score - Grace_error):\n",
    "        Last_score = test_acc\n",
    "\n",
    "    print(\"-------------------------------\")\n",
    "    print(f'Deleting branch {branch_name}')\n",
    "    print(\"-------------------------------\")\n",
    "    !git branch -D {branch_name} \n",
    "    \n",
    "    #update the mlflow\n",
    "    mlflow.log_metric(key=\"Accuracy\", value=test_acc, step=seq)\n",
    "              \n",
    "    ### END OF LOOP"
   ]
  },
  {
   "cell_type": "code",
   "execution_count": 52,
   "metadata": {},
   "outputs": [],
   "source": [
    "# open http://localhost:5000 in browser, and observe the mflow results\n",
    "# take snapshots\n",
    "\n",
    "mlflow.end_run()"
   ]
  },
  {
   "cell_type": "code",
   "execution_count": 53,
   "metadata": {},
   "outputs": [
    {
     "data": {
      "text/plain": [
       "0.34884369373321533"
      ]
     },
     "execution_count": 53,
     "metadata": {},
     "output_type": "execute_result"
    }
   ],
   "source": [
    "Last_score"
   ]
  },
  {
   "cell_type": "code",
   "execution_count": 54,
   "metadata": {},
   "outputs": [
    {
     "name": "stdout",
     "output_type": "stream",
     "text": [
      "M\tmlruns/1/8d783c642a9f41c4a8611c200c4c0772/meta.yaml\n"
     ]
    },
    {
     "name": "stderr",
     "output_type": "stream",
     "text": [
      "Already on 'master'\n"
     ]
    }
   ],
   "source": [
    "!git checkout master"
   ]
  },
  {
   "cell_type": "code",
   "execution_count": 55,
   "metadata": {},
   "outputs": [
    {
     "data": {
      "text/plain": [
       "1079"
      ]
     },
     "execution_count": 55,
     "metadata": {},
     "output_type": "execute_result"
    }
   ],
   "source": [
    "train_data = pd.read_csv('merge_data.csv')\n",
    "len(train_data)"
   ]
  },
  {
   "cell_type": "code",
   "execution_count": 56,
   "metadata": {},
   "outputs": [
    {
     "data": {
      "text/plain": [
       "array([[0.00000055, 0.00005171, 0.0000416 , ..., 0.00003123, 0.0000001 ,\n",
       "        0.08038028],\n",
       "       [0.09491826, 0.0297834 , 0.5234936 , ..., 0.27178362, 0.01006822,\n",
       "        0.05585042],\n",
       "       [0.02367117, 0.00718196, 0.00880926, ..., 0.9358925 , 0.01391318,\n",
       "        0.00713738],\n",
       "       ...,\n",
       "       [0.00361824, 0.00098732, 0.00157128, ..., 0.17623898, 0.0280628 ,\n",
       "        0.78949344],\n",
       "       [0.16050288, 0.00629142, 0.0020618 , ..., 0.8095097 , 0.00025244,\n",
       "        0.00248745],\n",
       "       [0.00074523, 0.00018037, 0.00010499, ..., 0.6850656 , 0.00016385,\n",
       "        0.31373042]], dtype=float32)"
      ]
     },
     "execution_count": 56,
     "metadata": {},
     "output_type": "execute_result"
    }
   ],
   "source": [
    "pred_test_labels = MODEL.predict(test_images)\n",
    "pred_test_labels"
   ]
  },
  {
   "cell_type": "markdown",
   "metadata": {},
   "source": [
    "# <h1 style='background:#CCCCCC; border:0; color:black'><center><span style=\"color: royalblue;\"><span style=\"color: royalblue;\">Analyse Convergence</span></span></center></h1> "
   ]
  },
  {
   "cell_type": "code",
   "execution_count": 57,
   "metadata": {
    "_kg_hide-input": true
   },
   "outputs": [
    {
     "data": {
      "image/png": "[encoded data removed]",
      "text/plain": [
       "<Figure size 432x288 with 1 Axes>"
      ]
     },
     "metadata": {
      "needs_background": "light"
     },
     "output_type": "display_data"
    }
   ],
   "source": [
    "loss = history.history['loss']\n",
    "loss_val = history.history['val_loss']\n",
    "epochs = range(1, len(loss)+1)\n",
    "plt.plot(epochs, loss, 'bo', label='loss_train')\n",
    "plt.plot(epochs, loss_val, 'b', label='loss_val')\n",
    "plt.title('value of the loss function')\n",
    "plt.xlabel('epochs')\n",
    "plt.ylabel('value of the loss function')\n",
    "plt.legend()\n",
    "plt.grid()\n",
    "plt.show()"
   ]
  },
  {
   "cell_type": "code",
   "execution_count": 58,
   "metadata": {
    "_kg_hide-input": true
   },
   "outputs": [
    {
     "data": {
      "image/png": "[encoded data removed]",
      "text/plain": [
       "<Figure size 432x288 with 1 Axes>"
      ]
     },
     "metadata": {
      "needs_background": "light"
     },
     "output_type": "display_data"
    }
   ],
   "source": [
    "acc = history.history['accuracy']\n",
    "acc_val = history.history['val_accuracy']\n",
    "epochs = range(1, len(loss)+1)\n",
    "plt.plot(epochs, acc, 'bo', label='accuracy_train')\n",
    "plt.plot(epochs, acc_val, 'b', label='accuracy_val')\n",
    "plt.title('accuracy')\n",
    "plt.xlabel('epochs')\n",
    "plt.ylabel('value of accuracy')\n",
    "plt.legend()\n",
    "plt.grid()\n",
    "plt.show()"
   ]
  },
  {
   "cell_type": "markdown",
   "metadata": {},
   "source": [
    "# <h1 style='background:#CCCCCC; border:0; color:black'><center><span style=\"color: royalblue;\"><span style=\"color: royalblue;\">Analyse Results</span></span></center></h1> "
   ]
  },
  {
   "cell_type": "code",
   "execution_count": 59,
   "metadata": {
    "_kg_hide-input": true
   },
   "outputs": [
    {
     "data": {
      "image/png": "[encoded data removed]",
      "text/plain": [
       "<Figure size 864x432 with 2 Axes>"
      ]
     },
     "metadata": {
      "needs_background": "light"
     },
     "output_type": "display_data"
    }
   ],
   "source": [
    "plot_image_and_emotion(test_image_array, test_image_label, pred_test_labels, 106)"
   ]
  },
  {
   "cell_type": "code",
   "execution_count": 60,
   "metadata": {
    "_kg_hide-input": true
   },
   "outputs": [
    {
     "data": {
      "image/png": "[encoded data removed]",
      "text/plain": [
       "<Figure size 864x432 with 2 Axes>"
      ]
     },
     "metadata": {
      "needs_background": "light"
     },
     "output_type": "display_data"
    }
   ],
   "source": [
    "plot_image_and_emotion(test_image_array, test_image_label, pred_test_labels, 40)"
   ]
  },
  {
   "cell_type": "code",
   "execution_count": 61,
   "metadata": {
    "_kg_hide-input": true
   },
   "outputs": [
    {
     "data": {
      "image/png": "[encoded data removed]",
      "text/plain": [
       "<Figure size 864x432 with 2 Axes>"
      ]
     },
     "metadata": {
      "needs_background": "light"
     },
     "output_type": "display_data"
    }
   ],
   "source": [
    "plot_compare_distributions(test_labels, pred_test_labels, title1='test labels', title2='predict labels')"
   ]
  },
  {
   "cell_type": "markdown",
   "metadata": {},
   "source": [
    "# <h1 style='background:#CCCCCC; border:0; color:black'><center><span style=\"color: royalblue;\"><span style=\"color: royalblue;\">Analyse Wrong Prediction</span></span></center></h1> \n",
    "The accuracy score is about 25% on the test set. So it is obvious to take focus on the wrong predictions. We want to extract details to improve the model."
   ]
  },
  {
   "cell_type": "code",
   "execution_count": 62,
   "metadata": {
    "_kg_hide-input": true
   },
   "outputs": [],
   "source": [
    "df_compare = pd.DataFrame()\n",
    "df_compare['real']  = test_labels.argmax(axis=1)\n",
    "df_compare['pred']  = pred_test_labels.argmax(axis=1)\n",
    "df_compare['wrong'] = np.where(df_compare['real']!=df_compare['pred'], 1, 0)"
   ]
  },
  {
   "cell_type": "code",
   "execution_count": 63,
   "metadata": {
    "_kg_hide-input": true
   },
   "outputs": [
    {
     "data": {
      "text/plain": [
       "array([[ 98,   0,  64, 101,  71,  29, 104],\n",
       "       [  9,   0,  12,   8,  12,   4,  11],\n",
       "       [ 66,   0, 107,  88,  81,  67,  87],\n",
       "       [ 76,   0,  84, 527,  81,  17, 110],\n",
       "       [111,   0, 104, 116, 152,  22, 148],\n",
       "       [ 33,   0,  79,  53,  36, 167,  47],\n",
       "       [ 63,   0,  91, 119, 102,  31, 201]], dtype=int64)"
      ]
     },
     "execution_count": 63,
     "metadata": {},
     "output_type": "execute_result"
    }
   ],
   "source": [
    "conf_mat = confusion_matrix(test_labels.argmax(axis=1), pred_test_labels.argmax(axis=1))\n",
    "conf_mat"
   ]
  },
  {
   "cell_type": "code",
   "execution_count": 64,
   "metadata": {},
   "outputs": [
    {
     "name": "stderr",
     "output_type": "stream",
     "text": [
      "<ipython-input-64-45440dedc879>:6: UserWarning: Matplotlib is currently using module://ipykernel.pylab.backend_inline, which is a non-GUI backend, so cannot show the figure.\n",
      "  fig.show()\n"
     ]
    },
    {
     "data": {
      "image/png": "[encoded data removed]",
      "text/plain": [
       "<Figure size 576x576 with 1 Axes>"
      ]
     },
     "metadata": {
      "needs_background": "light"
     },
     "output_type": "display_data"
    }
   ],
   "source": [
    "fig, ax = plot_confusion_matrix(conf_mat=conf_mat,\n",
    "                                show_normed=True,\n",
    "                                show_absolute=False,\n",
    "                                class_names=emotions.values(),\n",
    "                                figsize=(8, 8))\n",
    "fig.show()"
   ]
  },
  {
   "cell_type": "markdown",
   "metadata": {},
   "source": [
    "### save the notebook in html format"
   ]
  },
  {
   "cell_type": "code",
   "execution_count": 65,
   "metadata": {},
   "outputs": [
    {
     "name": "stdout",
     "output_type": "stream",
     "text": [
      "This application is used to convert notebook files (*.ipynb) to various other\n",
      "formats.\n",
      "\n",
      "WARNING: THE COMMANDLINE INTERFACE MAY CHANGE IN FUTURE RELEASES.\n",
      "\n",
      "Options\n",
      "=======\n",
      "The options below are convenience aliases to configurable class-options,\n",
      "as listed in the \"Equivalent to\" description-line of the aliases.\n",
      "To see all configurable class-options for some <cmd>, use:\n",
      "    <cmd> --help-all\n",
      "\n",
      "--debug\n",
      "    set log level to logging.DEBUG (maximize logging output)\n",
      "    Equivalent to: [--Application.log_level=10]\n",
      "--generate-config\n",
      "    generate default config file\n",
      "    Equivalent to: [--JupyterApp.generate_config=True]\n",
      "-y\n",
      "    Answer yes to any questions instead of prompting.\n",
      "    Equivalent to: [--JupyterApp.answer_yes=True]\n",
      "--execute\n",
      "    Execute the notebook prior to export.\n",
      "    Equivalent to: [--ExecutePreprocessor.enabled=True]\n",
      "--allow-errors\n",
      "    Continue notebook execution even if one of the cells throws an error and include the error message in the cell output (the default behaviour is to abort conversion). This flag is only relevant if '--execute' was specified, too.\n",
      "    Equivalent to: [--ExecutePreprocessor.allow_errors=True]\n",
      "--stdin\n",
      "    read a single notebook file from stdin. Write the resulting notebook with default basename 'notebook.*'\n",
      "    Equivalent to: [--NbConvertApp.from_stdin=True]\n",
      "--stdout"
     ]
    },
    {
     "name": "stderr",
     "output_type": "stream",
     "text": [
      "[NbConvertApp] WARNING | pattern 'train.ipynb' matched no files\n"
     ]
    },
    {
     "name": "stdout",
     "output_type": "stream",
     "text": [
      "\n",
      "    Write notebook output to stdout instead of files.\n",
      "    Equivalent to: [--NbConvertApp.writer_class=StdoutWriter]\n",
      "--inplace\n",
      "    Run nbconvert in place, overwriting the existing notebook (only \n",
      "    relevant when converting to notebook format)\n",
      "    Equivalent to: [--NbConvertApp.use_output_suffix=False --NbConvertApp.export_format=notebook --FilesWriter.build_directory=]\n",
      "--clear-output\n",
      "    Clear output of current file and save in place, \n",
      "    overwriting the existing notebook.\n",
      "    Equivalent to: [--NbConvertApp.use_output_suffix=False --NbConvertApp.export_format=notebook --FilesWriter.build_directory= --ClearOutputPreprocessor.enabled=True]\n",
      "--no-prompt\n",
      "    Exclude input and output prompts from converted document.\n",
      "    Equivalent to: [--TemplateExporter.exclude_input_prompt=True --TemplateExporter.exclude_output_prompt=True]\n",
      "--no-input\n",
      "    Exclude input cells and output prompts from converted document. \n",
      "    This mode is ideal for generating code-free reports.\n",
      "    Equivalent to: [--TemplateExporter.exclude_output_prompt=True --TemplateExporter.exclude_input=True]\n",
      "--allow-chromium-download\n",
      "    Whether to allow downloading chromium if no suitable version is found on the system.\n",
      "    Equivalent to: [--WebPDFExporter.allow_chromium_download=True]\n",
      "--log-level=<Enum>\n",
      "    Set the log level by value or name.\n",
      "    Choices: any of [0, 10, 20, 30, 40, 50, 'DEBUG', 'INFO', 'WARN', 'ERROR', 'CRITICAL']\n",
      "    Default: 30\n",
      "    Equivalent to: [--Application.log_level]\n",
      "--config=<Unicode>\n",
      "    Full path of a config file.\n",
      "    Default: ''\n",
      "    Equivalent to: [--JupyterApp.config_file]\n",
      "--to=<Unicode>\n",
      "    The export format to be used, either one of the built-in formats\n",
      "    ['asciidoc', 'custom', 'html', 'html_ch', 'html_embed', 'html_toc',\n",
      "    'html_with_lenvs', 'html_with_toclenvs', 'latex', 'latex_with_lenvs',\n",
      "    'markdown', 'notebook', 'pdf', 'python', 'rst', 'script', 'selectLanguage',\n",
      "    'slides', 'slides_with_lenvs', 'webpdf'] or a dotted object name that\n",
      "    represents the import path for an `Exporter` class\n",
      "    Default: ''\n",
      "    Equivalent to: [--NbConvertApp.export_format]\n",
      "--template=<Unicode>\n",
      "    Name of the template to use\n",
      "    Default: ''\n",
      "    Equivalent to: [--TemplateExporter.template_name]"
     ]
    }
   ],
   "source": [
    "!jupyter nbconvert train.ipynb --to html"
   ]
  },
  {
   "cell_type": "code",
   "execution_count": 66,
   "metadata": {},
   "outputs": [
    {
     "name": "stdout",
     "output_type": "stream",
     "text": [
      "\n",
      "--template-file=<Unicode>\n",
      "    Name of the template file to use\n",
      "    Default: None\n",
      "    Equivalent to: [--TemplateExporter.template_file]\n",
      "--writer=<DottedObjectName>\n",
      "    Writer class used to write the  results of the conversion\n",
      "    Default: 'FilesWriter'\n",
      "    Equivalent to: [--NbConvertApp.writer_class]\n",
      "--post=<DottedOrNone>\n",
      "    PostProcessor class used to write the results of the conversion\n",
      "    Default: ''\n",
      "    Equivalent to: [--NbConvertApp.postprocessor_class]\n",
      "--output=<Unicode>\n",
      "    overwrite base name use for output files. can only be used when converting\n",
      "    one notebook at a time.\n",
      "    Default: ''\n",
      "    Equivalent to: [--NbConvertApp.output_base]\n",
      "--output-dir=<Unicode>\n",
      "    Directory to write output(s) to. Defaults to output to the directory of each\n",
      "    notebook. To recover previous default behaviour (outputting to the current\n",
      "    working directory) use . as the flag value.\n",
      "    Default: ''\n",
      "    Equivalent to: [--FilesWriter.build_directory]\n",
      "--reveal-prefix=<Unicode>\n",
      "    The URL prefix for reveal.js (version 3.x). This defaults to the reveal CDN,\n",
      "    but can be any url pointing to a copy  of reveal.js.\n",
      "    For speaker notes to work, this must be a relative path to a local  copy of\n",
      "    reveal.js: e.g., \"reveal.js\".\n",
      "    If a relative path is given, it must be a subdirectory of the current\n",
      "    directory (from which the server is run).\n",
      "    See the usage documentation\n",
      "    (https://nbconvert.readthedocs.io/en/latest/usage.html#reveal-js-html-\n",
      "    slideshow) for more details.\n",
      "    Default: ''\n",
      "    Equivalent to: [--SlidesExporter.reveal_url_prefix]\n",
      "--nbformat=<Enum>\n",
      "    The nbformat version to write. Use this to downgrade notebooks.\n",
      "    Choices: any of [1, 2, 3, 4]\n",
      "    Default: 4\n",
      "    Equivalent to: [--NotebookExporter.nbformat_version]\n",
      "\n",
      "Examples\n",
      "--------\n",
      "\n",
      "    The simplest way to use nbconvert is\n",
      "    \n",
      "    > jupyter nbconvert mynotebook.ipynb --to html\n",
      "    \n",
      "    Options include ['asciidoc', 'custom', 'html', 'html_ch', 'html_embed', 'html_toc', 'html_with_lenvs', 'html_with_toclenvs', 'latex', 'latex_with_lenvs', 'markdown', 'notebook', 'pdf', 'python', 'rst', 'script', 'selectLanguage', 'slides', 'slides_with_lenvs', 'webpdf'].\n",
      "    \n",
      "    > jupyter nbconvert --to latex mynotebook.ipynb\n",
      "    \n",
      "    Both HTML and LaTeX support multiple output templates. LaTeX includes\n",
      "    'base', 'article' and 'report'.  HTML includes 'basic' and 'full'. You\n",
      "    can specify the flavor of the format used.\n",
      "    \n",
      "    > jupyter nbconvert --to html --template lab mynotebook.ipynb\n",
      "    \n",
      "    You can also pipe the output to stdout, rather than a file\n",
      "    \n",
      "    > jupyter nbconvert mynotebook.ipynb --stdout\n",
      "    \n",
      "    PDF is generated via latex\n",
      "    \n",
      "    > jupyter nbconvert mynotebook.ipynb --to pdf\n",
      "    \n",
      "    You can get (and serve) a Reveal.js-powered slideshow\n",
      "    \n",
      "    > jupyter nbconvert myslides.ipynb --to slides --post serve\n",
      "    \n",
      "    Multiple notebooks can be given at the command line in a couple of \n",
      "    different ways:\n",
      "    \n",
      "    > jupyter nbconvert notebook*.ipynb\n",
      "    > jupyter nbconvert notebook1.ipynb notebook2.ipynb\n",
      "    \n",
      "    or you can specify the notebooks list in a config file, containing::\n",
      "    \n",
      "        c.NbConvertApp.notebooks = [\"my_notebook.ipynb\"]\n",
      "    \n",
      "    > jupyter nbconvert --config mycfg.py\n",
      "\n",
      "To see all available configurables, use `--help-all`.\n",
      "\n",
      "01-06-2021 03:40:33: Finished Successfully\n"
     ]
    }
   ],
   "source": [
    "import datetime\n",
    "now = datetime.datetime.now()\n",
    "print(f\"{now.strftime('%d-%m-%Y %H:%M:%S')}: Finished Successfully\")"
   ]
  },
  {
   "cell_type": "code",
   "execution_count": null,
   "metadata": {},
   "outputs": [],
   "source": []
  }
 ],
 "metadata": {
  "kernelspec": {
   "display_name": "Python 3",
   "language": "python",
   "name": "python3"
  },
  "language_info": {
   "codemirror_mode": {
    "name": "ipython",
    "version": 3
   },
   "file_extension": ".py",
   "mimetype": "text/x-python",
   "name": "python",
   "nbconvert_exporter": "python",
   "pygments_lexer": "ipython3",
   "version": "3.8.5"
  }
 },
 "nbformat": 4,
 "nbformat_minor": 4
}
