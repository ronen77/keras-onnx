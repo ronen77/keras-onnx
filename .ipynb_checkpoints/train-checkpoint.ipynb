{
 "cells": [
  {
   "cell_type": "markdown",
   "metadata": {
    "_cell_guid": "79c7e3d0-c299-4dcb-8224-4455121ee9b0",
    "_uuid": "d629ff2d2480ee46fbb7e2d37f6b5fab8052498a"
   },
   "source": [
    "![Elbit AI Academy](images/ai_acadamy.jpg)"
   ]
  },
  {
   "cell_type": "markdown",
   "metadata": {},
   "source": [
    "# <center> Final Project </center>"
   ]
  },
  {
   "cell_type": "markdown",
   "metadata": {},
   "source": [
    "### Project Description\n",
    "\n",
    "* The project goal is to simulate a real-life ML in a production scenario \n",
    "* You will be required to show Data Engineering skills and use the current Best known method for ML production\n"
   ]
  },
  {
   "cell_type": "markdown",
   "metadata": {},
   "source": [
    "### What will you need to show?\n",
    "\n",
    "* Good usage of the tools for ml engineering \n",
    "* Ability to understand and monitor your model \n",
    "* Data engeneering skils\n"
   ]
  },
  {
   "cell_type": "markdown",
   "metadata": {},
   "source": [
    "# <h1 style='background:#CCCCCC; border:0; color:black'><center><span style=\"color: royalblue;\"><span style=\"color: royalblue;\">Intro</span></span></center></h1> \n",
    "Welcome to the [facial expression competition](https://www.kaggle.com/c/challenges-in-representation-learning-facial-expression-recognition-challenge).\n",
    "\n",
    "\n",
    "\n",
    "<table>\n",
    "    <tr>\n",
    "        <td><img src=\"https://i.ibb.co/B394D0t/12.png\" width=\"100%\" height=\"100%\"></td>\n",
    "        <td><img src=\"https://i.ibb.co/5xV8MZj/40.png\" width=\"100%\" height=\"100%\"></td>\n",
    "        <td><img src=\"https://i.ibb.co/bFgXc43/19.png\" width=\"100%\" height=\"100%\"></td>\n",
    "    </tr>\n",
    "</table>\n",
    "The data consists of 48x48 pixel grayscale images of faces. The faces have been automatically registered so that the face is more or less centered and occupies about the same amount of space in each image. The task is to categorize each face based on the emotion shown in the facial expression in to one of seven categories:\n",
    "\n",
    "| categorie  | emotion  |\n",
    "|:---:|:---|\n",
    "| 0  | Angry  |\n",
    "| 1  |  Disgust |\n",
    "| 2  |  Fear |\n",
    "| 3  |  Happy |\n",
    "| 4  |  Sad |\n",
    "| 5  |  Surprise |\n",
    "| 6  | Neutral |\n",
    "\n",
    "We define a simple CNN model and compare the predicted results with ge given labels.\n",
    "#"
   ]
  },
  {
   "cell_type": "code",
   "execution_count": 1,
   "metadata": {},
   "outputs": [],
   "source": [
    "# the notebook should be run twice: \n",
    "#running_model = 1\n",
    "running_model = 2"
   ]
  },
  {
   "cell_type": "markdown",
   "metadata": {},
   "source": [
    "# <h1 style='background:#CCCCCC; border:0; color:black'><center><span style=\"color: royalblue;\">Libraries</span></center></h1> \n",
    "We load some standard libraries and packages of sklearn and keras."
   ]
  },
  {
   "cell_type": "code",
   "execution_count": 2,
   "metadata": {
    "_kg_hide-input": true
   },
   "outputs": [],
   "source": [
    "import pandas as pd\n",
    "import numpy as np\n",
    "import os\n",
    "import matplotlib.pyplot as plt\n",
    "\n",
    "from tensorflow.keras import models\n",
    "from tensorflow.keras.layers import Dense, Dropout, Flatten, Conv2D, MaxPool2D\n",
    "from tensorflow.keras.optimizers import RMSprop,Adam\n",
    "from tensorflow.keras.utils import to_categorical\n",
    "\n",
    "#second model imports\n",
    "from tensorflow.keras import datasets, layers\n",
    "from tensorflow.keras.layers import Input, Add, Dense, Activation, ZeroPadding2D,BatchNormalization, Flatten, Conv2D, AveragePooling2D, MaxPooling2D, GlobalMaxPooling2D\n",
    "\n",
    "from sklearn.metrics import confusion_matrix\n",
    "from mlxtend.plotting import plot_confusion_matrix\n",
    "\n",
    "import onnxruntime\n",
    "import onnxmltools\n",
    "import keras2onnx\n",
    "\n",
    "import mlflow\n",
    "\n",
    "np.set_printoptions(suppress=True)\n"
   ]
  },
  {
   "cell_type": "code",
   "execution_count": 3,
   "metadata": {},
   "outputs": [
    {
     "data": {
      "text/plain": [
       "'C:\\\\working\\\\gitos\\\\keras-onnx'"
      ]
     },
     "execution_count": 3,
     "metadata": {},
     "output_type": "execute_result"
    }
   ],
   "source": [
    "# check the current directory\n",
    "base_directory = %pwd\n",
    "base_directory"
   ]
  },
  {
   "cell_type": "code",
   "execution_count": 4,
   "metadata": {},
   "outputs": [],
   "source": [
    "models_path         = 'models/'\n",
    "data_v1_path        = 'data_v1/'\n",
    "data_v2_path        = 'data_v2/'\n",
    "dvc_repository_path = 'dvc_repository'\n",
    "raw_data_path       = 'raw_data/'\n",
    "mlflow_path         = 'mlflow/'"
   ]
  },
  {
   "cell_type": "markdown",
   "metadata": {},
   "source": [
    "# <h1 style='background:#CCCCCC; border:0; color:black'><center><span style=\"color: royalblue;\"><span style=\"color: royalblue;\">Configuration</span></span></center></h1> \n",
    "Get the configuration for a given month"
   ]
  },
  {
   "cell_type": "markdown",
   "metadata": {},
   "source": [
    "### Load the configuration for a given month"
   ]
  },
  {
   "cell_type": "code",
   "execution_count": 5,
   "metadata": {},
   "outputs": [
    {
     "data": {
      "text/html": [
       "<div>\n",
       "<style scoped>\n",
       "    .dataframe tbody tr th:only-of-type {\n",
       "        vertical-align: middle;\n",
       "    }\n",
       "\n",
       "    .dataframe tbody tr th {\n",
       "        vertical-align: top;\n",
       "    }\n",
       "\n",
       "    .dataframe thead th {\n",
       "        text-align: right;\n",
       "    }\n",
       "</style>\n",
       "<table border=\"1\" class=\"dataframe\">\n",
       "  <thead>\n",
       "    <tr style=\"text-align: right;\">\n",
       "      <th></th>\n",
       "      <th>Model</th>\n",
       "      <th>Train</th>\n",
       "      <th>Module</th>\n",
       "      <th>Accuracy-1</th>\n",
       "      <th>Accuracy-2</th>\n",
       "    </tr>\n",
       "  </thead>\n",
       "  <tbody>\n",
       "    <tr>\n",
       "      <th>0</th>\n",
       "      <td>1</td>\n",
       "      <td>initial_training_data.csv</td>\n",
       "      <td>facial_expression_0</td>\n",
       "      <td>0.249373</td>\n",
       "      <td>0.249373</td>\n",
       "    </tr>\n",
       "    <tr>\n",
       "      <th>1</th>\n",
       "      <td>1</td>\n",
       "      <td>data_gathered_at_0.csv</td>\n",
       "      <td>facial_expression_1</td>\n",
       "      <td>0.249373</td>\n",
       "      <td>0.249930</td>\n",
       "    </tr>\n",
       "    <tr>\n",
       "      <th>2</th>\n",
       "      <td>1</td>\n",
       "      <td>data_gathered_at_1.csv</td>\n",
       "      <td>facial_expression_2</td>\n",
       "      <td>0.169128</td>\n",
       "      <td>0.169685</td>\n",
       "    </tr>\n",
       "    <tr>\n",
       "      <th>3</th>\n",
       "      <td>1</td>\n",
       "      <td>data_gathered_at_2.csv</td>\n",
       "      <td>facial_expression_3</td>\n",
       "      <td>0.249373</td>\n",
       "      <td>0.249373</td>\n",
       "    </tr>\n",
       "    <tr>\n",
       "      <th>4</th>\n",
       "      <td>1</td>\n",
       "      <td>data_gathered_at_2_bk.csv</td>\n",
       "      <td>facial_expression_4</td>\n",
       "      <td>0.249373</td>\n",
       "      <td>0.248816</td>\n",
       "    </tr>\n",
       "    <tr>\n",
       "      <th>5</th>\n",
       "      <td>1</td>\n",
       "      <td>data_gathered_at_3.csv</td>\n",
       "      <td>facial_expression_5</td>\n",
       "      <td>0.249652</td>\n",
       "      <td>0.249930</td>\n",
       "    </tr>\n",
       "    <tr>\n",
       "      <th>6</th>\n",
       "      <td>2</td>\n",
       "      <td>data_gathered_at_4.csv</td>\n",
       "      <td>facial_expression_6</td>\n",
       "      <td>0.185288</td>\n",
       "      <td>0.182781</td>\n",
       "    </tr>\n",
       "    <tr>\n",
       "      <th>7</th>\n",
       "      <td>2</td>\n",
       "      <td>data_gathered_at_5.csv</td>\n",
       "      <td>facial_expression_7</td>\n",
       "      <td>0.249373</td>\n",
       "      <td>0.194205</td>\n",
       "    </tr>\n",
       "    <tr>\n",
       "      <th>8</th>\n",
       "      <td>2</td>\n",
       "      <td>data_gathered_at_6.csv</td>\n",
       "      <td>facial_expression_8</td>\n",
       "      <td>0.250766</td>\n",
       "      <td>0.250766</td>\n",
       "    </tr>\n",
       "  </tbody>\n",
       "</table>\n",
       "</div>"
      ],
      "text/plain": [
       "   Model                      Train               Module  Accuracy-1  \\\n",
       "0      1  initial_training_data.csv  facial_expression_0    0.249373   \n",
       "1      1     data_gathered_at_0.csv  facial_expression_1    0.249373   \n",
       "2      1     data_gathered_at_1.csv  facial_expression_2    0.169128   \n",
       "3      1     data_gathered_at_2.csv  facial_expression_3    0.249373   \n",
       "4      1  data_gathered_at_2_bk.csv  facial_expression_4    0.249373   \n",
       "5      1     data_gathered_at_3.csv  facial_expression_5    0.249652   \n",
       "6      2     data_gathered_at_4.csv  facial_expression_6    0.185288   \n",
       "7      2     data_gathered_at_5.csv  facial_expression_7    0.249373   \n",
       "8      2     data_gathered_at_6.csv  facial_expression_8    0.250766   \n",
       "\n",
       "   Accuracy-2  \n",
       "0    0.249373  \n",
       "1    0.249930  \n",
       "2    0.169685  \n",
       "3    0.249373  \n",
       "4    0.248816  \n",
       "5    0.249930  \n",
       "6    0.182781  \n",
       "7    0.194205  \n",
       "8    0.250766  "
      ]
     },
     "execution_count": 5,
     "metadata": {},
     "output_type": "execute_result"
    }
   ],
   "source": [
    "conf = pd.read_csv(raw_data_path + 'config.csv')\n",
    "conf"
   ]
  },
  {
   "cell_type": "markdown",
   "metadata": {},
   "source": [
    "# <h1 style='background:#CCCCCC; border:0; color:black'><center><span style=\"color: royalblue;\"><span style=\"color: royalblue;\">Load Train Data</span></span></center></h1> \n",
    "Load the image data with labels."
   ]
  },
  {
   "cell_type": "code",
   "execution_count": 6,
   "metadata": {
    "_kg_hide-input": true
   },
   "outputs": [],
   "source": [
    "train = pd.read_csv(raw_data_path + 'initial_training_data.csv')"
   ]
  },
  {
   "cell_type": "code",
   "execution_count": 7,
   "metadata": {},
   "outputs": [
    {
     "data": {
      "text/html": [
       "<div>\n",
       "<style scoped>\n",
       "    .dataframe tbody tr th:only-of-type {\n",
       "        vertical-align: middle;\n",
       "    }\n",
       "\n",
       "    .dataframe tbody tr th {\n",
       "        vertical-align: top;\n",
       "    }\n",
       "\n",
       "    .dataframe thead th {\n",
       "        text-align: right;\n",
       "    }\n",
       "</style>\n",
       "<table border=\"1\" class=\"dataframe\">\n",
       "  <thead>\n",
       "    <tr style=\"text-align: right;\">\n",
       "      <th></th>\n",
       "      <th>Emotion</th>\n",
       "      <th>Pixels</th>\n",
       "      <th>rand</th>\n",
       "    </tr>\n",
       "  </thead>\n",
       "  <tbody>\n",
       "    <tr>\n",
       "      <th>0</th>\n",
       "      <td>0</td>\n",
       "      <td>215 218 222 220 221 226 218 215 216 218 218 21...</td>\n",
       "      <td>7</td>\n",
       "    </tr>\n",
       "    <tr>\n",
       "      <th>1</th>\n",
       "      <td>6</td>\n",
       "      <td>145 146 118 26 15 18 16 18 24 38 57 66 71 78 8...</td>\n",
       "      <td>8</td>\n",
       "    </tr>\n",
       "    <tr>\n",
       "      <th>2</th>\n",
       "      <td>4</td>\n",
       "      <td>2 3 4 9 9 10 9 10 12 17 20 21 22 22 19 17 15 1...</td>\n",
       "      <td>9</td>\n",
       "    </tr>\n",
       "    <tr>\n",
       "      <th>3</th>\n",
       "      <td>3</td>\n",
       "      <td>38 42 35 25 51 33 32 20 29 47 40 28 42 56 61 7...</td>\n",
       "      <td>8</td>\n",
       "    </tr>\n",
       "    <tr>\n",
       "      <th>4</th>\n",
       "      <td>2</td>\n",
       "      <td>32 26 37 68 99 112 117 121 123 126 129 135 141...</td>\n",
       "      <td>7</td>\n",
       "    </tr>\n",
       "  </tbody>\n",
       "</table>\n",
       "</div>"
      ],
      "text/plain": [
       "   Emotion                                             Pixels  rand\n",
       "0        0  215 218 222 220 221 226 218 215 216 218 218 21...     7\n",
       "1        6  145 146 118 26 15 18 16 18 24 38 57 66 71 78 8...     8\n",
       "2        4  2 3 4 9 9 10 9 10 12 17 20 21 22 22 19 17 15 1...     9\n",
       "3        3  38 42 35 25 51 33 32 20 29 47 40 28 42 56 61 7...     8\n",
       "4        2  32 26 37 68 99 112 117 121 123 126 129 135 141...     7"
      ]
     },
     "execution_count": 7,
     "metadata": {},
     "output_type": "execute_result"
    }
   ],
   "source": [
    "train.head()"
   ]
  },
  {
   "cell_type": "code",
   "execution_count": 8,
   "metadata": {},
   "outputs": [
    {
     "data": {
      "text/html": [
       "<div>\n",
       "<style scoped>\n",
       "    .dataframe tbody tr th:only-of-type {\n",
       "        vertical-align: middle;\n",
       "    }\n",
       "\n",
       "    .dataframe tbody tr th {\n",
       "        vertical-align: top;\n",
       "    }\n",
       "\n",
       "    .dataframe thead th {\n",
       "        text-align: right;\n",
       "    }\n",
       "</style>\n",
       "<table border=\"1\" class=\"dataframe\">\n",
       "  <thead>\n",
       "    <tr style=\"text-align: right;\">\n",
       "      <th></th>\n",
       "      <th>Emotion</th>\n",
       "      <th>Pixels</th>\n",
       "    </tr>\n",
       "  </thead>\n",
       "  <tbody>\n",
       "    <tr>\n",
       "      <th>0</th>\n",
       "      <td>0</td>\n",
       "      <td>215 218 222 220 221 226 218 215 216 218 218 21...</td>\n",
       "    </tr>\n",
       "    <tr>\n",
       "      <th>1</th>\n",
       "      <td>6</td>\n",
       "      <td>145 146 118 26 15 18 16 18 24 38 57 66 71 78 8...</td>\n",
       "    </tr>\n",
       "    <tr>\n",
       "      <th>2</th>\n",
       "      <td>4</td>\n",
       "      <td>2 3 4 9 9 10 9 10 12 17 20 21 22 22 19 17 15 1...</td>\n",
       "    </tr>\n",
       "    <tr>\n",
       "      <th>3</th>\n",
       "      <td>3</td>\n",
       "      <td>38 42 35 25 51 33 32 20 29 47 40 28 42 56 61 7...</td>\n",
       "    </tr>\n",
       "    <tr>\n",
       "      <th>4</th>\n",
       "      <td>2</td>\n",
       "      <td>32 26 37 68 99 112 117 121 123 126 129 135 141...</td>\n",
       "    </tr>\n",
       "  </tbody>\n",
       "</table>\n",
       "</div>"
      ],
      "text/plain": [
       "   Emotion                                             Pixels\n",
       "0        0  215 218 222 220 221 226 218 215 216 218 218 21...\n",
       "1        6  145 146 118 26 15 18 16 18 24 38 57 66 71 78 8...\n",
       "2        4  2 3 4 9 9 10 9 10 12 17 20 21 22 22 19 17 15 1...\n",
       "3        3  38 42 35 25 51 33 32 20 29 47 40 28 42 56 61 7...\n",
       "4        2  32 26 37 68 99 112 117 121 123 126 129 135 141..."
      ]
     },
     "execution_count": 8,
     "metadata": {},
     "output_type": "execute_result"
    }
   ],
   "source": [
    "train.drop(columns=['rand'], inplace=True)\n",
    "train.head(5)"
   ]
  },
  {
   "cell_type": "code",
   "execution_count": 9,
   "metadata": {},
   "outputs": [
    {
     "data": {
      "text/plain": [
       "array([0, 6, 4, 3, 2, 5, 1], dtype=int64)"
      ]
     },
     "execution_count": 9,
     "metadata": {},
     "output_type": "execute_result"
    }
   ],
   "source": [
    "train['Emotion'].unique()"
   ]
  },
  {
   "cell_type": "markdown",
   "metadata": {},
   "source": [
    "# <h1 style='background:#CCCCCC; border:0; color:black'><center><span style=\"color: royalblue;\"><span style=\"color: royalblue;\">Load Validation Data</span></span></center></h1> \n",
    "Load the image data with labels."
   ]
  },
  {
   "cell_type": "code",
   "execution_count": 10,
   "metadata": {},
   "outputs": [],
   "source": [
    "val = pd.read_csv(raw_data_path + 'validation_test_data.csv')"
   ]
  },
  {
   "cell_type": "code",
   "execution_count": 11,
   "metadata": {},
   "outputs": [
    {
     "data": {
      "text/html": [
       "<div>\n",
       "<style scoped>\n",
       "    .dataframe tbody tr th:only-of-type {\n",
       "        vertical-align: middle;\n",
       "    }\n",
       "\n",
       "    .dataframe tbody tr th {\n",
       "        vertical-align: top;\n",
       "    }\n",
       "\n",
       "    .dataframe thead th {\n",
       "        text-align: right;\n",
       "    }\n",
       "</style>\n",
       "<table border=\"1\" class=\"dataframe\">\n",
       "  <thead>\n",
       "    <tr style=\"text-align: right;\">\n",
       "      <th></th>\n",
       "      <th>Emotion</th>\n",
       "      <th>Pixels</th>\n",
       "    </tr>\n",
       "  </thead>\n",
       "  <tbody>\n",
       "    <tr>\n",
       "      <th>0</th>\n",
       "      <td>0</td>\n",
       "      <td>170 118 101 88 88 75 78 82 66 74 68 59 63 64 6...</td>\n",
       "    </tr>\n",
       "    <tr>\n",
       "      <th>1</th>\n",
       "      <td>5</td>\n",
       "      <td>7 5 8 6 7 3 2 6 5 4 4 5 7 5 5 5 6 7 7 7 10 10 ...</td>\n",
       "    </tr>\n",
       "    <tr>\n",
       "      <th>2</th>\n",
       "      <td>6</td>\n",
       "      <td>232 240 241 239 237 235 246 117 24 24 22 13 12...</td>\n",
       "    </tr>\n",
       "    <tr>\n",
       "      <th>3</th>\n",
       "      <td>4</td>\n",
       "      <td>200 197 149 139 156 89 111 58 62 95 113 117 11...</td>\n",
       "    </tr>\n",
       "    <tr>\n",
       "      <th>4</th>\n",
       "      <td>2</td>\n",
       "      <td>40 28 33 56 45 33 31 78 152 194 200 186 196 20...</td>\n",
       "    </tr>\n",
       "  </tbody>\n",
       "</table>\n",
       "</div>"
      ],
      "text/plain": [
       "   Emotion                                             Pixels\n",
       "0        0  170 118 101 88 88 75 78 82 66 74 68 59 63 64 6...\n",
       "1        5  7 5 8 6 7 3 2 6 5 4 4 5 7 5 5 5 6 7 7 7 10 10 ...\n",
       "2        6  232 240 241 239 237 235 246 117 24 24 22 13 12...\n",
       "3        4  200 197 149 139 156 89 111 58 62 95 113 117 11...\n",
       "4        2  40 28 33 56 45 33 31 78 152 194 200 186 196 20..."
      ]
     },
     "execution_count": 11,
     "metadata": {},
     "output_type": "execute_result"
    }
   ],
   "source": [
    "val.head()"
   ]
  },
  {
   "cell_type": "markdown",
   "metadata": {},
   "source": [
    "# <h1 style='background:#CCCCCC; border:0; color:black'><center><span style=\"color: royalblue;\"><span style=\"color: royalblue;\">Load Test Data</span></span></center></h1> \n",
    "Load the image data with labels."
   ]
  },
  {
   "cell_type": "code",
   "execution_count": 12,
   "metadata": {},
   "outputs": [],
   "source": [
    "test = pd.read_csv(raw_data_path + 'test_data.csv')"
   ]
  },
  {
   "cell_type": "code",
   "execution_count": 13,
   "metadata": {},
   "outputs": [
    {
     "data": {
      "text/html": [
       "<div>\n",
       "<style scoped>\n",
       "    .dataframe tbody tr th:only-of-type {\n",
       "        vertical-align: middle;\n",
       "    }\n",
       "\n",
       "    .dataframe tbody tr th {\n",
       "        vertical-align: top;\n",
       "    }\n",
       "\n",
       "    .dataframe thead th {\n",
       "        text-align: right;\n",
       "    }\n",
       "</style>\n",
       "<table border=\"1\" class=\"dataframe\">\n",
       "  <thead>\n",
       "    <tr style=\"text-align: right;\">\n",
       "      <th></th>\n",
       "      <th>Emotion</th>\n",
       "      <th>Pixels</th>\n",
       "    </tr>\n",
       "  </thead>\n",
       "  <tbody>\n",
       "    <tr>\n",
       "      <th>0</th>\n",
       "      <td>0</td>\n",
       "      <td>254 254 254 254 254 249 255 160 2 58 53 70 77 ...</td>\n",
       "    </tr>\n",
       "    <tr>\n",
       "      <th>1</th>\n",
       "      <td>1</td>\n",
       "      <td>156 184 198 202 204 207 210 212 213 214 215 21...</td>\n",
       "    </tr>\n",
       "    <tr>\n",
       "      <th>2</th>\n",
       "      <td>4</td>\n",
       "      <td>69 118 61 60 96 121 103 87 103 88 70 90 115 12...</td>\n",
       "    </tr>\n",
       "    <tr>\n",
       "      <th>3</th>\n",
       "      <td>6</td>\n",
       "      <td>205 203 236 157 83 158 120 116 94 86 155 180 2...</td>\n",
       "    </tr>\n",
       "    <tr>\n",
       "      <th>4</th>\n",
       "      <td>3</td>\n",
       "      <td>87 79 74 66 74 96 77 80 80 84 83 89 102 91 84 ...</td>\n",
       "    </tr>\n",
       "  </tbody>\n",
       "</table>\n",
       "</div>"
      ],
      "text/plain": [
       "   Emotion                                             Pixels\n",
       "0        0  254 254 254 254 254 249 255 160 2 58 53 70 77 ...\n",
       "1        1  156 184 198 202 204 207 210 212 213 214 215 21...\n",
       "2        4  69 118 61 60 96 121 103 87 103 88 70 90 115 12...\n",
       "3        6  205 203 236 157 83 158 120 116 94 86 155 180 2...\n",
       "4        3  87 79 74 66 74 96 77 80 80 84 83 89 102 91 84 ..."
      ]
     },
     "execution_count": 13,
     "metadata": {},
     "output_type": "execute_result"
    }
   ],
   "source": [
    "test.head()"
   ]
  },
  {
   "cell_type": "markdown",
   "metadata": {},
   "source": [
    "# <h1 style='background:#CCCCCC; border:0; color:black'><center><span style=\"color: royalblue;\"><span style=\"color: royalblue;\">Functions</span></span></center></h1> \n",
    "We define some helper functions for preparing and ploting the data."
   ]
  },
  {
   "cell_type": "code",
   "execution_count": 14,
   "metadata": {
    "_kg_hide-input": true
   },
   "outputs": [],
   "source": [
    "def prepare_data(data):\n",
    "    \"\"\" Prepare data for modeling \n",
    "        input: data frame with labels und pixel data\n",
    "        output: image and label array \"\"\"\n",
    "    \n",
    "    image_array = np.zeros(shape=(len(data), 48, 48))\n",
    "    image_label = np.array(list(map(int, data['Emotion'])))\n",
    "    \n",
    "    for i, row in enumerate(data.index):\n",
    "        image = np.fromstring(data.loc[row, 'Pixels'], dtype=int, sep=' ')\n",
    "        image = np.reshape(image, (48, 48))\n",
    "        image_array[i] = image\n",
    "        \n",
    "    return image_array, image_label\n",
    "\n",
    "def data_to_tf_data(df):\n",
    "    image_array, image_label = prepare_data(df)\n",
    "    images = image_array.reshape((image_array.shape[0], 48, 48, 1))\n",
    "    images = images.astype('float32')/255\n",
    "    labels = to_categorical(image_label)\n",
    "    return images, labels\n",
    "\n",
    "def plot_examples(label=0):\n",
    "    fig, axs = plt.subplots(1, 2, figsize=(6, 6))\n",
    "    fig.subplots_adjust(hspace = .2, wspace=.2)\n",
    "    axs = axs.ravel()\n",
    "    for i in range(2):\n",
    "        idx = train[train['Emotion']==label].index[i]\n",
    "        axs[i].imshow(train_images[idx][:,:,0], cmap='gray')\n",
    "        axs[i].set_title(emotions[train_labels[idx].argmax()])\n",
    "        axs[i].set_xticklabels([])\n",
    "        axs[i].set_yticklabels([])\n",
    "        \n",
    "def plot_all_emotions():\n",
    "    fig, axs = plt.subplots(1, 7, figsize=(30, 12))\n",
    "    fig.subplots_adjust(hspace = .2, wspace=.2)\n",
    "    axs = axs.ravel()\n",
    "    for i in range(7):\n",
    "        idx = train[train['Emotion']==i].index[i]\n",
    "        axs[i].imshow(train_images[idx][:,:,0], cmap='gray')\n",
    "        axs[i].set_title(emotions[train_labels[idx].argmax()])\n",
    "        axs[i].set_xticklabels([])\n",
    "        axs[i].set_yticklabels([])\n",
    "        \n",
    "def plot_image_and_emotion(test_image_array, test_image_label, pred_test_labels, image_number):\n",
    "    \"\"\" Function to plot the image and compare the prediction results with the label \"\"\"\n",
    "    \n",
    "    fig, axs = plt.subplots(1, 2, figsize=(12, 6), sharey=False)\n",
    "    \n",
    "    bar_label = emotions.values()\n",
    "    \n",
    "    axs[0].imshow(test_image_array[image_number], 'gray')\n",
    "    axs[0].set_title(emotions[test_image_label[image_number]])\n",
    "    \n",
    "    axs[1].bar(bar_label, pred_test_labels[image_number], color='orange', alpha=0.7)\n",
    "    axs[1].grid()\n",
    "    \n",
    "    plt.show()\n",
    "    \n",
    "def plot_compare_distributions(array1, array2, title1='', title2=''):\n",
    "    df_array1 = pd.DataFrame()\n",
    "    df_array2 = pd.DataFrame()\n",
    "    df_array1['Emotion'] = array1.argmax(axis=1)\n",
    "    df_array2['Emotion'] = array2.argmax(axis=1)\n",
    "    \n",
    "    fig, axs = plt.subplots(1, 2, figsize=(12, 6), sharey=False)\n",
    "    x = emotions.values()\n",
    "    \n",
    "    y = df_array1['Emotion'].value_counts()\n",
    "    keys_missed = list(set(emotions.keys()).difference(set(y.keys())))\n",
    "    for key_missed in keys_missed:\n",
    "        y[key_missed] = 0\n",
    "    axs[0].bar(x, y.sort_index(), color='orange')\n",
    "    axs[0].set_title(title1)\n",
    "    axs[0].grid()\n",
    "    \n",
    "    y = df_array2['Emotion'].value_counts()\n",
    "    keys_missed = list(set(emotions.keys()).difference(set(y.keys())))\n",
    "    for key_missed in keys_missed:\n",
    "        y[key_missed] = 0\n",
    "    axs[1].bar(x, y.sort_index())\n",
    "    axs[1].set_title(title2)\n",
    "    axs[1].grid()\n",
    "    \n",
    "    plt.show()"
   ]
  },
  {
   "cell_type": "markdown",
   "metadata": {},
   "source": [
    "# <h1 style='background:#CCCCCC; border:0; color:black'><center><span style=\"color: royalblue;\"><span style=\"color: royalblue;\">Overview</span></span></center></h1> "
   ]
  },
  {
   "cell_type": "code",
   "execution_count": 15,
   "metadata": {
    "_kg_hide-input": true
   },
   "outputs": [
    {
     "data": {
      "text/plain": [
       "3    91\n",
       "4    54\n",
       "6    49\n",
       "2    48\n",
       "0    47\n",
       "5    30\n",
       "1     2\n",
       "Name: Emotion, dtype: int64"
      ]
     },
     "execution_count": 15,
     "metadata": {},
     "output_type": "execute_result"
    }
   ],
   "source": [
    "train['Emotion'].value_counts()"
   ]
  },
  {
   "cell_type": "markdown",
   "metadata": {},
   "source": [
    "# <h1 style='background:#CCCCCC; border:0; color:black'><center><span style=\"color: royalblue;\"><span style=\"color: royalblue;\">Prepare Data</span></span></center></h1> "
   ]
  },
  {
   "cell_type": "code",
   "execution_count": 16,
   "metadata": {},
   "outputs": [],
   "source": [
    "emotions = {0: 'Angry', 1: 'Disgust', 2: 'Fear', 3: 'Happy', 4: 'Sad', 5: 'Surprise', 6: 'Neutral'}"
   ]
  },
  {
   "cell_type": "markdown",
   "metadata": {},
   "source": [
    "Define training, validation and test data:"
   ]
  },
  {
   "cell_type": "code",
   "execution_count": 17,
   "metadata": {},
   "outputs": [],
   "source": [
    "train_image_array, train_image_label = prepare_data(train)\n",
    "val_image_array,   val_image_label   = prepare_data(val)\n",
    "test_image_array,  test_image_label  = prepare_data(test)"
   ]
  },
  {
   "cell_type": "markdown",
   "metadata": {},
   "source": [
    "Reshape and scale the images:"
   ]
  },
  {
   "cell_type": "code",
   "execution_count": 18,
   "metadata": {
    "_kg_hide-input": true
   },
   "outputs": [],
   "source": [
    "train_images = train_image_array.reshape((train_image_array.shape[0], 48, 48, 1))\n",
    "train_images = train_images.astype('float32')/255\n",
    "val_images   = val_image_array.reshape((val_image_array.shape[0], 48, 48, 1))\n",
    "val_images   = val_images.astype('float32')/255\n",
    "test_images  = test_image_array.reshape((test_image_array.shape[0], 48, 48, 1))\n",
    "test_images  = test_images.astype('float32')/255"
   ]
  },
  {
   "cell_type": "markdown",
   "metadata": {},
   "source": [
    "Encoding of the target value:"
   ]
  },
  {
   "cell_type": "code",
   "execution_count": 19,
   "metadata": {
    "_kg_hide-input": true
   },
   "outputs": [],
   "source": [
    "train_labels = to_categorical(train_image_label)\n",
    "val_labels   = to_categorical(val_image_label)\n",
    "test_labels  = to_categorical(test_image_label)"
   ]
  },
  {
   "cell_type": "markdown",
   "metadata": {},
   "source": [
    "# <h1 style='background:#CCCCCC; border:0; color:black'><center><span style=\"color: royalblue;\"><span style=\"color: royalblue;\">Some Examples</span></span></center></h1> "
   ]
  },
  {
   "cell_type": "markdown",
   "metadata": {},
   "source": [
    "## All Emotions"
   ]
  },
  {
   "cell_type": "code",
   "execution_count": 20,
   "metadata": {
    "_kg_hide-input": true
   },
   "outputs": [],
   "source": [
    "#plot_all_emotions()"
   ]
  },
  {
   "cell_type": "markdown",
   "metadata": {},
   "source": [
    "## Angry"
   ]
  },
  {
   "cell_type": "code",
   "execution_count": 21,
   "metadata": {
    "_kg_hide-input": true
   },
   "outputs": [
    {
     "data": {
      "image/png": "[encoded data removed]",
      "text/plain": [
       "<Figure size 432x432 with 2 Axes>"
      ]
     },
     "metadata": {
      "needs_background": "light"
     },
     "output_type": "display_data"
    }
   ],
   "source": [
    "plot_examples(label=0)"
   ]
  },
  {
   "cell_type": "markdown",
   "metadata": {},
   "source": [
    "## Disgust"
   ]
  },
  {
   "cell_type": "code",
   "execution_count": 22,
   "metadata": {
    "_kg_hide-input": true
   },
   "outputs": [],
   "source": [
    "#plot_examples(label=1)"
   ]
  },
  {
   "cell_type": "markdown",
   "metadata": {},
   "source": [
    "## Fear"
   ]
  },
  {
   "cell_type": "code",
   "execution_count": 23,
   "metadata": {
    "_kg_hide-input": true
   },
   "outputs": [
    {
     "data": {
      "image/png": "[encoded data removed]",
      "text/plain": [
       "<Figure size 432x432 with 2 Axes>"
      ]
     },
     "metadata": {
      "needs_background": "light"
     },
     "output_type": "display_data"
    }
   ],
   "source": [
    "plot_examples(label=2)"
   ]
  },
  {
   "cell_type": "markdown",
   "metadata": {},
   "source": [
    "## Happy"
   ]
  },
  {
   "cell_type": "code",
   "execution_count": 24,
   "metadata": {
    "_kg_hide-input": true
   },
   "outputs": [
    {
     "data": {
      "image/png": "[encoded data removed]",
      "text/plain": [
       "<Figure size 432x432 with 2 Axes>"
      ]
     },
     "metadata": {
      "needs_background": "light"
     },
     "output_type": "display_data"
    }
   ],
   "source": [
    "plot_examples(label=3)"
   ]
  },
  {
   "cell_type": "markdown",
   "metadata": {},
   "source": [
    "\n",
    "## Sad"
   ]
  },
  {
   "cell_type": "code",
   "execution_count": 25,
   "metadata": {
    "_kg_hide-input": true
   },
   "outputs": [
    {
     "data": {
      "image/png": "[encoded data removed]",
      "text/plain": [
       "<Figure size 432x432 with 2 Axes>"
      ]
     },
     "metadata": {
      "needs_background": "light"
     },
     "output_type": "display_data"
    }
   ],
   "source": [
    "plot_examples(label=4)"
   ]
  },
  {
   "cell_type": "markdown",
   "metadata": {},
   "source": [
    "## Surprise"
   ]
  },
  {
   "cell_type": "code",
   "execution_count": 26,
   "metadata": {
    "_kg_hide-input": true
   },
   "outputs": [
    {
     "data": {
      "image/png": "[encoded data removed]",
      "text/plain": [
       "<Figure size 432x432 with 2 Axes>"
      ]
     },
     "metadata": {
      "needs_background": "light"
     },
     "output_type": "display_data"
    }
   ],
   "source": [
    "plot_examples(label=5)"
   ]
  },
  {
   "cell_type": "markdown",
   "metadata": {},
   "source": [
    "## Neutral"
   ]
  },
  {
   "cell_type": "code",
   "execution_count": 27,
   "metadata": {
    "_kg_hide-input": true
   },
   "outputs": [
    {
     "data": {
      "image/png": "[encoded data removed]",
      "text/plain": [
       "<Figure size 432x432 with 2 Axes>"
      ]
     },
     "metadata": {
      "needs_background": "light"
     },
     "output_type": "display_data"
    }
   ],
   "source": [
    "plot_examples(label=6)"
   ]
  },
  {
   "cell_type": "markdown",
   "metadata": {},
   "source": [
    "# <h1 style='background:#CCCCCC; border:0; color:black'><center><span style=\"color: royalblue;\"><span style=\"color: royalblue;\">Distribution Of Labels</span></span></center></h1> "
   ]
  },
  {
   "cell_type": "code",
   "execution_count": 28,
   "metadata": {
    "_kg_hide-input": true
   },
   "outputs": [
    {
     "data": {
      "image/png": "[encoded data removed]",
      "text/plain": [
       "<Figure size 864x432 with 2 Axes>"
      ]
     },
     "metadata": {
      "needs_background": "light"
     },
     "output_type": "display_data"
    }
   ],
   "source": [
    "plot_compare_distributions(train_labels, val_labels, title1='train labels', title2='val labels')"
   ]
  },
  {
   "cell_type": "markdown",
   "metadata": {},
   "source": [
    "# <h1 style='background:#CCCCCC; border:0; color:black'><center><span style=\"color: royalblue;\"><span style=\"color: royalblue;\">Class Weights</span></span></center></h1> \n",
    "Calculate the class weights of the label distribution:"
   ]
  },
  {
   "cell_type": "code",
   "execution_count": 29,
   "metadata": {
    "_kg_hide-input": true
   },
   "outputs": [],
   "source": [
    "class_weight = dict(zip(range(0, 7), (((train['Emotion'].value_counts()).sort_index())/len(train['Emotion'])).tolist()))"
   ]
  },
  {
   "cell_type": "code",
   "execution_count": 30,
   "metadata": {},
   "outputs": [
    {
     "data": {
      "text/plain": [
       "{0: 0.14641744548286603,\n",
       " 1: 0.006230529595015576,\n",
       " 2: 0.14953271028037382,\n",
       " 3: 0.2834890965732087,\n",
       " 4: 0.16822429906542055,\n",
       " 5: 0.09345794392523364,\n",
       " 6: 0.1526479750778816}"
      ]
     },
     "execution_count": 30,
     "metadata": {},
     "output_type": "execute_result"
    }
   ],
   "source": [
    "class_weight"
   ]
  },
  {
   "cell_type": "code",
   "execution_count": 31,
   "metadata": {},
   "outputs": [],
   "source": [
    "def get_model(id):\n",
    "    if (id == 1):\n",
    "        return create_model_1()\n",
    "    elif (id == 2):\n",
    "        return create_model_2()\n",
    "    \n",
    "def create_model_1():\n",
    "    print(\"Construction Model #1\")\n",
    "    model = models.Sequential()\n",
    "    model.add(Conv2D(32, (3, 3), activation='relu', input_shape=(48, 48, 1)))\n",
    "    model.add(MaxPool2D((2, 2)))\n",
    "    model.add(Conv2D(64, (3, 3), activation='relu'))\n",
    "    model.add(MaxPool2D((2, 2)))\n",
    "    model.add(Conv2D(64, (3, 3), activation='relu'))\n",
    "    model.add(Flatten())\n",
    "    model.add(Dense(64, activation='relu'))\n",
    "    model.add(Dense(7, activation='softmax'))\n",
    "    model.compile(optimizer=Adam(lr=1e-3), loss='categorical_crossentropy', metrics=['accuracy'])\n",
    "    return model\n",
    "\n",
    "def create_model_2():\n",
    "    print(\"Construction Model #2\")\n",
    "    model = models.Sequential()\n",
    "    model.add(layers.Conv2D(64, (1, 1), padding='same', activation='relu', input_shape=(48, 48, 1)))\n",
    "    model.add(BatchNormalization())\n",
    "    model.add(Dropout(0.25))\n",
    "\n",
    "    model.add(layers.Conv2D(128, (3, 3),padding='same', activation='relu'))\n",
    "    model.add(BatchNormalization())\n",
    "    model.add(Dropout(0.25))\n",
    "    model.add(layers.Conv2D(256, (5, 5),padding='same', activation='relu'))\n",
    "    model.add(BatchNormalization())\n",
    "    model.add(layers.MaxPooling2D((2, 2),padding=\"same\"))\n",
    "    model.add(Dropout(0.25))\n",
    "    model.add(layers.Flatten())\n",
    "    model.add(layers.Dense(128))\n",
    "    model.add(BatchNormalization())\n",
    "    model.add(Activation('relu'))\n",
    "    model.add(Dropout(0.25))\n",
    "    model.add(layers.Dense(256))\n",
    "    model.add(BatchNormalization())\n",
    "    model.add(Activation('relu'))\n",
    "    model.add(Dropout(0.25))\n",
    "    model.add(layers.Dense(7, activation='softmax'))\n",
    "    model.compile(optimizer='adam',\n",
    "                  loss='categorical_crossentropy',\n",
    "                  metrics=['accuracy'])\n",
    "    return model"
   ]
  },
  {
   "cell_type": "markdown",
   "metadata": {},
   "source": [
    "# <h1 style='background:#CCCCCC; border:0; color:black'><center><span style=\"color: royalblue;\"><span style=\"color: royalblue;\">Model #1</span></span></center></h1> \n",
    "We define a simple CNN model:"
   ]
  },
  {
   "cell_type": "code",
   "execution_count": 32,
   "metadata": {},
   "outputs": [
    {
     "name": "stdout",
     "output_type": "stream",
     "text": [
      "Construction Model #1\n"
     ]
    }
   ],
   "source": [
    "model_1 = get_model(1)"
   ]
  },
  {
   "cell_type": "code",
   "execution_count": 33,
   "metadata": {},
   "outputs": [
    {
     "name": "stdout",
     "output_type": "stream",
     "text": [
      "Model: \"sequential\"\n",
      "_________________________________________________________________\n",
      "Layer (type)                 Output Shape              Param #   \n",
      "=================================================================\n",
      "conv2d (Conv2D)              (None, 46, 46, 32)        320       \n",
      "_________________________________________________________________\n",
      "max_pooling2d (MaxPooling2D) (None, 23, 23, 32)        0         \n",
      "_________________________________________________________________\n",
      "conv2d_1 (Conv2D)            (None, 21, 21, 64)        18496     \n",
      "_________________________________________________________________\n",
      "max_pooling2d_1 (MaxPooling2 (None, 10, 10, 64)        0         \n",
      "_________________________________________________________________\n",
      "conv2d_2 (Conv2D)            (None, 8, 8, 64)          36928     \n",
      "_________________________________________________________________\n",
      "flatten (Flatten)            (None, 4096)              0         \n",
      "_________________________________________________________________\n",
      "dense (Dense)                (None, 64)                262208    \n",
      "_________________________________________________________________\n",
      "dense_1 (Dense)              (None, 7)                 455       \n",
      "=================================================================\n",
      "Total params: 318,407\n",
      "Trainable params: 318,407\n",
      "Non-trainable params: 0\n",
      "_________________________________________________________________\n"
     ]
    }
   ],
   "source": [
    "model_1.summary()"
   ]
  },
  {
   "cell_type": "code",
   "execution_count": 34,
   "metadata": {},
   "outputs": [
    {
     "name": "stdout",
     "output_type": "stream",
     "text": [
      "Epoch 1/12\n",
      "6/6 [==============================] - 2s 357ms/step - loss: 0.3410 - accuracy: 0.2368 - val_loss: 1.8799 - val_accuracy: 0.2449\n",
      "Epoch 2/12\n",
      "6/6 [==============================] - 2s 321ms/step - loss: 0.3239 - accuracy: 0.1900 - val_loss: 1.8907 - val_accuracy: 0.2435\n",
      "Epoch 3/12\n",
      "6/6 [==============================] - 2s 331ms/step - loss: 0.3109 - accuracy: 0.2804 - val_loss: 2.1104 - val_accuracy: 0.2449\n",
      "Epoch 4/12\n",
      "6/6 [==============================] - 2s 320ms/step - loss: 0.3294 - accuracy: 0.2835 - val_loss: 2.0714 - val_accuracy: 0.2449\n",
      "Epoch 5/12\n",
      "6/6 [==============================] - 2s 318ms/step - loss: 0.2981 - accuracy: 0.2835 - val_loss: 1.8789 - val_accuracy: 0.2449\n",
      "Epoch 6/12\n",
      "6/6 [==============================] - 2s 323ms/step - loss: 0.3002 - accuracy: 0.2835 - val_loss: 1.8880 - val_accuracy: 0.2449\n",
      "Epoch 7/12\n",
      "6/6 [==============================] - 2s 320ms/step - loss: 0.3023 - accuracy: 0.2835 - val_loss: 2.0187 - val_accuracy: 0.2449\n",
      "Epoch 8/12\n",
      "6/6 [==============================] - 2s 329ms/step - loss: 0.2964 - accuracy: 0.2835 - val_loss: 1.8387 - val_accuracy: 0.2449\n",
      "Epoch 9/12\n",
      "6/6 [==============================] - 2s 320ms/step - loss: 0.3020 - accuracy: 0.2835 - val_loss: 1.9027 - val_accuracy: 0.2449\n",
      "Epoch 10/12\n",
      "6/6 [==============================] - 2s 318ms/step - loss: 0.2989 - accuracy: 0.2835 - val_loss: 2.1049 - val_accuracy: 0.2449\n",
      "Epoch 11/12\n",
      "6/6 [==============================] - 2s 320ms/step - loss: 0.2932 - accuracy: 0.2835 - val_loss: 1.8474 - val_accuracy: 0.2452\n",
      "Epoch 12/12\n",
      "6/6 [==============================] - 2s 320ms/step - loss: 0.3039 - accuracy: 0.2866 - val_loss: 1.8210 - val_accuracy: 0.2452\n"
     ]
    }
   ],
   "source": [
    "history = model_1.fit(train_images, train_labels,\n",
    "                    validation_data=(val_images, val_labels),\n",
    "                    class_weight = class_weight,\n",
    "                    epochs=12, \n",
    "                    batch_size=64)"
   ]
  },
  {
   "cell_type": "code",
   "execution_count": 35,
   "metadata": {},
   "outputs": [
    {
     "name": "stdout",
     "output_type": "stream",
     "text": [
      "113/113 [==============================] - 2s 16ms/step - loss: 1.8165 - accuracy: 0.2491\n",
      "test caccuracy: 0.24909445643424988\n"
     ]
    }
   ],
   "source": [
    "test_loss, test_acc = model_1.evaluate(test_images, test_labels)\n",
    "print('test caccuracy:', test_acc)"
   ]
  },
  {
   "cell_type": "code",
   "execution_count": 36,
   "metadata": {},
   "outputs": [
    {
     "name": "stdout",
     "output_type": "stream",
     "text": [
      "[[0.14149104 0.01150925 0.12448716 ... 0.1600468  0.09561361 0.16159865]\n",
      " [0.14572716 0.0130429  0.13015245 ... 0.15661673 0.09884806 0.15640308]\n",
      " [0.14994138 0.02331269 0.13104947 ... 0.16925913 0.11296406 0.16375338]\n",
      " ...\n",
      " [0.14561345 0.01385765 0.12916724 ... 0.16244173 0.10052453 0.1606837 ]\n",
      " [0.14804833 0.02057146 0.12853375 ... 0.16721366 0.10774579 0.16389036]\n",
      " [0.15023027 0.02996849 0.13353951 ... 0.17284355 0.11656646 0.16375646]]\n"
     ]
    }
   ],
   "source": [
    "pred_test_labels = model_1.predict(test_images)\n",
    "print(pred_test_labels)"
   ]
  },
  {
   "cell_type": "code",
   "execution_count": 37,
   "metadata": {},
   "outputs": [
    {
     "data": {
      "text/plain": [
       "'models/model_v1.h5'"
      ]
     },
     "execution_count": 37,
     "metadata": {},
     "output_type": "execute_result"
    }
   ],
   "source": [
    "module = 'models/model_v1.h5'\n",
    "module"
   ]
  },
  {
   "cell_type": "code",
   "execution_count": 38,
   "metadata": {},
   "outputs": [],
   "source": [
    "model_1.save(module, save_format='h5')"
   ]
  },
  {
   "cell_type": "markdown",
   "metadata": {},
   "source": [
    "# <h1 style='background:#CCCCCC; border:0; color:black'><center><span style=\"color: royalblue;\"><span style=\"color: royalblue;\">Model #2</span></span></center></h1> \n",
    "We define a more complicated CNN model:"
   ]
  },
  {
   "cell_type": "code",
   "execution_count": 39,
   "metadata": {},
   "outputs": [
    {
     "name": "stdout",
     "output_type": "stream",
     "text": [
      "Construction Model #2\n"
     ]
    }
   ],
   "source": [
    "model_2 = get_model(2)"
   ]
  },
  {
   "cell_type": "code",
   "execution_count": 40,
   "metadata": {},
   "outputs": [
    {
     "name": "stdout",
     "output_type": "stream",
     "text": [
      "Model: \"sequential_1\"\n",
      "_________________________________________________________________\n",
      "Layer (type)                 Output Shape              Param #   \n",
      "=================================================================\n",
      "conv2d_3 (Conv2D)            (None, 48, 48, 64)        128       \n",
      "_________________________________________________________________\n",
      "batch_normalization (BatchNo (None, 48, 48, 64)        256       \n",
      "_________________________________________________________________\n",
      "dropout (Dropout)            (None, 48, 48, 64)        0         \n",
      "_________________________________________________________________\n",
      "conv2d_4 (Conv2D)            (None, 48, 48, 128)       73856     \n",
      "_________________________________________________________________\n",
      "batch_normalization_1 (Batch (None, 48, 48, 128)       512       \n",
      "_________________________________________________________________\n",
      "dropout_1 (Dropout)          (None, 48, 48, 128)       0         \n",
      "_________________________________________________________________\n",
      "conv2d_5 (Conv2D)            (None, 48, 48, 256)       819456    \n",
      "_________________________________________________________________\n",
      "batch_normalization_2 (Batch (None, 48, 48, 256)       1024      \n",
      "_________________________________________________________________\n",
      "max_pooling2d_2 (MaxPooling2 (None, 24, 24, 256)       0         \n",
      "_________________________________________________________________\n",
      "dropout_2 (Dropout)          (None, 24, 24, 256)       0         \n",
      "_________________________________________________________________\n",
      "flatten_1 (Flatten)          (None, 147456)            0         \n",
      "_________________________________________________________________\n",
      "dense_2 (Dense)              (None, 128)               18874496  \n",
      "_________________________________________________________________\n",
      "batch_normalization_3 (Batch (None, 128)               512       \n",
      "_________________________________________________________________\n",
      "activation (Activation)      (None, 128)               0         \n",
      "_________________________________________________________________\n",
      "dropout_3 (Dropout)          (None, 128)               0         \n",
      "_________________________________________________________________\n",
      "dense_3 (Dense)              (None, 256)               33024     \n",
      "_________________________________________________________________\n",
      "batch_normalization_4 (Batch (None, 256)               1024      \n",
      "_________________________________________________________________\n",
      "activation_1 (Activation)    (None, 256)               0         \n",
      "_________________________________________________________________\n",
      "dropout_4 (Dropout)          (None, 256)               0         \n",
      "_________________________________________________________________\n",
      "dense_4 (Dense)              (None, 7)                 1799      \n",
      "=================================================================\n",
      "Total params: 19,806,087\n",
      "Trainable params: 19,804,423\n",
      "Non-trainable params: 1,664\n",
      "_________________________________________________________________\n"
     ]
    }
   ],
   "source": [
    "model_2.summary()"
   ]
  },
  {
   "cell_type": "code",
   "execution_count": 41,
   "metadata": {},
   "outputs": [
    {
     "name": "stdout",
     "output_type": "stream",
     "text": [
      "Epoch 1/12\n",
      "6/6 [==============================] - 150s 25s/step - loss: 0.3480 - accuracy: 0.2648 - val_loss: 1.8941 - val_accuracy: 0.2115\n",
      "Epoch 2/12\n",
      "6/6 [==============================] - 152s 25s/step - loss: 0.2721 - accuracy: 0.3676 - val_loss: 1.8545 - val_accuracy: 0.2452\n",
      "Epoch 3/12\n",
      "6/6 [==============================] - 151s 25s/step - loss: 0.2530 - accuracy: 0.3956 - val_loss: 1.8834 - val_accuracy: 0.2449\n",
      "Epoch 4/12\n",
      "6/6 [==============================] - 154s 26s/step - loss: 0.2345 - accuracy: 0.4081 - val_loss: 1.9302 - val_accuracy: 0.2449\n",
      "Epoch 5/12\n",
      "6/6 [==============================] - 155s 26s/step - loss: 0.1979 - accuracy: 0.5202 - val_loss: 2.0436 - val_accuracy: 0.2449\n",
      "Epoch 6/12\n",
      "6/6 [==============================] - 153s 26s/step - loss: 0.1601 - accuracy: 0.6324 - val_loss: 2.1253 - val_accuracy: 0.2458\n",
      "Epoch 7/12\n",
      "6/6 [==============================] - 158s 26s/step - loss: 0.1362 - accuracy: 0.6947 - val_loss: 2.1671 - val_accuracy: 0.1758\n",
      "Epoch 8/12\n",
      "6/6 [==============================] - 158s 26s/step - loss: 0.1138 - accuracy: 0.7539 - val_loss: 2.2666 - val_accuracy: 0.1744\n",
      "Epoch 9/12\n",
      "6/6 [==============================] - 157s 26s/step - loss: 0.0948 - accuracy: 0.7944 - val_loss: 2.3691 - val_accuracy: 0.1744\n",
      "Epoch 10/12\n",
      "6/6 [==============================] - 163s 27s/step - loss: 0.0748 - accuracy: 0.8598 - val_loss: 2.5820 - val_accuracy: 0.1744\n",
      "Epoch 11/12\n",
      "6/6 [==============================] - 168s 28s/step - loss: 0.0731 - accuracy: 0.8536 - val_loss: 2.5205 - val_accuracy: 0.1744\n",
      "Epoch 12/12\n",
      "6/6 [==============================] - 158s 26s/step - loss: 0.0480 - accuracy: 0.9252 - val_loss: 2.6085 - val_accuracy: 0.1744\n"
     ]
    }
   ],
   "source": [
    "history = model_2.fit(train_images, train_labels,\n",
    "                    validation_data=(val_images, val_labels),\n",
    "                    class_weight = class_weight,\n",
    "                    epochs=12, # should be 12\n",
    "                    batch_size=64)\n"
   ]
  },
  {
   "cell_type": "code",
   "execution_count": 42,
   "metadata": {},
   "outputs": [
    {
     "name": "stdout",
     "output_type": "stream",
     "text": [
      "113/113 [==============================] - 120s 1s/step - loss: 2.6243 - accuracy: 0.1691\n",
      "test caccuracy: 0.16912789642810822\n"
     ]
    }
   ],
   "source": [
    "test_loss, test_acc = model_2.evaluate(test_images, test_labels)\n",
    "print('test caccuracy:', test_acc)\n"
   ]
  },
  {
   "cell_type": "code",
   "execution_count": 43,
   "metadata": {},
   "outputs": [
    {
     "name": "stdout",
     "output_type": "stream",
     "text": [
      "[[0.12204807 0.00137573 0.02849093 ... 0.07286688 0.00197641 0.6629141 ]\n",
      " [0.11991422 0.00120599 0.03424481 ... 0.09292966 0.00188307 0.62848896]\n",
      " [0.11560663 0.00140134 0.03554379 ... 0.07319535 0.0019947  0.62202924]\n",
      " ...\n",
      " [0.11177847 0.00115211 0.03166947 ... 0.10873779 0.00191325 0.64753646]\n",
      " [0.11989637 0.00122959 0.02708589 ... 0.06269148 0.00199993 0.6770607 ]\n",
      " [0.11262885 0.00129338 0.029561   ... 0.06014294 0.00180512 0.6783121 ]]\n"
     ]
    }
   ],
   "source": [
    "pred_test_labels = model_2.predict(test_images)\n",
    "print(pred_test_labels)"
   ]
  },
  {
   "cell_type": "code",
   "execution_count": 44,
   "metadata": {},
   "outputs": [
    {
     "data": {
      "text/plain": [
       "'models/model_v2.h5'"
      ]
     },
     "execution_count": 44,
     "metadata": {},
     "output_type": "execute_result"
    }
   ],
   "source": [
    "module = 'models/model_v2.h5'\n",
    "module"
   ]
  },
  {
   "cell_type": "code",
   "execution_count": 45,
   "metadata": {},
   "outputs": [],
   "source": [
    "model_2.save(module, save_format='h5')"
   ]
  },
  {
   "cell_type": "markdown",
   "metadata": {},
   "source": [
    "### Replace between Model V1 and Model V2"
   ]
  },
  {
   "cell_type": "code",
   "execution_count": 46,
   "metadata": {},
   "outputs": [
    {
     "name": "stdout",
     "output_type": "stream",
     "text": [
      "Running mode #1\n",
      "C:\\working\\gitos\\keras-onnx\n",
      "C:\\working\\gitos\\keras-onnx\\data_v1\n"
     ]
    }
   ],
   "source": [
    "if (running_model == 1):\n",
    "    \n",
    "    print(\"Running mode #1\")\n",
    "    \n",
    "    %cd {base_directory}\n",
    "\n",
    "    MODEL         =  model_1\n",
    "    model_version = 'model_v1'\n",
    "\n",
    "    %cd {data_v1_path}\n",
    "    \n",
    "else:\n",
    "    \n",
    "    print(\"Running mode #2\")\n",
    "    \n",
    "    %cd {base_directory}\n",
    "\n",
    "    MODEL         = model_2\n",
    "    model_version = 'model_v2'\n",
    "    \n",
    "    %cd {data_v2_path}"
   ]
  },
  {
   "cell_type": "markdown",
   "metadata": {},
   "source": [
    "### Initialize mflow"
   ]
  },
  {
   "cell_type": "code",
   "execution_count": 47,
   "metadata": {},
   "outputs": [
    {
     "name": "stdout",
     "output_type": "stream",
     "text": [
      "INFO: 'model_v1' does not exist. Creating a new experiment\n"
     ]
    }
   ],
   "source": [
    "#init the mlflow - make sure to end the last run before starting new one\n",
    "#mlflow.create_experiment(model_version)\n",
    "mlflow.set_experiment(model_version)\n",
    "mlflow.log_param(\"Model name\", MODEL.name)"
   ]
  },
  {
   "cell_type": "markdown",
   "metadata": {},
   "source": [
    "### Initialize git and dvc"
   ]
  },
  {
   "cell_type": "code",
   "execution_count": 48,
   "metadata": {},
   "outputs": [
    {
     "name": "stdout",
     "output_type": "stream",
     "text": [
      "Initialized empty Git repository in C:/working/gitos/keras-onnx/data_v1/.git/\n",
      "Initialized DVC repository.\n",
      "\n",
      "You can now commit the changes to git.\n",
      "\n",
      "+---------------------------------------------------------------------+\n",
      "|                                                                     |\n",
      "|        DVC has enabled anonymous aggregate usage analytics.         |\n",
      "|     Read the analytics documentation (and how to opt-out) here:     |\n",
      "|             <https://dvc.org/doc/user-guide/analytics>              |\n",
      "|                                                                     |\n",
      "+---------------------------------------------------------------------+\n",
      "\n",
      "What's next?\n",
      "------------\n",
      "- Check out the documentation: <https://dvc.org/doc>\n",
      "- Get help and share ideas: <https://dvc.org/chat>\n",
      "- Star us on GitHub: <https://github.com/iterative/dvc>\n",
      "[master (root-commit) 2f75a01] Initialize DVC\n",
      " 9 files changed, 515 insertions(+)\n",
      " create mode 100644 .dvc/.gitignore\n",
      " create mode 100644 .dvc/config\n",
      " create mode 100644 .dvc/plots/confusion.json\n",
      " create mode 100644 .dvc/plots/confusion_normalized.json\n",
      " create mode 100644 .dvc/plots/default.json\n",
      " create mode 100644 .dvc/plots/linear.json\n",
      " create mode 100644 .dvc/plots/scatter.json\n",
      " create mode 100644 .dvc/plots/smooth.json\n",
      " create mode 100644 .dvcignore\n",
      "Setting 'myrepo' as a default remote.\n"
     ]
    },
    {
     "name": "stderr",
     "output_type": "stream",
     "text": [
      "warning: LF will be replaced by CRLF in mlruns/0/meta.yaml.\n",
      "The file will have its original line endings in your working directory\n",
      "warning: LF will be replaced by CRLF in mlruns/1/e7b2d43bff32475f8ae9567a25fb138b/meta.yaml.\n",
      "The file will have its original line endings in your working directory\n",
      "warning: LF will be replaced by CRLF in mlruns/1/meta.yaml.\n",
      "The file will have its original line endings in your working directory\n"
     ]
    },
    {
     "name": "stdout",
     "output_type": "stream",
     "text": [
      "[master eb4a8e9] init\n",
      " 8 files changed, 31 insertions(+)\n",
      " create mode 100644 mlruns/0/meta.yaml\n",
      " create mode 100644 mlruns/1/e7b2d43bff32475f8ae9567a25fb138b/meta.yaml\n",
      " create mode 100644 mlruns/1/e7b2d43bff32475f8ae9567a25fb138b/params/Model name\n",
      " create mode 100644 mlruns/1/e7b2d43bff32475f8ae9567a25fb138b/tags/mlflow.source.name\n",
      " create mode 100644 mlruns/1/e7b2d43bff32475f8ae9567a25fb138b/tags/mlflow.source.type\n",
      " create mode 100644 mlruns/1/e7b2d43bff32475f8ae9567a25fb138b/tags/mlflow.user\n",
      " create mode 100644 mlruns/1/meta.yaml\n"
     ]
    }
   ],
   "source": [
    "!git config --global user.email \"levyron77@gmail.com\"\n",
    "!git config --global user.name \"Ronen Levy\"\n",
    "\n",
    "# global edit by visual code\n",
    "#git config --edit --global\n",
    "#git config --global core.editor \"code --wait --new-window\"\n",
    "#git log\n",
    "\n",
    "# creating SSH Key\n",
    "# -----------------\n",
    "#ls -al ~/.ssh\n",
    "#ssh-keygen -t rsa -b 4096 -C \"levyron77@gmail.com\"\n",
    "#eval $(ssh-agent -s)\n",
    "#ssh-add ~/.ssh/id_rsa\n",
    "#ssh -T git@github.com\n",
    "\n",
    "# clone\n",
    "# --------\n",
    "#git clone git@github.com:ronen77/keras-dvc.git\n",
    "\n",
    "!git init\n",
    "!dvc init\n",
    "!git commit -m \"Initialize DVC\"\n",
    "!dvc remote add myRepo ..\\dvc_repository -d\n",
    "!git add .\n",
    "!git commit -m \"init\""
   ]
  },
  {
   "cell_type": "code",
   "execution_count": 49,
   "metadata": {},
   "outputs": [],
   "source": [
    "mlflow.end_run()"
   ]
  },
  {
   "cell_type": "code",
   "execution_count": 50,
   "metadata": {},
   "outputs": [
    {
     "name": "stdout",
     "output_type": "stream",
     "text": [
      "mlflow.start_run(), begin\n",
      "mlflow.start_run(), done\n"
     ]
    }
   ],
   "source": [
    "print(\"mlflow.start_run(), begin\")\n",
    "\n",
    "try:\n",
    "    mlflow.start_run()\n",
    "    \n",
    "except:\n",
    "    print(\"mlflow.start_run(), exception\")\n",
    "    \n",
    "    mlflow.end_run()\n",
    "    \n",
    "    mlflow.set_experiment(model_version)\n",
    "    mlflow.log_param(\"Model name\", MODEL.name)\n",
    "    \n",
    "    mlflow.start_run()\n",
    "    \n",
    "print(\"mlflow.start_run(), done\")    "
   ]
  },
  {
   "cell_type": "code",
   "execution_count": 51,
   "metadata": {},
   "outputs": [
    {
     "name": "stdout",
     "output_type": "stream",
     "text": [
      "-------------------------------\n",
      "Loop number 0: branch name branch_0, file to load data_gathered_at_0.csv\n",
      "-------------------------------\n",
      "M\tmlruns/1/e7b2d43bff32475f8ae9567a25fb138b/meta.yaml\n"
     ]
    },
    {
     "name": "stderr",
     "output_type": "stream",
     "text": [
      "Already on 'master'\n"
     ]
    },
    {
     "name": "stdout",
     "output_type": "stream",
     "text": [
      "Everything is up to date.\n",
      "-------------------------------\n",
      "train_images contain 321 samples\n",
      "train_data contain 93 samples\n",
      "-------------------------------\n",
      "-------------------------------\n",
      "Create new branch name branch_0\n",
      "-------------------------------\n",
      "merged data contain 414 samples\n"
     ]
    },
    {
     "name": "stderr",
     "output_type": "stream",
     "text": [
      "Switched to a new branch 'branch_0'\n"
     ]
    },
    {
     "name": "stdout",
     "output_type": "stream",
     "text": [
      "\n",
      "To track the changes with git, run:\n",
      "\n",
      "\tgit add .gitignore merge_data.csv.dvc\n",
      "Everything is up to date.\n",
      "[branch_0 88cd4fb] commit merge data of initial_training_data and data_gathered_at_0.csv\n",
      " 1 file changed, 4 insertions(+)\n",
      " create mode 100644 merge_data.csv.dvc\n",
      "-------------------------------\n",
      "Prepare the data\n",
      "-------------------------------\n",
      "-------------------------------\n",
      "run the model\n",
      "-------------------------------\n",
      "Epoch 1/12\n",
      "7/7 [==============================] - 2s 293ms/step - loss: 0.2973 - accuracy: 0.2826 - val_loss: 1.9234 - val_accuracy: 0.2449\n",
      "Epoch 2/12\n",
      "7/7 [==============================] - 2s 299ms/step - loss: 0.2886 - accuracy: 0.2826 - val_loss: 1.9592 - val_accuracy: 0.2452\n",
      "Epoch 3/12\n",
      "7/7 [==============================] - 2s 297ms/step - loss: 0.2853 - accuracy: 0.2850 - val_loss: 1.8782 - val_accuracy: 0.2505\n",
      "Epoch 4/12\n",
      "7/7 [==============================] - 2s 302ms/step - loss: 0.2826 - accuracy: 0.2874 - val_loss: 1.9110 - val_accuracy: 0.2488\n",
      "Epoch 5/12\n",
      "7/7 [==============================] - 2s 292ms/step - loss: 0.2771 - accuracy: 0.2995 - val_loss: 1.9042 - val_accuracy: 0.2502\n",
      "Epoch 6/12\n",
      "7/7 [==============================] - 2s 291ms/step - loss: 0.2704 - accuracy: 0.2995 - val_loss: 1.9008 - val_accuracy: 0.2622\n",
      "Epoch 7/12\n",
      "7/7 [==============================] - 2s 293ms/step - loss: 0.2642 - accuracy: 0.3068 - val_loss: 1.9115 - val_accuracy: 0.2575\n",
      "Epoch 8/12\n",
      "7/7 [==============================] - 2s 294ms/step - loss: 0.2562 - accuracy: 0.3382 - val_loss: 1.9393 - val_accuracy: 0.2583\n",
      "Epoch 9/12\n",
      "7/7 [==============================] - 2s 305ms/step - loss: 0.2460 - accuracy: 0.3527 - val_loss: 1.8630 - val_accuracy: 0.2825\n",
      "Epoch 10/12\n",
      "7/7 [==============================] - 2s 315ms/step - loss: 0.2385 - accuracy: 0.4058 - val_loss: 1.8535 - val_accuracy: 0.2867\n",
      "Epoch 11/12\n",
      "7/7 [==============================] - 2s 304ms/step - loss: 0.2316 - accuracy: 0.4372 - val_loss: 2.0498 - val_accuracy: 0.2758\n",
      "Epoch 12/12\n",
      "7/7 [==============================] - 2s 310ms/step - loss: 0.2232 - accuracy: 0.4324 - val_loss: 1.8930 - val_accuracy: 0.3059\n",
      "113/113 [==============================] - 2s 16ms/step - loss: 1.9013 - accuracy: 0.3098\n",
      "-------------------------------\n",
      "The score is 0.30983561277389526\n",
      "-------------------------------\n",
      "M\tmlruns/1/e7b2d43bff32475f8ae9567a25fb138b/meta.yaml\n",
      "-------------------------------\n",
      "!!! Good score 0.30983561277389526 (last=0) merge branch_0 to the master\n",
      "-------------------------------\n"
     ]
    },
    {
     "name": "stderr",
     "output_type": "stream",
     "text": [
      "Switched to branch 'master'\n"
     ]
    },
    {
     "name": "stdout",
     "output_type": "stream",
     "text": [
      "Updating eb4a8e9..88cd4fb\n",
      "Fast-forward\n",
      " merge_data.csv.dvc | 4 ++++\n",
      " 1 file changed, 4 insertions(+)\n",
      " create mode 100644 merge_data.csv.dvc\n",
      "-------------------------------\n",
      "Deleting branch branch_0\n",
      "-------------------------------\n",
      "Deleted branch branch_0 (was 88cd4fb).\n",
      "-------------------------------\n",
      "Loop number 1: branch name branch_1, file to load data_gathered_at_1.csv\n",
      "-------------------------------\n",
      "M\tmlruns/1/e7b2d43bff32475f8ae9567a25fb138b/meta.yaml\n"
     ]
    },
    {
     "name": "stderr",
     "output_type": "stream",
     "text": [
      "Already on 'master'\n"
     ]
    },
    {
     "name": "stdout",
     "output_type": "stream",
     "text": [
      "Everything is up to date.\n",
      "-------------------------------\n",
      "train_images contain 414 samples\n",
      "train_data contain 125 samples\n",
      "-------------------------------\n",
      "-------------------------------\n",
      "Create new branch name branch_1\n",
      "-------------------------------\n"
     ]
    },
    {
     "name": "stderr",
     "output_type": "stream",
     "text": [
      "Switched to a new branch 'branch_1'\n"
     ]
    },
    {
     "name": "stdout",
     "output_type": "stream",
     "text": [
      "merged data contain 539 samples\n",
      "\n",
      "To track the changes with git, run:\n",
      "\n",
      "\tgit add merge_data.csv.dvc\n",
      "Everything is up to date.\n",
      "[branch_1 3d0776a] commit merge data of initial_training_data and data_gathered_at_1.csv\n",
      " 1 file changed, 2 insertions(+), 2 deletions(-)\n",
      "-------------------------------\n",
      "Prepare the data\n",
      "-------------------------------\n",
      "-------------------------------\n",
      "run the model\n",
      "-------------------------------\n",
      "Epoch 1/12\n",
      "9/9 [==============================] - 2s 270ms/step - loss: 0.2340 - accuracy: 0.4082 - val_loss: 1.8179 - val_accuracy: 0.3232\n",
      "Epoch 2/12\n",
      "9/9 [==============================] - 2s 249ms/step - loss: 0.2214 - accuracy: 0.4490 - val_loss: 1.8867 - val_accuracy: 0.3048\n",
      "Epoch 3/12\n",
      "9/9 [==============================] - 2s 251ms/step - loss: 0.2164 - accuracy: 0.4675 - val_loss: 1.9178 - val_accuracy: 0.3291\n",
      "Epoch 4/12\n",
      "9/9 [==============================] - 2s 265ms/step - loss: 0.2010 - accuracy: 0.4842 - val_loss: 1.8594 - val_accuracy: 0.3583\n",
      "Epoch 5/12\n",
      "9/9 [==============================] - 2s 267ms/step - loss: 0.1964 - accuracy: 0.5195 - val_loss: 1.8524 - val_accuracy: 0.3536\n",
      "Epoch 6/12\n",
      "9/9 [==============================] - 2s 249ms/step - loss: 0.1845 - accuracy: 0.5492 - val_loss: 1.8719 - val_accuracy: 0.3614\n",
      "Epoch 7/12\n",
      "9/9 [==============================] - 2s 254ms/step - loss: 0.1713 - accuracy: 0.5788 - val_loss: 1.9359 - val_accuracy: 0.3706\n",
      "Epoch 8/12\n",
      "9/9 [==============================] - 2s 252ms/step - loss: 0.1593 - accuracy: 0.6141 - val_loss: 1.9508 - val_accuracy: 0.3605\n",
      "Epoch 9/12\n",
      "9/9 [==============================] - 2s 255ms/step - loss: 0.1605 - accuracy: 0.6030 - val_loss: 1.9023 - val_accuracy: 0.3906\n",
      "Epoch 10/12\n",
      "9/9 [==============================] - 2s 255ms/step - loss: 0.1413 - accuracy: 0.6772 - val_loss: 2.0017 - val_accuracy: 0.3837\n",
      "Epoch 11/12\n",
      "9/9 [==============================] - 2s 254ms/step - loss: 0.1277 - accuracy: 0.6846 - val_loss: 2.1693 - val_accuracy: 0.3865\n",
      "Epoch 12/12\n",
      "9/9 [==============================] - 2s 255ms/step - loss: 0.1175 - accuracy: 0.7199 - val_loss: 2.1961 - val_accuracy: 0.3957\n",
      "113/113 [==============================] - 2s 15ms/step - loss: 2.3708 - accuracy: 0.3469\n",
      "-------------------------------\n",
      "The score is 0.3468932807445526\n",
      "-------------------------------\n",
      "M\tmlruns/1/e7b2d43bff32475f8ae9567a25fb138b/meta.yaml\n",
      "-------------------------------\n",
      "!!! Good score 0.3468932807445526 (last=0.30983561277389526) merge branch_1 to the master\n",
      "-------------------------------\n"
     ]
    },
    {
     "name": "stderr",
     "output_type": "stream",
     "text": [
      "Switched to branch 'master'\n"
     ]
    },
    {
     "name": "stdout",
     "output_type": "stream",
     "text": [
      "Updating 88cd4fb..3d0776a\n",
      "Fast-forward\n",
      " merge_data.csv.dvc | 4 ++--\n",
      " 1 file changed, 2 insertions(+), 2 deletions(-)\n",
      "-------------------------------\n",
      "Deleting branch branch_1\n",
      "-------------------------------\n",
      "Deleted branch branch_1 (was 3d0776a).\n",
      "-------------------------------\n",
      "Loop number 2: branch name branch_2, file to load data_gathered_at_2.csv\n",
      "-------------------------------\n",
      "M\tmlruns/1/e7b2d43bff32475f8ae9567a25fb138b/meta.yaml\n"
     ]
    },
    {
     "name": "stderr",
     "output_type": "stream",
     "text": [
      "Already on 'master'\n"
     ]
    },
    {
     "name": "stdout",
     "output_type": "stream",
     "text": [
      "Everything is up to date.\n",
      "-------------------------------\n",
      "train_images contain 539 samples\n",
      "train_data contain 100 samples\n",
      "-------------------------------\n",
      "-------------------------------\n",
      "Create new branch name branch_2\n",
      "-------------------------------\n",
      "merged data contain 639 samples\n"
     ]
    },
    {
     "name": "stderr",
     "output_type": "stream",
     "text": [
      "Switched to a new branch 'branch_2'\n"
     ]
    },
    {
     "name": "stdout",
     "output_type": "stream",
     "text": [
      "\n",
      "To track the changes with git, run:\n",
      "\n",
      "\tgit add merge_data.csv.dvc\n",
      "Everything is up to date.\n",
      "[branch_2 64f9226] commit merge data of initial_training_data and data_gathered_at_2.csv\n",
      " 1 file changed, 2 insertions(+), 2 deletions(-)\n",
      "-------------------------------\n",
      "Prepare the data\n",
      "-------------------------------\n",
      "-------------------------------\n",
      "run the model\n",
      "-------------------------------\n",
      "Epoch 1/12\n",
      "10/10 [==============================] - 2s 243ms/step - loss: 0.2295 - accuracy: 0.5743 - val_loss: 1.8207 - val_accuracy: 0.3592\n",
      "Epoch 2/12\n",
      "10/10 [==============================] - 2s 237ms/step - loss: 0.1833 - accuracy: 0.5712 - val_loss: 1.8681 - val_accuracy: 0.3709\n",
      "Epoch 3/12\n",
      "10/10 [==============================] - 2s 241ms/step - loss: 0.1532 - accuracy: 0.6432 - val_loss: 2.0461 - val_accuracy: 0.3982\n",
      "Epoch 4/12\n",
      "10/10 [==============================] - 2s 238ms/step - loss: 0.1316 - accuracy: 0.7058 - val_loss: 2.1088 - val_accuracy: 0.4076\n",
      "Epoch 5/12\n",
      "10/10 [==============================] - 3s 252ms/step - loss: 0.1156 - accuracy: 0.7230 - val_loss: 2.2737 - val_accuracy: 0.4118\n",
      "Epoch 6/12\n",
      "10/10 [==============================] - 3s 254ms/step - loss: 0.1045 - accuracy: 0.7715 - val_loss: 2.3181 - val_accuracy: 0.4054\n",
      "Epoch 7/12\n",
      "10/10 [==============================] - 2s 242ms/step - loss: 0.0946 - accuracy: 0.7934 - val_loss: 2.3735 - val_accuracy: 0.4135\n",
      "Epoch 8/12\n",
      "10/10 [==============================] - 3s 252ms/step - loss: 0.0804 - accuracy: 0.8138 - val_loss: 2.5069 - val_accuracy: 0.4043\n",
      "Epoch 9/12\n",
      "10/10 [==============================] - 3s 257ms/step - loss: 0.0713 - accuracy: 0.8451 - val_loss: 2.5710 - val_accuracy: 0.4093\n",
      "Epoch 10/12\n",
      "10/10 [==============================] - 3s 269ms/step - loss: 0.0606 - accuracy: 0.8811 - val_loss: 2.7621 - val_accuracy: 0.4185\n",
      "Epoch 11/12\n",
      "10/10 [==============================] - 3s 261ms/step - loss: 0.0534 - accuracy: 0.8842 - val_loss: 2.8125 - val_accuracy: 0.4146\n",
      "Epoch 12/12\n",
      "10/10 [==============================] - 3s 273ms/step - loss: 0.0452 - accuracy: 0.9139 - val_loss: 2.9053 - val_accuracy: 0.4171\n",
      "113/113 [==============================] - 2s 19ms/step - loss: 3.2604 - accuracy: 0.3310\n",
      "-------------------------------\n",
      "The score is 0.33101141452789307\n",
      "-------------------------------\n",
      "M\tmlruns/1/e7b2d43bff32475f8ae9567a25fb138b/meta.yaml\n",
      "-------------------------------\n",
      "!!! Bad score 0.33101141452789307 (last=0.3468932807445526) delete branch_2\n",
      "-------------------------------\n",
      "-------------------------------\n",
      "Deleting branch branch_2\n",
      "-------------------------------\n"
     ]
    },
    {
     "name": "stderr",
     "output_type": "stream",
     "text": [
      "Switched to branch 'master'\n"
     ]
    },
    {
     "name": "stdout",
     "output_type": "stream",
     "text": [
      "Deleted branch branch_2 (was 64f9226).\n",
      "-------------------------------\n",
      "Loop number 3: branch name branch_3, file to load data_gathered_at_3.csv\n",
      "-------------------------------\n",
      "M\tmlruns/1/e7b2d43bff32475f8ae9567a25fb138b/meta.yaml\n"
     ]
    },
    {
     "name": "stderr",
     "output_type": "stream",
     "text": [
      "Already on 'master'\n"
     ]
    },
    {
     "name": "stdout",
     "output_type": "stream",
     "text": [
      "M\tmerge_data.csv\n",
      "1 file modified\n",
      "-------------------------------\n",
      "train_images contain 539 samples\n",
      "train_data contain 107 samples\n",
      "-------------------------------\n",
      "-------------------------------\n",
      "Create new branch name branch_3\n",
      "-------------------------------\n"
     ]
    },
    {
     "name": "stderr",
     "output_type": "stream",
     "text": [
      "Switched to a new branch 'branch_3'\n"
     ]
    },
    {
     "name": "stdout",
     "output_type": "stream",
     "text": [
      "merged data contain 646 samples\n",
      "\n",
      "To track the changes with git, run:\n",
      "\n",
      "\tgit add merge_data.csv.dvc\n",
      "1 file pushed\n",
      "[branch_3 2bec1d4] commit merge data of initial_training_data and data_gathered_at_3.csv\n",
      " 1 file changed, 2 insertions(+), 2 deletions(-)\n",
      "-------------------------------\n",
      "Prepare the data\n",
      "-------------------------------\n",
      "-------------------------------\n",
      "run the model\n",
      "-------------------------------\n",
      "Epoch 1/12\n",
      "11/11 [==============================] - 3s 235ms/step - loss: 0.0915 - accuracy: 0.8421 - val_loss: 2.5620 - val_accuracy: 0.4188\n",
      "Epoch 2/12\n",
      "11/11 [==============================] - 3s 249ms/step - loss: 0.0726 - accuracy: 0.8545 - val_loss: 2.5887 - val_accuracy: 0.4257\n",
      "Epoch 3/12\n",
      "11/11 [==============================] - 2s 227ms/step - loss: 0.0613 - accuracy: 0.8746 - val_loss: 2.8952 - val_accuracy: 0.4283\n",
      "Epoch 4/12\n",
      "11/11 [==============================] - 3s 228ms/step - loss: 0.0764 - accuracy: 0.8204 - val_loss: 2.7234 - val_accuracy: 0.4218\n",
      "Epoch 5/12\n",
      "11/11 [==============================] - 2s 220ms/step - loss: 0.0854 - accuracy: 0.8189 - val_loss: 2.4725 - val_accuracy: 0.4037\n",
      "Epoch 6/12\n",
      "11/11 [==============================] - 3s 233ms/step - loss: 0.0643 - accuracy: 0.8483 - val_loss: 2.7963 - val_accuracy: 0.4327\n",
      "Epoch 7/12\n",
      "11/11 [==============================] - 3s 234ms/step - loss: 0.0528 - accuracy: 0.8777 - val_loss: 2.9456 - val_accuracy: 0.4135\n",
      "Epoch 8/12\n",
      "11/11 [==============================] - 3s 237ms/step - loss: 0.0382 - accuracy: 0.9211 - val_loss: 3.0528 - val_accuracy: 0.4335\n",
      "Epoch 9/12\n",
      "11/11 [==============================] - 3s 237ms/step - loss: 0.0294 - accuracy: 0.9319 - val_loss: 3.2887 - val_accuracy: 0.4369\n",
      "Epoch 10/12\n",
      "11/11 [==============================] - 3s 239ms/step - loss: 0.0218 - accuracy: 0.9505 - val_loss: 3.3922 - val_accuracy: 0.4266\n",
      "Epoch 11/12\n",
      "11/11 [==============================] - 3s 236ms/step - loss: 0.0199 - accuracy: 0.9582 - val_loss: 3.5912 - val_accuracy: 0.4129\n",
      "Epoch 12/12\n",
      "11/11 [==============================] - 3s 236ms/step - loss: 0.0288 - accuracy: 0.9334 - val_loss: 3.2244 - val_accuracy: 0.4366\n",
      "113/113 [==============================] - 2s 16ms/step - loss: 3.7741 - accuracy: 0.3257\n",
      "-------------------------------\n",
      "The score is 0.3257174789905548\n",
      "-------------------------------\n",
      "M\tmlruns/1/e7b2d43bff32475f8ae9567a25fb138b/meta.yaml\n",
      "-------------------------------\n",
      "!!! Bad score 0.3257174789905548 (last=0.3468932807445526) delete branch_3\n",
      "-------------------------------\n",
      "-------------------------------\n",
      "Deleting branch branch_3\n",
      "-------------------------------\n"
     ]
    },
    {
     "name": "stderr",
     "output_type": "stream",
     "text": [
      "Switched to branch 'master'\n"
     ]
    },
    {
     "name": "stdout",
     "output_type": "stream",
     "text": [
      "Deleted branch branch_3 (was 2bec1d4).\n",
      "-------------------------------\n",
      "Loop number 4: branch name branch_4, file to load data_gathered_at_4.csv\n",
      "-------------------------------\n",
      "M\tmlruns/1/e7b2d43bff32475f8ae9567a25fb138b/meta.yaml\n"
     ]
    },
    {
     "name": "stderr",
     "output_type": "stream",
     "text": [
      "Already on 'master'\n"
     ]
    },
    {
     "name": "stdout",
     "output_type": "stream",
     "text": [
      "M\tmerge_data.csv-------------------------------\n",
      "1 file modified\n",
      "\n",
      "train_images contain 539 samples\n",
      "train_data contain 112 samples\n",
      "-------------------------------\n",
      "-------------------------------\n",
      "Create new branch name branch_4\n",
      "-------------------------------\n",
      "merged data contain 651 samples\n"
     ]
    },
    {
     "name": "stderr",
     "output_type": "stream",
     "text": [
      "Switched to a new branch 'branch_4'\n"
     ]
    },
    {
     "name": "stdout",
     "output_type": "stream",
     "text": [
      "\n",
      "To track the changes with git, run:\n",
      "\n",
      "\tgit add merge_data.csv.dvc\n",
      "1 file pushed\n",
      "[branch_4 115f049] commit merge data of initial_training_data and data_gathered_at_4.csv-------------------------------\n",
      " 1 file changed, 2 insertions(+), 2 deletions(-)\n",
      "\n",
      "Prepare the data\n",
      "-------------------------------\n",
      "-------------------------------\n",
      "run the model\n",
      "-------------------------------\n",
      "Epoch 1/12\n",
      "11/11 [==============================] - 3s 233ms/step - loss: 0.1405 - accuracy: 0.8095 - val_loss: 2.2785 - val_accuracy: 0.4291\n",
      "Epoch 2/12\n",
      "11/11 [==============================] - 2s 220ms/step - loss: 0.1020 - accuracy: 0.8034 - val_loss: 2.2401 - val_accuracy: 0.4138\n",
      "Epoch 3/12\n",
      "11/11 [==============================] - 2s 224ms/step - loss: 0.0800 - accuracy: 0.8525 - val_loss: 2.5488 - val_accuracy: 0.4475\n",
      "Epoch 4/12\n",
      "11/11 [==============================] - 2s 222ms/step - loss: 0.0565 - accuracy: 0.8817 - val_loss: 2.3779 - val_accuracy: 0.4539\n",
      "Epoch 5/12\n",
      "11/11 [==============================] - 2s 222ms/step - loss: 0.0467 - accuracy: 0.9155 - val_loss: 2.4239 - val_accuracy: 0.4505\n",
      "Epoch 6/12\n",
      "11/11 [==============================] - 3s 230ms/step - loss: 0.0365 - accuracy: 0.9247 - val_loss: 2.6290 - val_accuracy: 0.4609\n",
      "Epoch 7/12\n",
      "11/11 [==============================] - 3s 228ms/step - loss: 0.0285 - accuracy: 0.9508 - val_loss: 2.7441 - val_accuracy: 0.4656\n",
      "Epoch 8/12\n",
      "11/11 [==============================] - 3s 234ms/step - loss: 0.0211 - accuracy: 0.9570 - val_loss: 2.7050 - val_accuracy: 0.4466\n",
      "Epoch 9/12\n",
      "11/11 [==============================] - 3s 231ms/step - loss: 0.0172 - accuracy: 0.9693 - val_loss: 2.8935 - val_accuracy: 0.4703\n",
      "Epoch 10/12\n",
      "11/11 [==============================] - 3s 241ms/step - loss: 0.0148 - accuracy: 0.9647 - val_loss: 2.9219 - val_accuracy: 0.4514\n",
      "Epoch 11/12\n",
      "11/11 [==============================] - 3s 241ms/step - loss: 0.0121 - accuracy: 0.9708 - val_loss: 3.0845 - val_accuracy: 0.4664\n",
      "Epoch 12/12\n",
      "11/11 [==============================] - 3s 242ms/step - loss: 0.0103 - accuracy: 0.9754 - val_loss: 3.1224 - val_accuracy: 0.4589\n",
      "113/113 [==============================] - 2s 16ms/step - loss: 3.8602 - accuracy: 0.3335\n",
      "-------------------------------\n",
      "The score is 0.3335190713405609\n",
      "-------------------------------\n",
      "M\tmlruns/1/e7b2d43bff32475f8ae9567a25fb138b/meta.yaml\n",
      "-------------------------------\n",
      "!!! Bad score 0.3335190713405609 (last=0.3468932807445526) delete branch_4\n",
      "-------------------------------\n",
      "-------------------------------\n",
      "Deleting branch branch_4\n",
      "-------------------------------\n"
     ]
    },
    {
     "name": "stderr",
     "output_type": "stream",
     "text": [
      "Switched to branch 'master'\n"
     ]
    },
    {
     "name": "stdout",
     "output_type": "stream",
     "text": [
      "Deleted branch branch_4 (was 115f049).\n",
      "-------------------------------\n",
      "Loop number 5: branch name branch_5, file to load data_gathered_at_5.csv\n",
      "-------------------------------\n",
      "M\tmlruns/1/e7b2d43bff32475f8ae9567a25fb138b/meta.yaml\n"
     ]
    },
    {
     "name": "stderr",
     "output_type": "stream",
     "text": [
      "Already on 'master'\n"
     ]
    },
    {
     "name": "stdout",
     "output_type": "stream",
     "text": [
      "M\tmerge_data.csv\n",
      "1 file modified\n",
      "-------------------------------\n",
      "train_images contain 539 samples\n",
      "train_data contain 123 samples\n",
      "-------------------------------\n",
      "-------------------------------\n",
      "Create new branch name branch_5\n",
      "-------------------------------\n"
     ]
    },
    {
     "name": "stderr",
     "output_type": "stream",
     "text": [
      "Switched to a new branch 'branch_5'\n"
     ]
    },
    {
     "name": "stdout",
     "output_type": "stream",
     "text": [
      "merged data contain 662 samples\n",
      "\n",
      "To track the changes with git, run:\n",
      "\n",
      "\tgit add merge_data.csv.dvc\n",
      "1 file pushed\n",
      "[branch_5 bac11fa] commit merge data of initial_training_data and data_gathered_at_5.csv\n",
      " 1 file changed, 2 insertions(+), 2 deletions(-)\n",
      "-------------------------------\n",
      "Prepare the data\n",
      "-------------------------------\n",
      "-------------------------------\n",
      "run the model\n",
      "-------------------------------\n",
      "Epoch 1/12\n",
      "11/11 [==============================] - 3s 243ms/step - loss: 0.1261 - accuracy: 0.8353 - val_loss: 2.4765 - val_accuracy: 0.4575\n",
      "Epoch 2/12\n",
      "11/11 [==============================] - 3s 242ms/step - loss: 0.0690 - accuracy: 0.8625 - val_loss: 2.3874 - val_accuracy: 0.4575\n",
      "Epoch 3/12\n",
      "11/11 [==============================] - 3s 240ms/step - loss: 0.0441 - accuracy: 0.9094 - val_loss: 2.4745 - val_accuracy: 0.4787\n",
      "Epoch 4/12\n",
      "11/11 [==============================] - 2s 225ms/step - loss: 0.0286 - accuracy: 0.9260 - val_loss: 2.5910 - val_accuracy: 0.4664\n",
      "Epoch 5/12\n",
      "11/11 [==============================] - 3s 240ms/step - loss: 0.0236 - accuracy: 0.9381 - val_loss: 2.7110 - val_accuracy: 0.4620\n",
      "Epoch 6/12\n",
      "11/11 [==============================] - 2s 227ms/step - loss: 0.0172 - accuracy: 0.9653 - val_loss: 2.8750 - val_accuracy: 0.4709\n",
      "Epoch 7/12\n",
      "11/11 [==============================] - 3s 234ms/step - loss: 0.0151 - accuracy: 0.9668 - val_loss: 2.9623 - val_accuracy: 0.4787\n",
      "Epoch 8/12\n",
      "11/11 [==============================] - 3s 271ms/step - loss: 0.0101 - accuracy: 0.9698 - val_loss: 3.0193 - val_accuracy: 0.4717\n",
      "Epoch 9/12\n",
      "11/11 [==============================] - 3s 234ms/step - loss: 0.0082 - accuracy: 0.9743 - val_loss: 3.1236 - val_accuracy: 0.4751\n",
      "Epoch 10/12\n",
      "11/11 [==============================] - 3s 229ms/step - loss: 0.0067 - accuracy: 0.9789 - val_loss: 3.2171 - val_accuracy: 0.4773\n",
      "Epoch 11/12\n",
      "11/11 [==============================] - 3s 230ms/step - loss: 0.0048 - accuracy: 0.9804 - val_loss: 3.2397 - val_accuracy: 0.4745\n",
      "Epoch 12/12\n",
      "11/11 [==============================] - 3s 229ms/step - loss: 0.0035 - accuracy: 0.9804 - val_loss: 3.3263 - val_accuracy: 0.4751\n",
      "113/113 [==============================] - 2s 15ms/step - loss: 4.2893 - accuracy: 0.3419\n",
      "-------------------------------\n",
      "The score is 0.3418779671192169\n",
      "-------------------------------\n",
      "M\tmlruns/1/e7b2d43bff32475f8ae9567a25fb138b/meta.yaml\n",
      "-------------------------------\n",
      "!!! Bad score 0.3418779671192169 (last=0.3468932807445526) delete branch_5\n",
      "-------------------------------\n",
      "-------------------------------\n",
      "Deleting branch branch_5\n",
      "-------------------------------\n"
     ]
    },
    {
     "name": "stderr",
     "output_type": "stream",
     "text": [
      "Switched to branch 'master'\n"
     ]
    },
    {
     "name": "stdout",
     "output_type": "stream",
     "text": [
      "Deleted branch branch_5 (was bac11fa).\n",
      "-------------------------------\n",
      "Loop number 6: branch name branch_6, file to load data_gathered_at_6.csv\n",
      "-------------------------------\n",
      "M\tmlruns/1/e7b2d43bff32475f8ae9567a25fb138b/meta.yaml\n"
     ]
    },
    {
     "name": "stderr",
     "output_type": "stream",
     "text": [
      "Already on 'master'\n"
     ]
    },
    {
     "name": "stdout",
     "output_type": "stream",
     "text": [
      "M\tmerge_data.csv\n",
      "1 file modified\n",
      "-------------------------------\n",
      "train_images contain 539 samples\n",
      "train_data contain 98 samples\n",
      "-------------------------------\n",
      "-------------------------------\n",
      "Create new branch name branch_6\n",
      "-------------------------------\n",
      "merged data contain 637 samples\n"
     ]
    },
    {
     "name": "stderr",
     "output_type": "stream",
     "text": [
      "Switched to a new branch 'branch_6'\n"
     ]
    },
    {
     "name": "stdout",
     "output_type": "stream",
     "text": [
      "\n",
      "To track the changes with git, run:\n",
      "\n",
      "\tgit add merge_data.csv.dvc\n",
      "1 file pushed\n",
      "[branch_6 b1876b6] commit merge data of initial_training_data and data_gathered_at_6.csv\n",
      " 1 file changed, 2 insertions(+), 2 deletions(-)\n",
      "-------------------------------\n",
      "Prepare the data\n",
      "-------------------------------\n",
      "-------------------------------\n",
      "run the model\n",
      "-------------------------------\n",
      "Epoch 1/12\n",
      "10/10 [==============================] - 3s 251ms/step - loss: 0.0814 - accuracy: 0.8807 - val_loss: 2.8494 - val_accuracy: 0.4720\n",
      "Epoch 2/12\n",
      "10/10 [==============================] - 2s 249ms/step - loss: 0.0507 - accuracy: 0.9027 - val_loss: 2.4421 - val_accuracy: 0.4625\n",
      "Epoch 3/12\n",
      "10/10 [==============================] - 2s 242ms/step - loss: 0.0313 - accuracy: 0.9356 - val_loss: 2.6209 - val_accuracy: 0.4932\n",
      "Epoch 4/12\n",
      "10/10 [==============================] - 2s 245ms/step - loss: 0.0199 - accuracy: 0.9576 - val_loss: 2.7200 - val_accuracy: 0.4801\n",
      "Epoch 5/12\n",
      "10/10 [==============================] - 2s 242ms/step - loss: 0.0120 - accuracy: 0.9686 - val_loss: 2.9043 - val_accuracy: 0.4876\n",
      "Epoch 6/12\n",
      "10/10 [==============================] - 2s 238ms/step - loss: 0.0072 - accuracy: 0.9765 - val_loss: 3.0426 - val_accuracy: 0.4909\n",
      "Epoch 7/12\n",
      "10/10 [==============================] - 2s 247ms/step - loss: 0.0049 - accuracy: 0.9827 - val_loss: 3.1354 - val_accuracy: 0.4907\n",
      "Epoch 8/12\n",
      "10/10 [==============================] - 3s 255ms/step - loss: 0.0038 - accuracy: 0.9827 - val_loss: 3.1977 - val_accuracy: 0.4884\n",
      "Epoch 9/12\n",
      "10/10 [==============================] - 3s 266ms/step - loss: 0.0031 - accuracy: 0.9827 - val_loss: 3.3063 - val_accuracy: 0.4893\n",
      "Epoch 10/12\n",
      "10/10 [==============================] - 3s 252ms/step - loss: 0.0026 - accuracy: 0.9827 - val_loss: 3.3617 - val_accuracy: 0.4890\n",
      "Epoch 11/12\n",
      "10/10 [==============================] - 3s 275ms/step - loss: 0.0023 - accuracy: 0.9827 - val_loss: 3.4203 - val_accuracy: 0.4887\n",
      "Epoch 12/12\n",
      "10/10 [==============================] - 3s 263ms/step - loss: 0.0020 - accuracy: 0.9827 - val_loss: 3.4714 - val_accuracy: 0.4904\n",
      "113/113 [==============================] - 2s 16ms/step - loss: 4.5721 - accuracy: 0.3466\n",
      "-------------------------------\n",
      "The score is 0.34661465883255005\n",
      "-------------------------------\n",
      "M\tmlruns/1/e7b2d43bff32475f8ae9567a25fb138b/meta.yaml\n",
      "-------------------------------\n",
      "!!! Good score 0.34661465883255005 (last=0.3468932807445526) merge branch_6 to the master\n",
      "-------------------------------\n"
     ]
    },
    {
     "name": "stderr",
     "output_type": "stream",
     "text": [
      "Switched to branch 'master'\n"
     ]
    },
    {
     "name": "stdout",
     "output_type": "stream",
     "text": [
      "Updating 3d0776a..b1876b6\n",
      "Fast-forward\n",
      " merge_data.csv.dvc | 4 ++--\n",
      " 1 file changed, 2 insertions(+), 2 deletions(-)\n",
      "-------------------------------\n",
      "Deleting branch branch_6\n",
      "-------------------------------\n",
      "Deleted branch branch_6 (was b1876b6).\n"
     ]
    }
   ],
   "source": [
    "# 1. load and merge the data\n",
    "# 2. create branch and push to the branch and dvc\n",
    "# 3. decide according to the score how to proceed drop or merge to master\n",
    "\n",
    "train_images = pd.read_csv('../' + raw_data_path + 'initial_training_data.csv')\n",
    "train_images.to_csv(\"merge_data.csv\")\n",
    "\n",
    "Last_score  = 0\n",
    "Grace_error = 0.005\n",
    "\n",
    "for seq in range(7):\n",
    "    \n",
    "    #parameters\n",
    "    branch_name   = 'branch_' + str(seq)\n",
    "    csv_file_name = 'data_gathered_at_' + str(seq) + '.csv'\n",
    "    commit_str    = 'commit merge data of initial_training_data and ' + csv_file_name\n",
    "    \n",
    "    print(\"-------------------------------\")\n",
    "    print(f'Loop number {seq}: branch name {branch_name}, file to load {csv_file_name}')\n",
    "    print(\"-------------------------------\")\n",
    "    \n",
    "    #make sure u start from the master branch\n",
    "    !git checkout master\n",
    "    !dvc pull  # same effect as 'dvc checkout'\n",
    "    \n",
    "    #load data and merge to the initial training\n",
    "    print(\"-------------------------------\")\n",
    "    train_images = pd.read_csv(\"merge_data.csv\")\n",
    "    print(f'train_images contain {len(train_images)} samples')\n",
    "    train_data = pd.read_csv('../' + raw_data_path + csv_file_name)\n",
    "    print(f'train_data contain {len(train_data)} samples')\n",
    "    train_data = pd.concat([train_images, train_data])\n",
    "    print(\"-------------------------------\")\n",
    "    \n",
    "    #create new branch\n",
    "    print(\"-------------------------------\")\n",
    "    print(f'Create new branch name {branch_name}')\n",
    "    print(\"-------------------------------\")\n",
    "    !git checkout -b {branch_name}\n",
    "    \n",
    "    #save the new file to /data directory\n",
    "    train_data.to_csv(\"merge_data.csv\")\n",
    "    train_data = pd.read_csv('merge_data.csv')\n",
    "    print(f'merged data contain {len(train_data)} samples')\n",
    "        \n",
    "    !dvc add merge_data.csv\n",
    "    !dvc push merge_data.csv\n",
    "    !git add merge_data.csv.dvc\n",
    "    !git commit -m \"{commit_str}\"\n",
    "    \n",
    "    #prepare the data\n",
    "    print(\"-------------------------------\")\n",
    "    print(f'Prepare the data')\n",
    "    print(\"-------------------------------\")\n",
    "    train_images, train_labels = data_to_tf_data(train_data)\n",
    "    \n",
    "    #run the model\n",
    "    print(\"-------------------------------\")\n",
    "    print(f'run the model')\n",
    "    print(\"-------------------------------\")\n",
    "    history = MODEL.fit(train_images, train_labels,\n",
    "                    validation_data=(val_images, val_labels),\n",
    "                    class_weight = class_weight,\n",
    "                    epochs=12, # should be 12\n",
    "                    batch_size=64)\n",
    "\n",
    "    \n",
    "    \n",
    "    test_loss, test_acc = MODEL.evaluate(test_images, test_labels)\n",
    "    print(\"-------------------------------\")\n",
    "    print(f'The score is {test_acc}')\n",
    "    print(\"-------------------------------\")\n",
    "    \n",
    "    !git checkout master\n",
    "    \n",
    "    if test_acc >= (Last_score - Grace_error):\n",
    "        print(\"-------------------------------\")\n",
    "        print(f'!!! Good score {test_acc} (last={Last_score}) merge {branch_name} to the master')\n",
    "        print(\"-------------------------------\")\n",
    "        !git merge {branch_name}\n",
    "        \n",
    "    else:\n",
    "        print(\"-------------------------------\")\n",
    "        print(f'!!! Bad score {test_acc} (last={Last_score}) delete {branch_name}')\n",
    "        print(\"-------------------------------\")\n",
    "    \n",
    "    if test_acc >= (Last_score - Grace_error):\n",
    "        Last_score = test_acc\n",
    "\n",
    "    print(\"-------------------------------\")\n",
    "    print(f'Deleting branch {branch_name}')\n",
    "    print(\"-------------------------------\")\n",
    "    !git branch -D {branch_name} \n",
    "    \n",
    "    #update the mlflow\n",
    "    mlflow.log_metric(key=\"Accuracy\", value=test_acc, step=seq)\n",
    "              \n",
    "    ### END OF LOOP"
   ]
  },
  {
   "cell_type": "code",
   "execution_count": 52,
   "metadata": {},
   "outputs": [],
   "source": [
    "# open http://localhost:5000 in browser, and observe the mflow results\n",
    "# take snapshots\n",
    "\n",
    "mlflow.end_run()"
   ]
  },
  {
   "cell_type": "code",
   "execution_count": 53,
   "metadata": {},
   "outputs": [
    {
     "data": {
      "text/plain": [
       "0.34661465883255005"
      ]
     },
     "execution_count": 53,
     "metadata": {},
     "output_type": "execute_result"
    }
   ],
   "source": [
    "Last_score"
   ]
  },
  {
   "cell_type": "code",
   "execution_count": 54,
   "metadata": {},
   "outputs": [
    {
     "name": "stdout",
     "output_type": "stream",
     "text": [
      "M\tmlruns/1/e7b2d43bff32475f8ae9567a25fb138b/meta.yaml\n"
     ]
    },
    {
     "name": "stderr",
     "output_type": "stream",
     "text": [
      "Already on 'master'\n"
     ]
    }
   ],
   "source": [
    "!git checkout master"
   ]
  },
  {
   "cell_type": "code",
   "execution_count": 55,
   "metadata": {},
   "outputs": [
    {
     "data": {
      "text/plain": [
       "637"
      ]
     },
     "execution_count": 55,
     "metadata": {},
     "output_type": "execute_result"
    }
   ],
   "source": [
    "train_data = pd.read_csv('merge_data.csv')\n",
    "len(train_data)"
   ]
  },
  {
   "cell_type": "code",
   "execution_count": 56,
   "metadata": {},
   "outputs": [
    {
     "data": {
      "text/plain": [
       "array([[0.        , 0.00001002, 0.00467072, ..., 0.00189841, 0.00000007,\n",
       "        0.9457989 ],\n",
       "       [0.00034926, 0.00002415, 0.99925107, ..., 0.00034332, 0.        ,\n",
       "        0.00000511],\n",
       "       [0.15795673, 0.01646828, 0.00430312, ..., 0.47656268, 0.00004833,\n",
       "        0.1868018 ],\n",
       "       ...,\n",
       "       [0.00179769, 0.00004188, 0.0000017 , ..., 0.84910244, 0.0000612 ,\n",
       "        0.14899504],\n",
       "       [0.98027647, 0.00029723, 0.00144998, ..., 0.01767191, 0.00026284,\n",
       "        0.00004128],\n",
       "       [0.00002008, 0.00012286, 0.04660907, ..., 0.00031034, 0.00008037,\n",
       "        0.9527911 ]], dtype=float32)"
      ]
     },
     "execution_count": 56,
     "metadata": {},
     "output_type": "execute_result"
    }
   ],
   "source": [
    "pred_test_labels = MODEL.predict(test_images)\n",
    "pred_test_labels"
   ]
  },
  {
   "cell_type": "markdown",
   "metadata": {},
   "source": [
    "# <h1 style='background:#CCCCCC; border:0; color:black'><center><span style=\"color: royalblue;\"><span style=\"color: royalblue;\">Analyse Convergence</span></span></center></h1> "
   ]
  },
  {
   "cell_type": "code",
   "execution_count": 57,
   "metadata": {
    "_kg_hide-input": true
   },
   "outputs": [
    {
     "data": {
      "image/png": "[encoded data removed]",
      "text/plain": [
       "<Figure size 432x288 with 1 Axes>"
      ]
     },
     "metadata": {
      "needs_background": "light"
     },
     "output_type": "display_data"
    }
   ],
   "source": [
    "loss = history.history['loss']\n",
    "loss_val = history.history['val_loss']\n",
    "epochs = range(1, len(loss)+1)\n",
    "plt.plot(epochs, loss, 'bo', label='loss_train')\n",
    "plt.plot(epochs, loss_val, 'b', label='loss_val')\n",
    "plt.title('value of the loss function')\n",
    "plt.xlabel('epochs')\n",
    "plt.ylabel('value of the loss function')\n",
    "plt.legend()\n",
    "plt.grid()\n",
    "plt.show()"
   ]
  },
  {
   "cell_type": "code",
   "execution_count": 58,
   "metadata": {
    "_kg_hide-input": true
   },
   "outputs": [
    {
     "data": {
      "image/png": "[encoded data removed]",
      "text/plain": [
       "<Figure size 432x288 with 1 Axes>"
      ]
     },
     "metadata": {
      "needs_background": "light"
     },
     "output_type": "display_data"
    }
   ],
   "source": [
    "acc = history.history['accuracy']\n",
    "acc_val = history.history['val_accuracy']\n",
    "epochs = range(1, len(loss)+1)\n",
    "plt.plot(epochs, acc, 'bo', label='accuracy_train')\n",
    "plt.plot(epochs, acc_val, 'b', label='accuracy_val')\n",
    "plt.title('accuracy')\n",
    "plt.xlabel('epochs')\n",
    "plt.ylabel('value of accuracy')\n",
    "plt.legend()\n",
    "plt.grid()\n",
    "plt.show()"
   ]
  },
  {
   "cell_type": "markdown",
   "metadata": {},
   "source": [
    "# <h1 style='background:#CCCCCC; border:0; color:black'><center><span style=\"color: royalblue;\"><span style=\"color: royalblue;\">Analyse Results</span></span></center></h1> "
   ]
  },
  {
   "cell_type": "code",
   "execution_count": 59,
   "metadata": {
    "_kg_hide-input": true
   },
   "outputs": [
    {
     "data": {
      "image/png": "[encoded data removed]",
      "text/plain": [
       "<Figure size 864x432 with 2 Axes>"
      ]
     },
     "metadata": {
      "needs_background": "light"
     },
     "output_type": "display_data"
    }
   ],
   "source": [
    "plot_image_and_emotion(test_image_array, test_image_label, pred_test_labels, 106)"
   ]
  },
  {
   "cell_type": "code",
   "execution_count": 60,
   "metadata": {
    "_kg_hide-input": true
   },
   "outputs": [
    {
     "data": {
      "image/png": "[encoded data removed]",
      "text/plain": [
       "<Figure size 864x432 with 2 Axes>"
      ]
     },
     "metadata": {
      "needs_background": "light"
     },
     "output_type": "display_data"
    }
   ],
   "source": [
    "plot_image_and_emotion(test_image_array, test_image_label, pred_test_labels, 40)"
   ]
  },
  {
   "cell_type": "code",
   "execution_count": 61,
   "metadata": {
    "_kg_hide-input": true
   },
   "outputs": [
    {
     "data": {
      "image/png": "[encoded data removed]",
      "text/plain": [
       "<Figure size 864x432 with 2 Axes>"
      ]
     },
     "metadata": {
      "needs_background": "light"
     },
     "output_type": "display_data"
    }
   ],
   "source": [
    "plot_compare_distributions(test_labels, pred_test_labels, title1='test labels', title2='predict labels')"
   ]
  },
  {
   "cell_type": "markdown",
   "metadata": {},
   "source": [
    "# <h1 style='background:#CCCCCC; border:0; color:black'><center><span style=\"color: royalblue;\"><span style=\"color: royalblue;\">Analyse Wrong Prediction</span></span></center></h1> \n",
    "The accuracy score is about 25% on the test set. So it is obvious to take focus on the wrong predictions. We want to extract details to improve the model."
   ]
  },
  {
   "cell_type": "code",
   "execution_count": 62,
   "metadata": {
    "_kg_hide-input": true
   },
   "outputs": [],
   "source": [
    "df_compare = pd.DataFrame()\n",
    "df_compare['real']  = test_labels.argmax(axis=1)\n",
    "df_compare['pred']  = pred_test_labels.argmax(axis=1)\n",
    "df_compare['wrong'] = np.where(df_compare['real']!=df_compare['pred'], 1, 0)"
   ]
  },
  {
   "cell_type": "code",
   "execution_count": 63,
   "metadata": {
    "_kg_hide-input": true
   },
   "outputs": [
    {
     "data": {
      "text/plain": [
       "array([[ 95,   0,  78, 107,  94,  23,  70],\n",
       "       [ 10,   1,  13,  10,  10,   3,   9],\n",
       "       [ 61,   3, 107,  81,  97,  67,  80],\n",
       "       [ 92,   2, 100, 483,  96,  22, 100],\n",
       "       [123,   1,  89, 107, 178,  38, 117],\n",
       "       [ 38,   0,  80,  42,  41, 181,  33],\n",
       "       [ 75,   1,  89,  94, 109,  40, 199]], dtype=int64)"
      ]
     },
     "execution_count": 63,
     "metadata": {},
     "output_type": "execute_result"
    }
   ],
   "source": [
    "conf_mat = confusion_matrix(test_labels.argmax(axis=1), pred_test_labels.argmax(axis=1))\n",
    "conf_mat"
   ]
  },
  {
   "cell_type": "code",
   "execution_count": 64,
   "metadata": {},
   "outputs": [
    {
     "name": "stderr",
     "output_type": "stream",
     "text": [
      "<ipython-input-64-45440dedc879>:6: UserWarning: Matplotlib is currently using module://ipykernel.pylab.backend_inline, which is a non-GUI backend, so cannot show the figure.\n",
      "  fig.show()\n"
     ]
    },
    {
     "data": {
      "image/png": "[encoded data removed]",
      "text/plain": [
       "<Figure size 576x576 with 1 Axes>"
      ]
     },
     "metadata": {
      "needs_background": "light"
     },
     "output_type": "display_data"
    }
   ],
   "source": [
    "fig, ax = plot_confusion_matrix(conf_mat=conf_mat,\n",
    "                                show_normed=True,\n",
    "                                show_absolute=False,\n",
    "                                class_names=emotions.values(),\n",
    "                                figsize=(8, 8))\n",
    "fig.show()"
   ]
  },
  {
   "cell_type": "markdown",
   "metadata": {},
   "source": [
    "### save the notebook in html format"
   ]
  },
  {
   "cell_type": "code",
   "execution_count": 71,
   "metadata": {},
   "outputs": [
    {
     "name": "stdout",
     "output_type": "stream",
     "text": [
      "This application is used to convert notebook files (*.ipynb) to various other\n",
      "formats.\n",
      "\n",
      "WARNING: THE COMMANDLINE INTERFACE MAY CHANGE IN FUTURE RELEASES.\n",
      "\n",
      "Options\n",
      "=======\n",
      "The options below are convenience aliases to configurable class-options,\n",
      "as listed in the \"Equivalent to\" description-line of the aliases.\n",
      "To see all configurable class-options for some <cmd>, use:\n",
      "    <cmd> --help-all\n",
      "\n",
      "--debug\n",
      "    set log level to logging.DEBUG (maximize logging output)\n",
      "    Equivalent to: [--Application.log_level=10]\n",
      "--generate-config\n",
      "    generate default config file\n",
      "    Equivalent to: [--JupyterApp.generate_config=True]\n",
      "-y\n",
      "    Answer yes to any questions instead of prompting.\n",
      "    Equivalent to: [--JupyterApp.answer_yes=True]\n",
      "--execute\n",
      "    Execute the notebook prior to export.\n",
      "    Equivalent to: [--ExecutePreprocessor.enabled=True]\n",
      "--allow-errors\n",
      "    Continue notebook execution even if one of the cells throws an error and include the error message in the cell output (the default behaviour is to abort conversion). This flag is only relevant if '--execute' was specified, too.\n",
      "    Equivalent to: [--ExecutePreprocessor.allow_errors=True]\n",
      "--stdin\n",
      "    read a single notebook file from stdin. Write the resulting notebook with default basename 'notebook.*'\n",
      "    Equivalent to: [--NbConvertApp.from_stdin=True]\n",
      "--stdout\n",
      "    Write notebook output to stdout instead of files.\n",
      "    Equivalent to: [--NbConvertApp.writer_class=StdoutWriter]\n",
      "--inplace\n",
      "    Run nbconvert in place, overwriting the existing notebook (only \n",
      "    relevant when converting to notebook format)\n",
      "    Equivalent to: [--NbConvertApp.use_output_suffix=False --NbConvertApp.export_format=notebook --FilesWriter.build_directory=]\n",
      "--clear-output\n",
      "    Clear output of current file and save in place, \n",
      "    overwriting the existing notebook.\n",
      "    Equivalent to: [--NbConvertApp.use_output_suffix=False --NbConvertApp.export_format=notebook --FilesWriter.build_directory= --ClearOutputPreprocessor.enabled=True]\n",
      "--no-prompt\n",
      "    Exclude input and output prompts from converted document.\n",
      "    Equivalent to: [--TemplateExporter.exclude_input_prompt=True --TemplateExporter.exclude_output_prompt=True]\n",
      "--no-input\n",
      "    Exclude input cells and output prompts from converted document. \n",
      "    This mode is ideal for generating code-free reports.\n",
      "    Equivalent to: [--TemplateExporter.exclude_output_prompt=True --TemplateExporter.exclude_input=True]\n",
      "--allow-chromium-download\n",
      "    Whether to allow downloading chromium if no suitable version is found on the system.\n",
      "    Equivalent to: [--WebPDFExporter.allow_chromium_download=True]\n",
      "--log-level=<Enum>\n",
      "    Set the log level by value or name.\n",
      "    Choices: any of [0, 10, 20, 30, 40, 50, 'DEBUG', 'INFO', 'WARN', 'ERROR', 'CRITICAL']\n",
      "    Default: 30\n",
      "    Equivalent to: [--Application.log_level]\n",
      "--config=<Unicode>\n",
      "    Full path of a config file.\n",
      "    Default: ''\n",
      "    Equivalent to: [--JupyterApp.config_file]\n",
      "--to=<Unicode>\n",
      "    The export format to be used, either one of the built-in formats\n",
      "    ['asciidoc', 'custom', 'html', 'html_ch', 'html_embed', 'html_toc',\n",
      "    'html_with_lenvs', 'html_with_toclenvs', 'latex', 'latex_with_lenvs',\n"
     ]
    },
    {
     "name": "stderr",
     "output_type": "stream",
     "text": [
      "[NbConvertApp] WARNING | pattern 'train.ipynb' matched no files\n"
     ]
    },
    {
     "name": "stdout",
     "output_type": "stream",
     "text": [
      "    'markdown', 'notebook', 'pdf', 'python', 'rst', 'script', 'selectLanguage',\n",
      "    'slides', 'slides_with_lenvs', 'webpdf'] or a dotted object name that\n",
      "    represents the import path for an `Exporter` class\n",
      "    Default: ''\n",
      "    Equivalent to: [--NbConvertApp.export_format]\n",
      "--template=<Unicode>\n",
      "    Name of the template to use\n",
      "    Default: ''\n",
      "    Equivalent to: [--TemplateExporter.template_name]\n",
      "--template-file=<Unicode>\n",
      "    Name of the template file to use\n",
      "    Default: None\n",
      "    Equivalent to: [--TemplateExporter.template_file]\n",
      "--writer=<DottedObjectName>\n",
      "    Writer class used to write the  results of the conversion\n",
      "    Default: 'FilesWriter'\n",
      "    Equivalent to: [--NbConvertApp.writer_class]\n",
      "--post=<DottedOrNone>\n",
      "    PostProcessor class used to write the results of the conversion\n",
      "    Default: ''\n",
      "    Equivalent to: [--NbConvertApp.postprocessor_class]\n",
      "--output=<Unicode>\n",
      "    overwrite base name use for output files. can only be used when converting\n",
      "    one notebook at a time.\n",
      "    Default: ''\n",
      "    Equivalent to: [--NbConvertApp.output_base]\n",
      "--output-dir=<Unicode>\n",
      "    Directory to write output(s) to. Defaults to output to the directory of each\n",
      "    notebook. To recover previous default behaviour (outputting to the current\n",
      "    working directory) use . as the flag value.\n",
      "    Default: ''\n",
      "    Equivalent to: [--FilesWriter.build_directory]\n",
      "--reveal-prefix=<Unicode>\n",
      "    The URL prefix for reveal.js (version 3.x). This defaults to the reveal CDN,\n",
      "    but can be any url pointing to a copy  of reveal.js.\n",
      "    For speaker notes to work, this must be a relative path to a local  copy of\n",
      "    reveal.js: e.g., \"reveal.js\".\n",
      "    If a relative path is given, it must be a subdirectory of the current\n",
      "    directory (from which the server is run).\n",
      "    See the usage documentation\n",
      "    (https://nbconvert.readthedocs.io/en/latest/usage.html#reveal-js-html-\n",
      "    slideshow) for more details.\n",
      "    Default: ''\n",
      "    Equivalent to: [--SlidesExporter.reveal_url_prefix]\n",
      "--nbformat=<Enum>\n",
      "    The nbformat version to write. Use this to downgrade notebooks.\n",
      "    Choices: any of [1, 2, 3, 4]\n",
      "    Default: 4\n",
      "    Equivalent to: [--NotebookExporter.nbformat_version]\n",
      "\n",
      "Examples\n",
      "--------\n",
      "\n",
      "    The simplest way to use nbconvert is\n",
      "    \n",
      "    > jupyter nbconvert mynotebook.ipynb --to html\n",
      "    \n",
      "    Options include ['asciidoc', 'custom', 'html', 'html_ch', 'html_embed', 'html_toc', 'html_with_lenvs', 'html_with_toclenvs', 'latex', 'latex_with_lenvs', 'markdown', 'notebook', 'pdf', 'python', 'rst', 'script', 'selectLanguage', 'slides', 'slides_with_lenvs', 'webpdf'].\n",
      "    \n",
      "    > jupyter nbconvert --to latex mynotebook.ipynb\n",
      "    \n",
      "    Both HTML and LaTeX support multiple output templates. LaTeX includes\n",
      "    'base', 'article' and 'report'.  HTML includes 'basic' and 'full'. You\n",
      "    can specify the flavor of the format used.\n",
      "    \n",
      "    > jupyter nbconvert --to html --template lab mynotebook.ipynb\n",
      "    \n",
      "    You can also pipe the output to stdout, rather than a file\n",
      "    \n",
      "    > jupyter nbconvert mynotebook.ipynb --stdout\n",
      "    \n",
      "    PDF is generated via latex\n",
      "    \n",
      "    > jupyter nbconvert mynotebook.ipynb --to pdf\n",
      "    \n",
      "    You can get (and serve) a Reveal.js-powered slideshow\n",
      "    \n",
      "    > jupyter nbconvert myslides.ipynb --to slides --post serve\n",
      "    \n",
      "    Multiple notebooks can be given at the command line in a couple of \n",
      "    different ways:\n",
      "    \n",
      "    > jupyter nbconvert notebook*.ipynb\n",
      "    > jupyter nbconvert notebook1.ipynb notebook2.ipynb\n",
      "    \n",
      "    or you can specify the notebooks list in a config file, containing::\n",
      "    \n",
      "        c.NbConvertApp.notebooks = [\"my_notebook.ipynb\"]\n",
      "    \n",
      "    > jupyter nbconvert --config mycfg.py\n",
      "\n",
      "To see all available configurables, use `--help-all`.\n",
      "\n"
     ]
    }
   ],
   "source": [
    "!jupyter nbconvert train.ipynb --to html"
   ]
  },
  {
   "cell_type": "code",
   "execution_count": 67,
   "metadata": {},
   "outputs": [
    {
     "name": "stdout",
     "output_type": "stream",
     "text": [
      "31-05-2021 20:06:23: Finished Successfully\n"
     ]
    }
   ],
   "source": [
    "import datetime\n",
    "now = datetime.datetime.now()\n",
    "print(f\"{now.strftime('%d-%m-%Y %H:%M:%S')}: Finished Successfully\")"
   ]
  },
  {
   "cell_type": "code",
   "execution_count": null,
   "metadata": {},
   "outputs": [],
   "source": []
  }
 ],
 "metadata": {
  "kernelspec": {
   "display_name": "Python 3",
   "language": "python",
   "name": "python3"
  },
  "language_info": {
   "codemirror_mode": {
    "name": "ipython",
    "version": 3
   },
   "file_extension": ".py",
   "mimetype": "text/x-python",
   "name": "python",
   "nbconvert_exporter": "python",
   "pygments_lexer": "ipython3",
   "version": "3.8.5"
  }
 },
 "nbformat": 4,
 "nbformat_minor": 4
}
